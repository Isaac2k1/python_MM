{
 "cells": [
  {
   "cell_type": "markdown",
   "metadata": {},
   "source": [
    "# Python classes\n",
    "Exercise given by Ale (2020-04-28)\n",
    "\n",
    "Program class to calculate the addition of two fractions with maintaining the correct result and also reduce dividend and divisor.\n",
    "\n",
    "$a = \\frac{1}{4}$\n",
    "\n",
    "\n",
    "$b = \\frac{3}{2}$"
   ]
  },
  {
   "cell_type": "code",
   "execution_count": 2,
   "metadata": {},
   "outputs": [
    {
     "name": "stdout",
     "output_type": "stream",
     "text": [
      "2/3 + 1/4 = 11/12\n",
      "2/3 - 1/4 = 5/12\n",
      "2/3 * 1/4 = 1/6\n",
      "2/3 / 1/4 = 11/12\n"
     ]
    }
   ],
   "source": [
    "# https://stackoverflow.com/questions/11175131/code-for-greatest-common-divisor-in-python\n",
    "'''\n",
    "def gcd(x, y):\n",
    "    while y != 0:\n",
    "        (x, y) = (y, x % y)\n",
    "    return x\n",
    "'''\n",
    "\n",
    "def gcd(a, b):\n",
    "    while b != 0:\n",
    "        a, b = b, a % b\n",
    "    return a\n",
    "\n",
    "class Frac:\n",
    "    def __init__(self, nominator, denominator):\n",
    "        self.nominator = nominator\n",
    "        self.denominator = denominator\n",
    "        \n",
    "    def __add__(self, other):\n",
    "        a = self.nominator * other.denominator + other.nominator * self.denominator\n",
    "        b = self.denominator * other.denominator\n",
    "        \n",
    "        c = gcd(a, b)\n",
    "        a = a // c\n",
    "        b = b // c\n",
    "        \n",
    "        return Frac(a, b) \n",
    "\n",
    "    def __sub__(self, other):\n",
    "        a = self.nominator * other.denominator - other.nominator * self.denominator\n",
    "        b = self.denominator * other.denominator\n",
    "        \n",
    "        c = gcd(a, b)\n",
    "        a = a // c\n",
    "        b = b // c\n",
    "        \n",
    "        return Frac(a, b) \n",
    "\n",
    "    def __mul__(self, other):\n",
    "        a = self.nominator * other.nominator\n",
    "        b = self.denominator * other.denominator\n",
    "        \n",
    "        c = gcd(a, b)\n",
    "        a = a // c\n",
    "        b = b // c\n",
    "        \n",
    "        return Frac(a, b) \n",
    "\n",
    "    def __floordiv__(self, other):\n",
    "        a = self.nominator * other.nominator\n",
    "        b = self.denominator * other.denominator\n",
    "        \n",
    "        c = gcd(a, b)\n",
    "        a = a // c\n",
    "        b = b // c\n",
    "        \n",
    "        return Frac(a, b) \n",
    "\n",
    "    \n",
    "    def __str__(self):\n",
    "        return str(self.nominator) + '/' + str(self.denominator)\n",
    "\n",
    "\n",
    "a = Frac(2, 3) #(3, 2)\n",
    "b = Frac(1, 4)\n",
    "\n",
    "print(f'{a} + {b} = {a + b}')\n",
    "print(f'{a} - {b} = {a - b}')\n",
    "print(f'{a} * {b} = {a * b}')\n",
    "print(f'{a} / {b} = {a + b}')\n"
   ]
  },
  {
   "cell_type": "code",
   "execution_count": 4,
   "metadata": {},
   "outputs": [
    {
     "name": "stdout",
     "output_type": "stream",
     "text": [
      "4 2\n",
      "2 0\n",
      "2\n"
     ]
    }
   ],
   "source": [
    "def gcd(a, b):\n",
    "    while b != 0:\n",
    "        a, b = b, a % b\n",
    "        print(a,b)\n",
    "    return a\n",
    "\n",
    "a = 2\n",
    "b = 4\n",
    "\n",
    "print(gcd(a,b))"
   ]
  },
  {
   "cell_type": "code",
   "execution_count": null,
   "metadata": {},
   "outputs": [],
   "source": []
  }
 ],
 "metadata": {
  "kernelspec": {
   "display_name": "Python 3",
   "language": "python",
   "name": "python3"
  },
  "language_info": {
   "codemirror_mode": {
    "name": "ipython",
    "version": 3
   },
   "file_extension": ".py",
   "mimetype": "text/x-python",
   "name": "python",
   "nbconvert_exporter": "python",
   "pygments_lexer": "ipython3",
   "version": "3.9.0+"
  }
 },
 "nbformat": 4,
 "nbformat_minor": 2
}
