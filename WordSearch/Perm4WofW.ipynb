{
 "cells": [
  {
   "cell_type": "code",
   "execution_count": 8,
   "metadata": {},
   "outputs": [
    {
     "name": "stdout",
     "output_type": "stream",
     "text": [
      "start reformatting of wordlist...\n",
      "...ferdisch, found 326947 words\n"
     ]
    }
   ],
   "source": [
    "# perm4WofW helper to solve Words of Wonders (German language, others possible)\n",
    "'''\n",
    "Get German word list from\n",
    "https://www1.ids-mannheim.de/kl/projekte/methoden/derewo.html\n",
    "Rename to DeReWo.txt and store it a readable ASCII format.\n",
    "'''\n",
    "\n",
    "liste = set()\n",
    "def analine(line, liste):\n",
    "    '''analine analyses a line of the word list and generates the word(s) for liste. Since liste is a set\n",
    "    there is no repetition of words. Also case is changed to upper.'''\n",
    "    import re  \n",
    "    line = re.split(' ', line)[0]\n",
    "    if ' ' in line:\n",
    "        parts = re.split(' ', line)\n",
    "        liste.add(parts[0])\n",
    "    if '(' in line:\n",
    "        parts = re.split('\\(|\\)', line)\n",
    "        liste.add(parts[0]) # append root word\n",
    "        brackets = re.split(',',parts[1])\n",
    "        for sil in brackets:\n",
    "            liste.add(parts[0]+sil)\n",
    "    else:\n",
    "        if ',' in line:\n",
    "            for sil in line.split(\",\"):\n",
    "                liste.add(sil)\n",
    "        else:\n",
    "            liste.add(line)\n",
    "             \n",
    "    return liste\n",
    "\n",
    "ObjRead = open(\"DeReWo.txt\", \"r\")\n",
    "print(\"start reformatting of wordlist...\")\n",
    "words = 0\n",
    "with ObjRead as textfile:\n",
    "    while True:    \n",
    "        line = textfile.readline()\n",
    "        analine(line.upper(), liste)\n",
    "#        if words < 50:\n",
    "#            print(line, liste)\n",
    "        words += 1\n",
    "        \n",
    "        if len(line) == 0:\n",
    "            break\n",
    "\n",
    "print(\"...ferdisch, found\",words,\"words\")\n",
    "ObjRead.close()"
   ]
  },
  {
   "cell_type": "code",
   "execution_count": 9,
   "metadata": {},
   "outputs": [
    {
     "name": "stdout",
     "output_type": "stream",
     "text": [
      "['In', 'ObjRead', 'Out', '_', '__', '___', '__builtin__', '__builtins__', '__doc__', '__loader__', '__name__', '__package__', '__spec__', '_dh', '_i', '_i1', '_i2', '_i3', '_i4', '_i5', '_i6', '_i7', '_i8', '_i9', '_ih', '_ii', '_iii', '_oh', 'alles', 'analine', 'col_indexes', 'data', 'display_array', 'exit', 'first', 'found', 'found_words', 'generate_words', 'get_ipython', 'hugo', 'i', 'itertools', 'j', 'length_sort', 'line', 'liste', 'max_words', 'permutations', 'quit', 'second', 'summe', 'textfile', 'willi', 'word', 'word2print', 'words']\n"
     ]
    }
   ],
   "source": [
    "print(dir())"
   ]
  },
  {
   "cell_type": "code",
   "execution_count": 14,
   "metadata": {
    "scrolled": true
   },
   "outputs": [
    {
     "name": "stdout",
     "output_type": "stream",
     "text": [
      "enter your searchword:index\n",
      "The string index has 300 unique combinations.\n",
      "There is 12 words in the German dictionary.\n",
      "start length_sort ['DEIN', 'DIE', 'DIEN', 'EID', 'EIN', 'IDEN', 'INDEX', 'NEID', 'NID', 'NIE', 'NIX', 'NIXE'] ^^^^\n",
      "5\n",
      "[[], [], [], ['HUT', 'SUL'], ['LUST'], ['STUHL']]\n",
      "maxwords 6 end length_sort\n",
      "col_indexes: [3, 4, 5]\n",
      "6\n",
      "5\n",
      "1\n",
      "max_words: 6\n",
      "DIE DEIN INDEX \n",
      "EID DIEN _____ \n",
      "EIN IDEN _____ \n",
      "NID NEID _____ \n",
      "NIE NIXE _____ \n",
      "NIX ____ _____ \n"
     ]
    }
   ],
   "source": [
    "'''Enter the letters given in game 'Words of Wonders' as searchword\n",
    "program produces all combinations of given letters and reduces down \n",
    "to three letter words. Then all words of DeReWo are checked if they appear \n",
    "in permutations of searchword letters.'''\n",
    "\n",
    "# Ale's refactor from 2020-03-29 19h01\n",
    "import itertools\n",
    "\n",
    "def generate_words(data):\n",
    "    permutations = []\n",
    "    for i in range(len(data), 2, -1): # second parameter: length of shortest word -1\n",
    "        permutations = permutations + [''.join(p) for p in itertools.permutations(data, i)]\n",
    "    return permutations\n",
    "\n",
    "def length_sort(foundwords, displayarray, colindexes, maxwords):\n",
    "    \"\"\"foundwords contains the input list of words to be sorted into displayarray\"\"\"\n",
    "    displayarray = [[]]\n",
    "    colindexes = []\n",
    "    maxwords = 0\n",
    "    print(\"start length_sort\",foundwords ,\"^^^^\")\n",
    "    # Sort words according length\n",
    "    longestword = len(max(foundwords, key=len))\n",
    "    print(longestword)\n",
    "    # Prepare array to store lists with for each word lenght group\n",
    "    for i in range(longestword):\n",
    "        displayarray.append([])\n",
    "    # Append word to its word length group list\n",
    "    for word in foundwords:\n",
    "        displayarray[len(word)].append(word)\n",
    "    print(display_array)\n",
    "\n",
    "    # Prepare table of words for column output\n",
    "    for line in displayarray:\n",
    "        len_line = len(line)\n",
    "        if len_line > 0:\n",
    "            colindexes.append(len(line[0]))\n",
    "            if maxwords < len_line:\n",
    "                maxwords = len_line\n",
    "    print(\"maxwords\", maxwords, \"end length_sort\")\n",
    "    return foundwords, displayarray, colindexes, maxwords\n",
    "\n",
    "# === MAIN PROGRAM ===\n",
    "data = input(\"enter your searchword:\")\n",
    "permutations = generate_words(data.upper())\n",
    "#print(permutations) # do not print 324567 words ;-)\n",
    "print(\"The string\", data, \"has\", len(permutations), \"unique combinations.\")\n",
    "\n",
    "found = 0\n",
    "found_words = []\n",
    "max_words = 0\n",
    "\n",
    "for word in liste: # this could be speeded-up by sorting liste for length\n",
    "    # and test only words of liste up to the length of searchword\n",
    "    if word in permutations:\n",
    "        found_words.append(word)\n",
    "print(\"There is\", len(found_words), \"words in the German dictionary.\")\n",
    "found_words.sort()\n",
    "#for word in found_words:\n",
    "#    print(word, len(word))\n",
    "\n",
    "found_words, display_array, col_indexes, max_words = length_sort(found_words, display_array, col_indexes, max_words)\n",
    "\n",
    "print(\"col_indexes:\", col_indexes)\n",
    "for i in col_indexes:\n",
    "    print(len(display_array[i]))\n",
    "#max_words = max(col_indexes, key=len)\n",
    "\n",
    "print(\"max_words:\", max_words)\n",
    "# Print table in columns with increasing string length\n",
    "for i in range(max_words):\n",
    "    for j in col_indexes:\n",
    "        try: \n",
    "            word2print = display_array[j][i]\n",
    "            print(word2print, end = \" \")\n",
    "        except IndexError:\n",
    "            print(j*\"_\", end = \" \")\n",
    "    print(\"\")"
   ]
  },
  {
   "cell_type": "code",
   "execution_count": 15,
   "metadata": {},
   "outputs": [
    {
     "name": "stdout",
     "output_type": "stream",
     "text": [
      "foundwords contains the input list of words to be sorted into displayarray\n"
     ]
    }
   ],
   "source": [
    "print(length_sort.__doc__)"
   ]
  },
  {
   "cell_type": "code",
   "execution_count": 11,
   "metadata": {
    "scrolled": true
   },
   "outputs": [
    {
     "name": "stdout",
     "output_type": "stream",
     "text": [
      "['HUT', 'LUST', 'STUHL', 'SUL']\n",
      "5\n"
     ]
    }
   ],
   "source": [
    "print(found_words)\n",
    "longestword = len(max(found_words, key=len))\n",
    "print(longestword)"
   ]
  },
  {
   "cell_type": "code",
   "execution_count": 3,
   "metadata": {},
   "outputs": [
    {
     "name": "stdout",
     "output_type": "stream",
     "text": [
      "1 2\n",
      "5 8\n",
      "5 + 8 = 13\n"
     ]
    }
   ],
   "source": [
    "first = 1\n",
    "second = 2\n",
    "summe = 0\n",
    "\n",
    "def length_sort(foundwords, displayarray, summe): #, colindexes, maxwords):\n",
    "    print(foundwords, displayarray)\n",
    "    foundwords += 4\n",
    "    displayarray += 6\n",
    "    summe = foundwords + displayarray\n",
    "    print(foundwords, displayarray)\n",
    "    return foundwords, displayarray, summe #, colindexes, maxwords\n",
    "\n",
    "hugo, willi, alles = length_sort(first,second, summe)\n",
    "print(hugo, \"+\", willi, \"=\", alles)"
   ]
  }
 ],
 "metadata": {
  "celltoolbar": "Raw Cell Format",
  "interpreter": {
   "hash": "b3ba2566441a7c06988d0923437866b63cedc61552a5af99d1f4fb67d367b25f"
  },
  "kernelspec": {
   "display_name": "Python 3 (ipykernel)",
   "language": "python",
   "name": "python3"
  },
  "language_info": {
   "codemirror_mode": {
    "name": "ipython",
    "version": 3
   },
   "file_extension": ".py",
   "mimetype": "text/x-python",
   "name": "python",
   "nbconvert_exporter": "python",
   "pygments_lexer": "ipython3",
   "version": "3.7.3"
  }
 },
 "nbformat": 4,
 "nbformat_minor": 2
}
