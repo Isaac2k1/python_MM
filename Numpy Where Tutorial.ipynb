{
 "cells": [
  {
   "cell_type": "markdown",
   "metadata": {},
   "source": [
    "# NumPy Where Tutorial (With Examples)\n",
    "Posted by: Mokhtar Ebrahim  in Python June 2nd, 2020 0 26 Views\n",
    "\n",
    "https://www.webcodegeeks.com/python/numpy-where-tutorial-with-examples/\n",
    "\n",
    "Looking up for entries that satisfy a specific condition is a painful process, especially if you are searching it in a large dataset having hundreds or thousands of entries. If you know the fundamental SQL queries, you must be aware of the ‘WHERE’ clause that is used with the SELECT statement to fetch such entries from a relational database that satisfy certain conditions.\n",
    "\n",
    "NumPy offers similar functionality to find such items in a NumPy array that satisfy a given Boolean condition through its ‘where()‘ function — except that it is used in a slightly different way than the SQL SELECT statement with the WHERE clause.\n",
    "\n",
    "In this tutorial, we’ll look at the various ways the NumPy where function can be used for a variety of use cases. Let’s get going.\n",
    "\n",
    "# A very simple usage of NumPy where\n",
    "\n",
    "Let’s begin with a simple application of ‘np.where()‘ on a 1-dimensional NumPy array of integers.\n",
    "\n",
    "We will use ‘np.where’ function to find positions with values that are less than 5.\n",
    "We’ll first create a 1-dimensional array of 10 integer values randomly chosen between 0 and 9.\n"
   ]
  },
  {
   "cell_type": "code",
   "execution_count": 14,
   "metadata": {},
   "outputs": [
    {
     "name": "stdout",
     "output_type": "stream",
     "text": [
      "a = [4 4 5 7 2 7 6 1 6 5]\n"
     ]
    }
   ],
   "source": [
    "import numpy as np\n",
    "a = numpy.random.randint(10, size = (10))\n",
    "print(\"a = {}\".format(a))"
   ]
  },
  {
   "cell_type": "markdown",
   "metadata": {},
   "source": [
    "Now we will call ‘np.where’ with the condition ‘a < 5’ i.e we’re asking ‘np.where’ to tell us where in the array a are the values less than 5.\n",
    "It will return us an array of indices where the specified condition is satisfied.\n"
   ]
  },
  {
   "cell_type": "code",
   "execution_count": 15,
   "metadata": {},
   "outputs": [
    {
     "name": "stdout",
     "output_type": "stream",
     "text": [
      "(array([0, 1, 4, 7]),)\n"
     ]
    }
   ],
   "source": [
    "result = np.where(a < 5)\n",
    "print(result)"
   ]
  },
  {
   "cell_type": "markdown",
   "metadata": {},
   "source": [
    "We get the indices 1,3,6,9 as output and it can be verified from the array that the values at these positions are indeed less than 5.\n",
    "Note that the returned value is a 1-element tuple. This tuple has an array of indices.\n",
    "We’ll understand the reason for the result being returned as a tuple when we discuss np.where on 2D arrays.\n",
    "\n",
    "# How does NumPy where work?\n",
    "\n",
    "To understand what goes on inside the complex expression involving the ‘np.where’ function, it is important to understand the first parameter of ‘np.where’, that is, the condition.\n",
    "\n",
    "When we call a Boolean expression involving NumPy array such as ‘a > 2’ or ‘a % 2 == 0’, it actually returns a NumPy array of Boolean values.\n",
    "\n",
    "This array has the value True at positions where the condition evaluates to True and has the value False elsewhere. This serves as a ‘mask‘ for NumPy where function.\n",
    "Here is a code example."
   ]
  },
  {
   "cell_type": "code",
   "execution_count": 16,
   "metadata": {},
   "outputs": [
    {
     "name": "stdout",
     "output_type": "stream",
     "text": [
      "a > 5:\n",
      "[False  True  True  True  True  True  True False False]\n"
     ]
    }
   ],
   "source": [
    "a = np.array([1, 10, 13, 8, 7, 9, 6, 3, 0])\n",
    "print (\"a > 5:\")\n",
    "print(a > 5)"
   ]
  },
  {
   "cell_type": "markdown",
   "metadata": {},
   "source": [
    "So what we effectively do is that we pass an array of Boolean values to the ‘np.where’ function which then returns the indices where the array had the value True.\n",
    "\n",
    "This can be verified by passing a constant array of Boolean values instead of specifying the condition on the array that we usually do."
   ]
  },
  {
   "cell_type": "code",
   "execution_count": 17,
   "metadata": {},
   "outputs": [
    {
     "name": "stdout",
     "output_type": "stream",
     "text": [
      "(array([0, 1, 2]),)\n"
     ]
    }
   ],
   "source": [
    "bool_array = np.array([True, True, True, False, False, False, False, False, False])\n",
    "print(np.where(bool_array))"
   ]
  },
  {
   "cell_type": "markdown",
   "metadata": {},
   "source": [
    "Notice how, instead of passing a condition on an array of actual values, we passed a Boolean array and the ‘np.where’ function returned us the indices where the values were True.\n",
    "\n",
    "# 2D matrices\n",
    "Now that we have seen it on 1-dimensional NumPy arrays, let us understand how would ‘np.where’ behave on 2D matrices.\n",
    "\n",
    "The idea remains the same. We call the ‘np.where’ function and pass a condition on a 2D matrix. The difference is in the way it returns the result indices.\n",
    "\n",
    "Earlier, np.where returned a 1-dimensional array of indices (stored inside a tuple) for a 1-D array, specifying the positions where the values satisfy a given condition.\n",
    "\n",
    "But in the case of a 2D matrix, a single position is specified using 2 values — the row index and the column index.\n",
    "\n",
    "So in this case, np.where will return 2 arrays, the first one carrying the row indices and the second one carrying the corresponding column indices.\n",
    "\n",
    "Both these rows and column index arrays are stored inside a tuple (now you know why we got a tuple as an answer even in case of a 1-D array).\n",
    "\n",
    "Let’s see this in action to better understand it. We’ll write a code to find where in a 3×3 matrix are the entries divisible by 2."
   ]
  }
 ],
 "metadata": {
  "kernelspec": {
   "display_name": "Python 3",
   "language": "python",
   "name": "python3"
  },
  "language_info": {
   "codemirror_mode": {
    "name": "ipython",
    "version": 3
   },
   "file_extension": ".py",
   "mimetype": "text/x-python",
   "name": "python",
   "nbconvert_exporter": "python",
   "pygments_lexer": "ipython3",
   "version": "3.7.1"
  }
 },
 "nbformat": 4,
 "nbformat_minor": 2
}
