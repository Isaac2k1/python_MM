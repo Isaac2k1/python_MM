{
 "cells": [
  {
   "cell_type": "code",
   "execution_count": 3,
   "id": "opened-committee",
   "metadata": {},
   "outputs": [
    {
     "name": "stdout",
     "output_type": "stream",
     "text": [
      "['Beastars']\n"
     ]
    }
   ],
   "source": [
    "anime = []\n",
    "anime.append(\"Beastars\")\n",
    "print(anime)"
   ]
  },
  {
   "cell_type": "code",
   "execution_count": 9,
   "id": "trained-facial",
   "metadata": {},
   "outputs": [],
   "source": [
    "anime = [\n",
    "  \"Promised Neverland\",\n",
    "  \"Attack on Titan\",\n",
    "  \"Re:Zero\",\n",
    "  \"Beastars\"\n",
    "]"
   ]
  },
  {
   "cell_type": "code",
   "execution_count": 5,
   "id": "welsh-album",
   "metadata": {},
   "outputs": [
    {
     "name": "stdout",
     "output_type": "stream",
     "text": [
      "['Promised Neverland', 'Attack on Titan', 'Re:Zero', 'Beastars']\n"
     ]
    }
   ],
   "source": [
    "print(anime)"
   ]
  },
  {
   "cell_type": "code",
   "execution_count": 6,
   "id": "provincial-refund",
   "metadata": {},
   "outputs": [
    {
     "data": {
      "text/plain": [
       "'Beastars'"
      ]
     },
     "execution_count": 6,
     "metadata": {},
     "output_type": "execute_result"
    }
   ],
   "source": [
    "anime.pop()"
   ]
  },
  {
   "cell_type": "code",
   "execution_count": 7,
   "id": "frozen-penalty",
   "metadata": {},
   "outputs": [
    {
     "name": "stdout",
     "output_type": "stream",
     "text": [
      "['Promised Neverland', 'Attack on Titan', 'Re:Zero']\n"
     ]
    }
   ],
   "source": [
    "print(anime)"
   ]
  },
  {
   "cell_type": "code",
   "execution_count": 10,
   "id": "certified-aquarium",
   "metadata": {},
   "outputs": [
    {
     "name": "stdout",
     "output_type": "stream",
     "text": [
      "['Promised Neverland', 'Attack on Titan', 'Re:Zero']\n",
      "['Promised Neverland', 'Attack on Titan']\n",
      "['Promised Neverland']\n",
      "[]\n"
     ]
    }
   ],
   "source": [
    "while anime:\n",
    "  anime.pop()\n",
    "  print(anime)"
   ]
  },
  {
   "cell_type": "code",
   "execution_count": 12,
   "id": "grand-toddler",
   "metadata": {},
   "outputs": [
    {
     "name": "stdout",
     "output_type": "stream",
     "text": [
      "[8, 1, 3, 5]\n"
     ]
    }
   ],
   "source": [
    "dupes = [1, 3, 8, 3, 5]\n",
    "unique = list(set(dupes))\n",
    "print(unique)"
   ]
  },
  {
   "cell_type": "code",
   "execution_count": 13,
   "id": "affiliated-bronze",
   "metadata": {},
   "outputs": [
    {
     "name": "stdout",
     "output_type": "stream",
     "text": [
      "{1: None, 3: None, 8: None, 5: None}\n"
     ]
    }
   ],
   "source": [
    "dupes = [1, 3, 8, 3, 5]\n",
    "unique = dict.fromkeys(dupes)\n",
    "print(unique)"
   ]
  },
  {
   "cell_type": "code",
   "execution_count": 14,
   "id": "approved-maintenance",
   "metadata": {},
   "outputs": [
    {
     "name": "stdout",
     "output_type": "stream",
     "text": [
      "[1 3 5 8]\n"
     ]
    }
   ],
   "source": [
    "import numpy as np\n",
    "dupes = [1, 3, 8, 3, 5]\n",
    "unique = np.unique(dupes)\n",
    "print(unique)"
   ]
  },
  {
   "cell_type": "code",
   "execution_count": null,
   "id": "nearby-sleeping",
   "metadata": {},
   "outputs": [],
   "source": []
  }
 ],
 "metadata": {
  "kernelspec": {
   "display_name": "Python 3",
   "language": "python",
   "name": "python3"
  },
  "language_info": {
   "codemirror_mode": {
    "name": "ipython",
    "version": 3
   },
   "file_extension": ".py",
   "mimetype": "text/x-python",
   "name": "python",
   "nbconvert_exporter": "python",
   "pygments_lexer": "ipython3",
   "version": "3.9.2+"
  }
 },
 "nbformat": 4,
 "nbformat_minor": 5
}
