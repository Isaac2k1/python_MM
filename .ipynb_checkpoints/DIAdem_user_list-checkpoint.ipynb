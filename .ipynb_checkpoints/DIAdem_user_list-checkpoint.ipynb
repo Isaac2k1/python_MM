{
 "cells": [
  {
   "cell_type": "markdown",
   "metadata": {},
   "source": [
    "# Analysis of file DIAdem user list\n",
    "## Final aim \n",
    "Create user table and check if all email addresses can be associated to user names."
   ]
  },
  {
   "cell_type": "code",
   "execution_count": 5,
   "metadata": {},
   "outputs": [
    {
     "name": "stdout",
     "output_type": "stream",
     "text": [
      "Total of 94 email addresses found\n",
      "['andrea.brognara@id.abb.com', 'andreas.wetzel@ch.abb.com', 'angelos.garyfallos@ch.abb.com', 'astrid.bauer@ch.abb.com', 'benjamin.kaufmann@ch.abb.com', 'bernardo.galletti@ch.abb.com', 'christoph.koller@ch.abb.com', 'david.saxl@ch.abb.com', 'dina.valeeva@ch.abb.com', 'elmar.strittmatter@ch.abb.com', 'emmanouil.panousis@ch.abb.com', 'ennio.errico@it.abb.com', 'esteban.zimmermann@ch.abb.com', 'Florian.Brandl@ch.abb.com', 'hans.sjoekvist@ch.abb.com', 'jennifer-ruiqiong.pan@cn.abb.com', 'julian.josephsohn@ch.abb.com', 'labor.mechanik@ch.abb.com', 'labor.mechanik@ch.abb.com', 'labor.mechanik@ch.abb.com', 'labor.mechanik@ch.abb.com', 'lise.donzel@ch.abb.com', 'lorenzo.scotti@it.abb.com', 'lukas.e.zehnder@ch.abb.com', 'manuel.naef@ch.abb.com', 'marko.brilli@fi.abb.com', 'markus.bujotzek@ch.abb.com', 'martin.kriegel@ch.abb.com', 'matteo.calamari@it.abb.com', 'matthias.menzi@ch.abb.com', 'michael.demtschenko@ch.abb.com', 'michael.kleimaier@ch.abb.com', 'michael.schwinne@ch.abb.com', 'michael.stanek@ch.abb.com', 'michel.fernandes@ch.abb.com', 'michel.nagel@ch.abb.com', 'mirko.palazzo@ch.abb.com', 'nadir.amari@it.abb.com', 'nicolas.pilatte@ch.abb.com', 'nitesh.ranjan@ch.abb.com', 'oliver.cossalter@ch.abb.com', 'omega.ai-rechner@ch.abb.com', 'omega.customer@ch.abb.com', 'patrick.fehlmann@ch.abb.com', 'patrick.p.meier@ch.abb.com', 'peter.u.frei@ch.abb.com', 'pi.ai-rechner@ch.abb.com', 'pi.customer@ch.abb.com', 'raffael.buehler@ch.abb.com', 'rene.kallweit@ch.abb.com', 'richard.gao@ch.abb.com', 'ricky.hirsch@ch.abb.com', 'Rijo-Jude.Raphael@ch.abb.com', 'roman.eggel@ch.abb.com', 'rosy.raysaha@in.abb.com', 'sara.romani@it.abb.com', 'sergio.parrotta@ch.abb.com', 'shaker.messplatz@ch.abb.com', 'stefan.arndt@ch.abb.com', 'stephan.grob@ch.abb.com', 'stephan.kalt@ch.abb.com', 'steven-xiuming.xu@cn.abb.com', 'thomas.baier@ch.abb.com', 'thomas.kuhlmann@ch.abb.com', 'wayne-wenyong.wang@cn.abb.com', 'william-wei.di@cn.abb.com', 'benjamin.bigler@ch.abb.com', 'eugen.graf@de.abb.com', 'joern-malte.darnehl@de.abb.com', 'johannes.glaab@de.abb.com', 'justin-jing.xu@cn.abb.com', 'krunal.kansara@in.abb.com', 'mahesh.dhotre@ch.abb.com', 'matjan.nuredini@ch.abb.com', 'michael.gatzsche@ch.abb.com', 'minzhong.yang@cn.abb.com', 'nico.chalupa@de.abb.com', 'niels.jelting@ch.abb.com', 'patrick.stoller@ch.abb.com', 'peng.lu@ch.abb.com', 'philip.streit@ch.abb.com', 'reto.karrer@ch.abb.com', 'reto.neuenschwander@ch.abb.com', 'robert.voss@ch.abb.com', 'sadiya.sardara@ch.abb.com', 'sairam.nandula@in.abb.com', 'stefan.laeber@ch.abb.com', 'sumedh.pawar@in.abb.com', 'thomas.klose@de.abb.com', 'tobias.schiller@de.abb.com', 'uwe.przybille@de.abb.com', 'valeria.teppati@ch.abb.com', 'vincent.dousset@ch.abb.com', 'walter.a.gassmann@ch.abb.com']\n"
     ]
    }
   ],
   "source": [
    "from array import *\n",
    "emails = []\n",
    "searchfor = '.abb.com'\n",
    "\n",
    "# read the source file\n",
    "FileName = 'DIAdem_loosers1.txt'\n",
    "with open(FileName, 'r') as textfile:\n",
    "    while True:    \n",
    "        next_line = textfile.readline() # reading of one or more lines in textfile\n",
    "        addresses = next_line.split(searchfor) # searchfor string is removed from results\n",
    "        for address in addresses:\n",
    "            if len(address) > 1: # an email address qualifies by having more than one charachter\n",
    "                emails.append(address+searchfor) # append what was removed\n",
    "        if len(next_line) == 0:\n",
    "            break  # EOF reached\n",
    "print(f'Total of {len(emails)} email addresses found')\n",
    "# print(emails)"
   ]
  },
  {
   "cell_type": "code",
   "execution_count": 7,
   "metadata": {},
   "outputs": [],
   "source": [
    "# s = [[[u'example', u'example2'], [u'example', u'example2'], [u'example', u'example2']], [[5.926582278481011, 10.012500000000001, 7.133823529411763, 8.257352941176471, 7.4767647058823545]]]\n",
    "\n",
    "import csv\n",
    "\n",
    "col1 = [emails[0] for i in emails[0]]\n",
    "# col2 = [i[1] for i in s[0]]\n",
    "# col3 = s[1][0]\n",
    "\n",
    "with open('DIAdem_users.csv', 'w') as o:\n",
    "    writer = csv.writer(o, delimiter=',')\n",
    "    writer.writerows(zip(col1, col1, col1))"
   ]
  },
  {
   "cell_type": "code",
   "execution_count": null,
   "metadata": {},
   "outputs": [],
   "source": [
    "from array import *\n",
    "emails = []\n",
    "\n",
    "def harvest_email(input_string):\n",
    "    beg = 0\n",
    "    searchfor = '.abb.com'\n",
    "    end=len(input_string)\n",
    "    index = input_string.endswith(searchfor, beg, end)\n",
    "    print(index)\n",
    "    if index > 0:\n",
    "        print(index, input_string)\n",
    "        \n",
    "        \n",
    "    emails.append(input_string)\n",
    "\n",
    "# read the source file\n",
    "FileName = 'DIAdem_loosers.txt'\n",
    "with open(FileName, 'r') as textfile:\n",
    "    while True:    \n",
    "        next_line = textfile.readline()\n",
    "        print(next_line,len(next_line))\n",
    "        harvest_email(next_line)\n",
    "        emails.append(next_line)\n",
    "        if len(next_line) == 0:\n",
    "            break\n",
    "print(emails)\n",
    "\n"
   ]
  },
  {
   "cell_type": "code",
   "execution_count": null,
   "metadata": {},
   "outputs": [],
   "source": []
  },
  {
   "cell_type": "code",
   "execution_count": null,
   "metadata": {},
   "outputs": [],
   "source": [
    "str = \"marco.mailand@ch.abb.comrudi.rollmops@in.abb.coma.b@in.abb.com\"\n",
    "addresses = str.split('abb.com')\n",
    "fulladdresses = []\n",
    "for address in addresses:\n",
    "    if address.find('ch'):\n",
    "        print(f'true for',address)\n",
    "        fulladdresses.append(address + 'abb.com')\n",
    "print(addresses)\n",
    "print(fulladdresses)"
   ]
  },
  {
   "cell_type": "code",
   "execution_count": null,
   "metadata": {},
   "outputs": [],
   "source": []
  },
  {
   "cell_type": "code",
   "execution_count": null,
   "metadata": {},
   "outputs": [],
   "source": [
    "# harvest email addresses\n"
   ]
  },
  {
   "cell_type": "code",
   "execution_count": null,
   "metadata": {},
   "outputs": [],
   "source": [
    "import datetime # we will use this for date objects\n",
    "\n",
    "class Person:\n",
    "\n",
    "    def __init__(self, name, surname, birthdate, address, telephone, email):\n",
    "        self.name = name\n",
    "        self.surname = surname\n",
    "        self.birthdate = birthdate\n",
    "\n",
    "        self.address = address\n",
    "        self.telephone = telephone\n",
    "        self.email = email\n",
    "\n",
    "    def age(self):\n",
    "        today = datetime.date.today()\n",
    "        age = today.year - self.birthdate.year\n",
    "\n",
    "        if today < datetime.date(today.year, self.birthdate.month, self.birthdate.day):\n",
    "            age -= 1\n",
    "\n",
    "        return age\n",
    "'''\n",
    "person = Person(\n",
    "    \"Jane\",\n",
    "    \"Doe\",\n",
    "    datetime.date(1992, 3, 12), # year, month, day\n",
    "    \"No. 12 Short Street, Greenville\",\n",
    "    \"555 456 0987\",\n",
    "    \"jane.doe@example.com\"\n",
    ")\n",
    "'''\n",
    "person = Person(\n",
    "    \"Macx\",\n",
    "    \"Milano\",\n",
    "    datetime.date(1962, 8, 3),\n",
    "    \"Bergstrasse 38b, Wettingen\",\n",
    "    \"+41 78 965 40 23\",\n",
    "    \"morris.maeder@gmail.com\"\n",
    ")\n",
    "\n",
    "print(person.name)\n",
    "print(person.surname)\n",
    "print(person.email)\n",
    "print(person.age())"
   ]
  },
  {
   "cell_type": "code",
   "execution_count": null,
   "metadata": {},
   "outputs": [],
   "source": []
  }
 ],
 "metadata": {
  "kernelspec": {
   "display_name": "Python 3",
   "language": "python",
   "name": "python3"
  },
  "language_info": {
   "codemirror_mode": {
    "name": "ipython",
    "version": 3
   },
   "file_extension": ".py",
   "mimetype": "text/x-python",
   "name": "python",
   "nbconvert_exporter": "python",
   "pygments_lexer": "ipython3",
   "version": "3.7.1"
  }
 },
 "nbformat": 4,
 "nbformat_minor": 2
}
