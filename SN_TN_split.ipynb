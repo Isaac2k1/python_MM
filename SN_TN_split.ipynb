{
 "cells": [
  {
   "cell_type": "code",
   "execution_count": null,
   "metadata": {},
   "outputs": [],
   "source": [
    "all_tn = []\n",
    "tn=['2022-m-015-0001.rbe', 'l18000215-0014.rbe', '2020-l-023-01-0023.rbe']\n",
    "for shot in tn:\n",
    "    all_tn.append(int(shot.rsplit('-')[-1:][0].split('.')[0]))\n",
    "    sn = shot.rsplit('-',1)[0]\n",
    "    print(sn)\n",
    "    print(shot.split('-')[-1:][0].split('.')[0])\n",
    "print(all_tn)\n"
   ]
  }
 ],
 "metadata": {
  "kernelspec": {
   "display_name": "Python 3 (ipykernel)",
   "language": "python",
   "name": "python3"
  },
  "language_info": {
   "codemirror_mode": {
    "name": "ipython",
    "version": 3
   },
   "file_extension": ".py",
   "mimetype": "text/x-python",
   "name": "python",
   "nbconvert_exporter": "python",
   "pygments_lexer": "ipython3",
   "version": "3.9.10+"
  }
 },
 "nbformat": 4,
 "nbformat_minor": 2
}
