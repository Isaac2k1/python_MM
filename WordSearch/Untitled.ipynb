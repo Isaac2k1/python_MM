{
 "cells": [
  {
   "cell_type": "code",
   "execution_count": 1,
   "id": "ce2c2c8c",
   "metadata": {},
   "outputs": [
    {
     "name": "stdout",
     "output_type": "stream",
     "text": [
      "['In', 'Out', '_', '__', '___', '__builtin__', '__builtins__', '__doc__', '__loader__', '__name__', '__package__', '__spec__', '_dh', '_i', '_i1', '_ih', '_ii', '_iii', '_oh', 'exit', 'get_ipython', 'quit']\n",
      "--------------------------\n",
      "doc: Automatically created module for IPython interactive environment\n",
      "loader: None\n",
      "name: __main__\n",
      "package: None\n"
     ]
    }
   ],
   "source": [
    "print(dir())\n",
    "print(\"--------------------------\")\n",
    "print(\"doc:\", __doc__)\n",
    "print(\"loader:\", __loader__)\n",
    "print(\"name:\", __name__)\n",
    "print(\"package:\", __package__)\n",
    "#print(\"file:\", __file__)"
   ]
  },
  {
   "cell_type": "code",
   "execution_count": 1,
   "id": "424289e7",
   "metadata": {},
   "outputs": [
    {
     "name": "stdout",
     "output_type": "stream",
     "text": [
      "dir outside\n",
      "['I', 'In', 'Out', '_', '__', '___', '__builtin__', '__builtins__', '__doc__', '__loader__', '__name__', '__package__', '__spec__', '_dh', '_i', '_i1', '_ih', '_ii', '_iii', '_oh', 'exit', 'get_ipython', 'os', 'quit']\n",
      "dir inside\n",
      "[]\n",
      "64\n",
      "64\n"
     ]
    }
   ],
   "source": [
    "import os\n",
    "\n",
    "I = 42\n",
    "print(\"dir outside\")\n",
    "print(dir())\n",
    "\n",
    "def fn():\n",
    "    global I\n",
    "    I += 22\n",
    "    print(\"dir inside\")\n",
    "    print(dir())\n",
    "    print(I)\n",
    "    \n",
    "fn()\n",
    "print(I)"
   ]
  },
  {
   "cell_type": "code",
   "execution_count": 3,
   "id": "432b4238",
   "metadata": {},
   "outputs": [
    {
     "name": "stdout",
     "output_type": "stream",
     "text": [
      "5\n"
     ]
    }
   ],
   "source": [
    "i = 5\n",
    "\n",
    "def f(arg=i):\n",
    "    print(arg)\n",
    "\n",
    "i = 6\n",
    "f()"
   ]
  },
  {
   "cell_type": "code",
   "execution_count": 6,
   "id": "eba341a6",
   "metadata": {},
   "outputs": [
    {
     "name": "stdout",
     "output_type": "stream",
     "text": [
      " rehtorb\n",
      "brother \n"
     ]
    }
   ],
   "source": [
    "#-------0123456789\n",
    "word = \"O brother where art thou?\"\n",
    "print(word[9:1:-1])\n",
    "print(word[9:1:-1][::-1])"
   ]
  },
  {
   "cell_type": "code",
   "execution_count": null,
   "id": "646e138b",
   "metadata": {},
   "outputs": [],
   "source": []
  }
 ],
 "metadata": {
  "kernelspec": {
   "display_name": "Python 3 (ipykernel)",
   "language": "python",
   "name": "python3"
  },
  "language_info": {
   "codemirror_mode": {
    "name": "ipython",
    "version": 3
   },
   "file_extension": ".py",
   "mimetype": "text/x-python",
   "name": "python",
   "nbconvert_exporter": "python",
   "pygments_lexer": "ipython3",
   "version": "3.9.2+"
  }
 },
 "nbformat": 4,
 "nbformat_minor": 5
}
