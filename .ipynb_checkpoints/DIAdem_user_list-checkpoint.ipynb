{
 "cells": [
  {
   "cell_type": "markdown",
   "metadata": {},
   "source": [
    "# Analyse of file DIAdem_loosers\n",
    "## Final aim \n",
    "Create user table and check if all email addresses can be associated to user names."
   ]
  },
  {
   "cell_type": "code",
   "execution_count": 53,
   "metadata": {},
   "outputs": [
    {
     "name": "stdout",
     "output_type": "stream",
     "text": [
      "False\n",
      "False\n",
      "False\n",
      "False\n",
      "False\n",
      "False\n",
      "False\n",
      "False\n",
      "False\n",
      "False\n",
      "False\n",
      "False\n",
      "False\n",
      "False\n",
      "False\n",
      "False\n",
      "False\n",
      "False\n",
      "False\n",
      "False\n",
      "False\n",
      "False\n",
      "False\n",
      "False\n",
      "False\n",
      "False\n",
      "False\n",
      "False\n",
      "False\n",
      "False\n",
      "False\n",
      "False\n",
      "False\n",
      "False\n",
      "False\n",
      "False\n",
      "False\n",
      "False\n",
      "False\n",
      "False\n",
      "False\n",
      "False\n",
      "False\n",
      "False\n",
      "False\n",
      "False\n",
      "False\n",
      "False\n",
      "False\n",
      "False\n",
      "False\n",
      "False\n",
      "False\n",
      "False\n",
      "False\n",
      "False\n",
      "False\n",
      "False\n",
      "False\n",
      "False\n",
      "False\n",
      "False\n",
      "False\n",
      "False\n",
      "False\n",
      "False\n",
      "False\n",
      "False\n",
      "False\n",
      "False\n",
      "False\n",
      "False\n",
      "False\n",
      "False\n",
      "False\n",
      "False\n",
      "False\n",
      "False\n",
      "False\n",
      "False\n",
      "False\n",
      "False\n",
      "False\n",
      "False\n",
      "False\n",
      "False\n",
      "False\n",
      "False\n",
      "False\n",
      "False\n",
      "False\n",
      "False\n",
      "False\n",
      "False\n",
      "False\n",
      "False\n",
      "False\n",
      "False\n",
      "False\n",
      "False\n",
      "False\n",
      "False\n",
      "False\n",
      "False\n",
      "False\n",
      "False\n",
      "False\n",
      "False\n",
      "False\n",
      "False\n",
      "['The following 66 users are on your list but not in flexserver:\\n', '\\n', 'andrea.brognara@id.abb.comandreas.wetzel@ch.abb.comangelos.garyfallos@ch.abb.comastrid.bauer@ch.abb.combenjamin.kaufmann@ch.abb.combernardo.galletti@ch.abb.comchristoph.koller@ch.abb.comdavid.saxl@ch.abb.comdina.valeeva@ch.abb.comelmar.strittmatter@ch.abb.comemmanouil.panousis@ch.abb.comennio.errico@it.abb.comesteban.zimmermann@ch.abb.comFlorian.Brandl@ch.abb.comhans.sjoekvist@ch.abb.comjennifer-ruiqiong.pan@cn.abb.comjulian.josephsohn@ch.abb.comlabor.mechanik@ch.abb.comlabor.mechanik@ch.abb.comlabor.mechanik@ch.abb.comlabor.mechanik@ch.abb.comlise.donzel@ch.abb.comlorenzo.scotti@it.abb.comlukas.e.zehnder@ch.abb.commanuel.naef@ch.abb.commarko.brilli@fi.abb.commarkus.bujotzek@ch.abb.commartin.kriegel@ch.abb.commatteo.calamari@it.abb.commatthias.menzi@ch.abb.commichael.demtschenko@ch.abb.commichael.kleimaier@ch.abb.commichael.schwinne@ch.abb.commichael.stanek@ch.abb.commichel.fernandes@ch.abb.commichel.nagel@ch.abb.commirko.palazzo@ch.abb.comnadir.amari@it.abb.comnicolas.pilatte@ch.abb.comnitesh.ranjan@ch.abb.comoliver.cossalter@ch.abb.comomega.ai-rechner@ch.abb.comomega.customer@ch.abb.compatrick.fehlmann@ch.abb.compatrick.p.meier@ch.abb.competer.u.frei@ch.abb.compi.ai-rechner@ch.abb.compi.customer@ch.abb.comraffael.buehler@ch.abb.comrene.kallweit@ch.abb.comrichard.gao@ch.abb.comricky.hirsch@ch.abb.comRijo-Jude.Raphael@ch.abb.comroman.eggel@ch.abb.comrosy.raysaha@in.abb.comsara.romani@it.abb.comsergio.parrotta@ch.abb.comshaker.messplatz@ch.abb.comstefan.arndt@ch.abb.comstephan.grob@ch.abb.comstephan.kalt@ch.abb.comsteven-xiuming.xu@cn.abb.comthomas.baier@ch.abb.comthomas.kuhlmann@ch.abb.comwayne-wenyong.wang@cn.abb.comwilliam-wei.di@cn.abb.com\\n', 'And those 28 users are not on your list but are in flexserver:\\n', '\\n', 'benjamin.bigler@ch.abb.comeugen.graf@de.abb.comjoern-malte.darnehl@de.abb.comjohannes.glaab@de.abb.comjustin-jing.xu@cn.abb.comkrunal.kansara@in.abb.commahesh.dhotre@ch.abb.commatjan.nuredini@ch.abb.commichael.gatzsche@ch.abb.comminzhong.yang@cn.abb.comnico.chalupa@de.abb.comniels.jelting@ch.abb.compatrick.stoller@ch.abb.compeng.lu@ch.abb.comphilip.streit@ch.abb.comreto.karrer@ch.abb.comreto.neuenschwander@ch.abb.comrobert.voss@ch.abb.comsadiya.sardara@ch.abb.comsairam.nandula@in.abb.comstefan.laeber@ch.abb.comsumedh.pawar@in.abb.comthomas.klose@de.abb.comtobias.schiller@de.abb.comuwe.przybille@de.abb.comvaleria.teppati@ch.abb.comvincent.dousset@ch.abb.comwalter.a.gassmann@ch.abb.com\\n', '\\n', 'cnalxia\\n', 'cnbiyao\\n', 'cnboma\\n', 'cnjepan2\\n', 'cnmiyan8\\n', 'cnstxu6\\n', 'cnwawan4\\n', 'cnwidi\\n', 'inkrkan\\n', 'inroray\\n', 'chamaza\\n', 'chanbad\\n', 'changar2\\n', 'chasbau\\n', 'chbegal\\n', 'chbekau\\n', 'chbrrad\\n', 'chchkol1\\n', 'chdamor\\n', 'chdaove\\n', 'chelstr\\n', 'chempan\\n', 'cheszim\\n', 'chfablu\\n', 'chfahot\\n', 'chflabra\\n', 'chfrlun\\n', 'chgesch2\\n', 'chguste\\n', 'chhehei\\n', 'chjakor\\n', 'chjihua\\n', 'chjohen\\n', 'chjoost1\\n', 'chjopre\\n', 'chjujos\\n', 'chlidon\\n', 'chluzeh\\n', 'chluzio\\n', 'chmabuj\\n', 'chmadho\\n', 'chmahar1\\n', 'chmakri\\n', 'chmamen\\n', 'chmanae3\\n', 'chmanur\\n', 'chmaro1\\n', 'chmerec\\n', 'chmidem1\\n', 'chmifer\\n', 'chmigat\\n', 'chmikle1\\n', 'chminag1\\n', 'chmipal\\n', 'chmisch10\\n', 'chmista1\\n', 'chnamah\\n', 'chnijel\\n', 'chniran\\n', 'cholcos\\n', 'chpamei3\\n', 'chpasto1\\n', 'chpelu\\n', 'chrabue2\\n', 'chreiri\\n', 'chrekal1\\n', 'chrekar\\n', 'chreneu\\n', 'chrigao\\n', 'chrihir\\n', 'chrirap\\n', 'chroste3\\n', 'chrovos1\\n', 'chsakot\\n', 'chsasar1\\n', 'chsepar\\n', 'chstarn1\\n', 'chstgro\\n', 'chstkal\\n', 'chstlae\\n', 'chthbai\\n', 'chthkuh1\\n', 'chulstr\\n', 'chvatep\\n', 'chvidou\\n', 'chwagas\\n', 'demasch17\\n', 'deu106132\\n', 'deu106151\\n', 'deu106243\\n', 'deu116500\\n', 'deu116699\\n', 'deu116726\\n', 'deu116746\\n', 'deu131563\\n', 'deu214356\\n', 'deu218500\\n', 'itenerr\\n', 'itlosco\\n', 'itnaama\\n', 'itsarom1\\n', 'sejoegu', '']\n"
     ]
    }
   ],
   "source": [
    "from array import *\n",
    "emails = []\n",
    "\n",
    "def harvest_email(input_string):\n",
    "    beg = 0\n",
    "    searchfor = '.abb.com'\n",
    "    end=len(input_string)\n",
    "    index = input_string.endswith(searchfor, beg, end)\n",
    "    print(index)\n",
    "    if index > 0:\n",
    "        print(index, input_string)\n",
    "        \n",
    "        \n",
    "    emails.append(input_string)\n",
    "\n",
    "# read the source file\n",
    "FileName = 'DIAdem_loosers.txt'\n",
    "with open(FileName, 'r') as textfile:\n",
    "    while True:    \n",
    "        next_line = textfile.readline()\n",
    "        #print(next_line,len(next_line))\n",
    "        harvest_email(next_line)\n",
    "        #dict.append(next_line)\n",
    "        if len(next_line) == 0:\n",
    "            break\n",
    "print(emails)\n",
    "\n"
   ]
  },
  {
   "cell_type": "code",
   "execution_count": null,
   "metadata": {},
   "outputs": [],
   "source": []
  },
  {
   "cell_type": "code",
   "execution_count": 92,
   "metadata": {},
   "outputs": [
    {
     "name": "stdout",
     "output_type": "stream",
     "text": [
      "true for marco.mailand@ch.\n",
      "true for rudi.rollmops@in.\n",
      "true for a.b@in.\n",
      "true for \n",
      "['marco.mailand@ch.', 'rudi.rollmops@in.', 'a.b@in.', '']\n",
      "['marco.mailand@ch.abb.com', 'rudi.rollmops@in.abb.com', 'a.b@in.abb.com', 'abb.com']\n"
     ]
    }
   ],
   "source": [
    "str = \"marco.mailand@ch.abb.comrudi.rollmops@in.abb.coma.b@in.abb.com\"\n",
    "addresses = str.split('abb.com')\n",
    "fulladdresses = []\n",
    "for address in addresses:\n",
    "    if address.find('ch'):\n",
    "        print(f'true for',address)\n",
    "        fulladdresses.append(address + 'abb.com')\n",
    "print(addresses)\n",
    "print(fulladdresses)"
   ]
  },
  {
   "cell_type": "code",
   "execution_count": null,
   "metadata": {},
   "outputs": [],
   "source": []
  },
  {
   "cell_type": "code",
   "execution_count": null,
   "metadata": {},
   "outputs": [],
   "source": []
  },
  {
   "cell_type": "code",
   "execution_count": null,
   "metadata": {},
   "outputs": [],
   "source": []
  },
  {
   "cell_type": "code",
   "execution_count": null,
   "metadata": {},
   "outputs": [],
   "source": []
  },
  {
   "cell_type": "code",
   "execution_count": null,
   "metadata": {},
   "outputs": [],
   "source": []
  },
  {
   "cell_type": "code",
   "execution_count": null,
   "metadata": {},
   "outputs": [],
   "source": []
  },
  {
   "cell_type": "code",
   "execution_count": null,
   "metadata": {},
   "outputs": [],
   "source": []
  },
  {
   "cell_type": "code",
   "execution_count": null,
   "metadata": {},
   "outputs": [],
   "source": []
  },
  {
   "cell_type": "code",
   "execution_count": null,
   "metadata": {},
   "outputs": [],
   "source": []
  },
  {
   "cell_type": "code",
   "execution_count": null,
   "metadata": {},
   "outputs": [],
   "source": []
  },
  {
   "cell_type": "code",
   "execution_count": null,
   "metadata": {},
   "outputs": [],
   "source": []
  },
  {
   "cell_type": "code",
   "execution_count": null,
   "metadata": {},
   "outputs": [],
   "source": []
  },
  {
   "cell_type": "code",
   "execution_count": null,
   "metadata": {},
   "outputs": [],
   "source": []
  },
  {
   "cell_type": "code",
   "execution_count": null,
   "metadata": {},
   "outputs": [],
   "source": []
  },
  {
   "cell_type": "code",
   "execution_count": null,
   "metadata": {},
   "outputs": [],
   "source": []
  },
  {
   "cell_type": "code",
   "execution_count": null,
   "metadata": {},
   "outputs": [],
   "source": []
  },
  {
   "cell_type": "code",
   "execution_count": null,
   "metadata": {},
   "outputs": [],
   "source": []
  },
  {
   "cell_type": "code",
   "execution_count": null,
   "metadata": {},
   "outputs": [],
   "source": []
  },
  {
   "cell_type": "code",
   "execution_count": null,
   "metadata": {},
   "outputs": [],
   "source": []
  },
  {
   "cell_type": "code",
   "execution_count": null,
   "metadata": {},
   "outputs": [],
   "source": []
  },
  {
   "cell_type": "code",
   "execution_count": null,
   "metadata": {},
   "outputs": [],
   "source": []
  },
  {
   "cell_type": "code",
   "execution_count": null,
   "metadata": {},
   "outputs": [],
   "source": []
  },
  {
   "cell_type": "code",
   "execution_count": null,
   "metadata": {},
   "outputs": [],
   "source": []
  },
  {
   "cell_type": "code",
   "execution_count": null,
   "metadata": {},
   "outputs": [],
   "source": []
  },
  {
   "cell_type": "code",
   "execution_count": null,
   "metadata": {},
   "outputs": [],
   "source": []
  },
  {
   "cell_type": "code",
   "execution_count": null,
   "metadata": {},
   "outputs": [],
   "source": []
  },
  {
   "cell_type": "code",
   "execution_count": null,
   "metadata": {},
   "outputs": [],
   "source": []
  },
  {
   "cell_type": "code",
   "execution_count": null,
   "metadata": {},
   "outputs": [],
   "source": []
  },
  {
   "cell_type": "code",
   "execution_count": null,
   "metadata": {},
   "outputs": [],
   "source": []
  },
  {
   "cell_type": "code",
   "execution_count": null,
   "metadata": {},
   "outputs": [],
   "source": []
  },
  {
   "cell_type": "code",
   "execution_count": null,
   "metadata": {},
   "outputs": [],
   "source": []
  },
  {
   "cell_type": "code",
   "execution_count": null,
   "metadata": {},
   "outputs": [],
   "source": []
  },
  {
   "cell_type": "code",
   "execution_count": null,
   "metadata": {},
   "outputs": [],
   "source": []
  },
  {
   "cell_type": "code",
   "execution_count": null,
   "metadata": {},
   "outputs": [],
   "source": []
  },
  {
   "cell_type": "code",
   "execution_count": null,
   "metadata": {},
   "outputs": [],
   "source": []
  },
  {
   "cell_type": "code",
   "execution_count": null,
   "metadata": {},
   "outputs": [],
   "source": []
  },
  {
   "cell_type": "code",
   "execution_count": null,
   "metadata": {},
   "outputs": [],
   "source": []
  },
  {
   "cell_type": "code",
   "execution_count": null,
   "metadata": {},
   "outputs": [],
   "source": []
  },
  {
   "cell_type": "code",
   "execution_count": null,
   "metadata": {},
   "outputs": [],
   "source": []
  },
  {
   "cell_type": "code",
   "execution_count": null,
   "metadata": {},
   "outputs": [],
   "source": []
  },
  {
   "cell_type": "code",
   "execution_count": null,
   "metadata": {},
   "outputs": [],
   "source": []
  },
  {
   "cell_type": "code",
   "execution_count": null,
   "metadata": {},
   "outputs": [],
   "source": []
  },
  {
   "cell_type": "code",
   "execution_count": null,
   "metadata": {},
   "outputs": [],
   "source": []
  },
  {
   "cell_type": "code",
   "execution_count": null,
   "metadata": {},
   "outputs": [],
   "source": []
  },
  {
   "cell_type": "code",
   "execution_count": null,
   "metadata": {},
   "outputs": [],
   "source": []
  },
  {
   "cell_type": "code",
   "execution_count": null,
   "metadata": {},
   "outputs": [],
   "source": []
  },
  {
   "cell_type": "code",
   "execution_count": null,
   "metadata": {},
   "outputs": [],
   "source": []
  },
  {
   "cell_type": "code",
   "execution_count": null,
   "metadata": {},
   "outputs": [],
   "source": []
  },
  {
   "cell_type": "code",
   "execution_count": null,
   "metadata": {},
   "outputs": [],
   "source": []
  },
  {
   "cell_type": "code",
   "execution_count": null,
   "metadata": {},
   "outputs": [],
   "source": []
  },
  {
   "cell_type": "code",
   "execution_count": null,
   "metadata": {},
   "outputs": [],
   "source": []
  },
  {
   "cell_type": "code",
   "execution_count": null,
   "metadata": {},
   "outputs": [],
   "source": []
  },
  {
   "cell_type": "code",
   "execution_count": null,
   "metadata": {},
   "outputs": [],
   "source": []
  },
  {
   "cell_type": "code",
   "execution_count": null,
   "metadata": {},
   "outputs": [],
   "source": []
  },
  {
   "cell_type": "code",
   "execution_count": null,
   "metadata": {},
   "outputs": [],
   "source": []
  },
  {
   "cell_type": "code",
   "execution_count": null,
   "metadata": {},
   "outputs": [],
   "source": []
  },
  {
   "cell_type": "code",
   "execution_count": null,
   "metadata": {},
   "outputs": [],
   "source": []
  },
  {
   "cell_type": "code",
   "execution_count": null,
   "metadata": {},
   "outputs": [],
   "source": [
    "# harvest email addresses\n"
   ]
  },
  {
   "cell_type": "code",
   "execution_count": 27,
   "metadata": {},
   "outputs": [
    {
     "name": "stdout",
     "output_type": "stream",
     "text": [
      "Macx\n",
      "Milano\n",
      "morris.maeder@gmail.com\n",
      "57\n"
     ]
    }
   ],
   "source": [
    "import datetime # we will use this for date objects\n",
    "\n",
    "class Person:\n",
    "\n",
    "    def __init__(self, name, surname, birthdate, address, telephone, email):\n",
    "        self.name = name\n",
    "        self.surname = surname\n",
    "        self.birthdate = birthdate\n",
    "\n",
    "        self.address = address\n",
    "        self.telephone = telephone\n",
    "        self.email = email\n",
    "\n",
    "    def age(self):\n",
    "        today = datetime.date.today()\n",
    "        age = today.year - self.birthdate.year\n",
    "\n",
    "        if today < datetime.date(today.year, self.birthdate.month, self.birthdate.day):\n",
    "            age -= 1\n",
    "\n",
    "        return age\n",
    "'''\n",
    "person = Person(\n",
    "    \"Jane\",\n",
    "    \"Doe\",\n",
    "    datetime.date(1992, 3, 12), # year, month, day\n",
    "    \"No. 12 Short Street, Greenville\",\n",
    "    \"555 456 0987\",\n",
    "    \"jane.doe@example.com\"\n",
    ")\n",
    "'''\n",
    "person = Person(\n",
    "    \"Macx\",\n",
    "    \"Milano\",\n",
    "    datetime.date(1962, 8, 3),\n",
    "    \"Bergstrasse 38b, Wettingen\",\n",
    "    \"+41 78 965 40 23\",\n",
    "    \"morris.maeder@gmail.com\"\n",
    ")\n",
    "\n",
    "print(person.name)\n",
    "print(person.surname)\n",
    "print(person.email)\n",
    "print(person.age())"
   ]
  },
  {
   "cell_type": "code",
   "execution_count": null,
   "metadata": {},
   "outputs": [],
   "source": []
  },
  {
   "cell_type": "code",
   "execution_count": null,
   "metadata": {},
   "outputs": [],
   "source": []
  },
  {
   "cell_type": "code",
   "execution_count": null,
   "metadata": {},
   "outputs": [],
   "source": []
  },
  {
   "cell_type": "code",
   "execution_count": null,
   "metadata": {},
   "outputs": [],
   "source": []
  },
  {
   "cell_type": "code",
   "execution_count": null,
   "metadata": {},
   "outputs": [],
   "source": []
  },
  {
   "cell_type": "code",
   "execution_count": null,
   "metadata": {},
   "outputs": [],
   "source": []
  },
  {
   "cell_type": "code",
   "execution_count": null,
   "metadata": {},
   "outputs": [],
   "source": []
  },
  {
   "cell_type": "code",
   "execution_count": null,
   "metadata": {},
   "outputs": [],
   "source": []
  },
  {
   "cell_type": "code",
   "execution_count": null,
   "metadata": {},
   "outputs": [],
   "source": []
  },
  {
   "cell_type": "code",
   "execution_count": null,
   "metadata": {},
   "outputs": [],
   "source": []
  },
  {
   "cell_type": "code",
   "execution_count": null,
   "metadata": {},
   "outputs": [],
   "source": []
  },
  {
   "cell_type": "code",
   "execution_count": null,
   "metadata": {},
   "outputs": [],
   "source": []
  },
  {
   "cell_type": "code",
   "execution_count": null,
   "metadata": {},
   "outputs": [],
   "source": []
  },
  {
   "cell_type": "code",
   "execution_count": null,
   "metadata": {},
   "outputs": [],
   "source": []
  },
  {
   "cell_type": "code",
   "execution_count": null,
   "metadata": {},
   "outputs": [],
   "source": []
  },
  {
   "cell_type": "code",
   "execution_count": null,
   "metadata": {},
   "outputs": [],
   "source": []
  },
  {
   "cell_type": "code",
   "execution_count": null,
   "metadata": {},
   "outputs": [],
   "source": []
  },
  {
   "cell_type": "code",
   "execution_count": null,
   "metadata": {},
   "outputs": [],
   "source": []
  },
  {
   "cell_type": "code",
   "execution_count": null,
   "metadata": {},
   "outputs": [],
   "source": []
  },
  {
   "cell_type": "code",
   "execution_count": null,
   "metadata": {},
   "outputs": [],
   "source": []
  },
  {
   "cell_type": "code",
   "execution_count": null,
   "metadata": {},
   "outputs": [],
   "source": []
  },
  {
   "cell_type": "code",
   "execution_count": null,
   "metadata": {},
   "outputs": [],
   "source": []
  },
  {
   "cell_type": "code",
   "execution_count": null,
   "metadata": {},
   "outputs": [],
   "source": []
  },
  {
   "cell_type": "code",
   "execution_count": null,
   "metadata": {},
   "outputs": [],
   "source": []
  },
  {
   "cell_type": "code",
   "execution_count": null,
   "metadata": {},
   "outputs": [],
   "source": []
  }
 ],
 "metadata": {
  "kernelspec": {
   "display_name": "Python 3",
   "language": "python",
   "name": "python3"
  },
  "language_info": {
   "codemirror_mode": {
    "name": "ipython",
    "version": 3
   },
   "file_extension": ".py",
   "mimetype": "text/x-python",
   "name": "python",
   "nbconvert_exporter": "python",
   "pygments_lexer": "ipython3",
   "version": "3.7.6"
  }
 },
 "nbformat": 4,
 "nbformat_minor": 2
}
