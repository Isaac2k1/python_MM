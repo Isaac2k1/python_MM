{
 "cells": [
  {
   "cell_type": "markdown",
   "metadata": {},
   "source": [
    "# NumPy Where Tutorial (With Examples)\n",
    "Posted by: Mokhtar Ebrahim  in Python June 2nd, 2020 0 26 Views\n",
    "\n",
    "https://www.webcodegeeks.com/python/numpy-where-tutorial-with-examples/\n",
    "\n",
    "Looking up for entries that satisfy a specific condition is a painful process, especially if you are searching it in a large dataset having hundreds or thousands of entries. If you know the fundamental SQL queries, you must be aware of the ‘WHERE’ clause that is used with the SELECT statement to fetch such entries from a relational database that satisfy certain conditions.\n",
    "\n",
    "NumPy offers similar functionality to find such items in a NumPy array that satisfy a given Boolean condition through its ‘where()‘ function — except that it is used in a slightly different way than the SQL SELECT statement with the WHERE clause.\n",
    "\n",
    "In this tutorial, we’ll look at the various ways the NumPy where function can be used for a variety of use cases. Let’s get going.\n",
    "\n",
    "# A very simple usage of NumPy where\n",
    "\n",
    "Let’s begin with a simple application of ‘np.where()‘ on a 1-dimensional NumPy array of integers.\n",
    "\n",
    "We will use ‘np.where’ function to find positions with values that are less than 5.\n",
    "We’ll first create a 1-dimensional array of 10 integer values randomly chosen between 0 and 9.\n"
   ]
  },
  {
   "cell_type": "code",
   "execution_count": 73,
   "metadata": {},
   "outputs": [
    {
     "name": "stdout",
     "output_type": "stream",
     "text": [
      "a = [8 0 6 4 4 1 2 6 5 1]\n"
     ]
    }
   ],
   "source": [
    "import numpy\n",
    "a = numpy.random.randint(10, size = (10))\n",
    "print(\"a = {}\".format(a))"
   ]
  },
  {
   "cell_type": "markdown",
   "metadata": {},
   "source": [
    "Now we will call ‘np.where’ with the condition ‘a < 5’ i.e we’re asking ‘np.where’ to tell us where in the array a are the values less than 5.\n",
    "It will return us an array of indices where the specified condition is satisfied.\n"
   ]
  },
  {
   "cell_type": "code",
   "execution_count": 75,
   "metadata": {},
   "outputs": [
    {
     "name": "stdout",
     "output_type": "stream",
     "text": [
      "(array([1, 3, 4, 5, 6, 9]),)\n"
     ]
    }
   ],
   "source": [
    "result = np.where(a < 5)\n",
    "print(result)"
   ]
  },
  {
   "cell_type": "markdown",
   "metadata": {},
   "source": [
    "We get the indices 1,3,6,9 as output and it can be verified from the array that the values at these positions are indeed less than 5.\n",
    "Note that the returned value is a 1-element tuple. This tuple has an array of indices.\n",
    "We’ll understand the reason for the result being returned as a tuple when we discuss np.where on 2D arrays.\n",
    "\n",
    "# How does NumPy where work?\n",
    "\n",
    "To understand what goes on inside the complex expression involving the ‘np.where’ function, it is important to understand the first parameter of ‘np.where’, that is, the condition.\n",
    "\n",
    "When we call a Boolean expression involving NumPy array such as ‘a > 2’ or ‘a % 2 == 0’, it actually returns a NumPy array of Boolean values.\n",
    "\n",
    "This array has the value True at positions where the condition evaluates to True and has the value False elsewhere. This serves as a ‘mask‘ for NumPy where function.\n",
    "Here is a code example."
   ]
  },
  {
   "cell_type": "code",
   "execution_count": null,
   "metadata": {},
   "outputs": [],
   "source": [
    "a = np.array([1, 10, 13, 8, 7, 9, 6, 3, 0])\n",
    "print (\"a > 5:\")\n",
    "print(a > 5)"
   ]
  }
 ],
 "metadata": {
  "kernelspec": {
   "display_name": "Python 3",
   "language": "python",
   "name": "python3"
  },
  "language_info": {
   "codemirror_mode": {
    "name": "ipython",
    "version": 3
   },
   "file_extension": ".py",
   "mimetype": "text/x-python",
   "name": "python",
   "nbconvert_exporter": "python",
   "pygments_lexer": "ipython3",
   "version": "3.7.1"
  }
 },
 "nbformat": 4,
 "nbformat_minor": 2
}
