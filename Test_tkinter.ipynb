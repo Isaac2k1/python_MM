{
 "cells": [
  {
   "cell_type": "code",
   "execution_count": null,
   "metadata": {},
   "outputs": [],
   "source": [
    "import tkinter as tk\n",
    "\n",
    "class Application(tk.Frame):\n",
    "    def __init__(self, master=None):\n",
    "        super().__init__(master)\n",
    "        self.master = master\n",
    "        self.pack()\n",
    "        self.create_widgets()\n",
    "\n",
    "    def create_widgets(self):\n",
    "        self.hi_there = tk.Button(self)\n",
    "        self.hi_there[\"text\"] = \"Hello World\\n(click me)\"\n",
    "        self.hi_there[\"command\"] = self.say_hi\n",
    "        self.hi_there.pack(side=\"top\")\n",
    "\n",
    "        self.quit = tk.Button(self, text=\"QUIT\", fg=\"red\",\n",
    "                              command=self.master.destroy)\n",
    "        self.quit.pack(side=\"bottom\")\n",
    "\n",
    "    def say_hi(self):\n",
    "        print(\"hi there, everyone!\")\n",
    "\n",
    "root = tk.Tk()\n",
    "app = Application(master=root)\n",
    "app.mainloop()"
   ]
  }
 ],
 "metadata": {
  "kernelspec": {
   "display_name": "Python 3",
   "language": "python",
   "name": "python3"
  },
  "language_info": {
   "codemirror_mode": {
    "name": "ipython",
    "version": 3
   },
   "file_extension": ".py",
   "mimetype": "text/x-python",
   "name": "python",
   "nbconvert_exporter": "python",
   "pygments_lexer": "ipython3",
   "version": "3.7.1"
  }
 },
 "nbformat": 4,
 "nbformat_minor": 2
}
