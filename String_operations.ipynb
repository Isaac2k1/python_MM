{
 "cells": [
  {
   "cell_type": "markdown",
   "metadata": {},
   "source": [
    "# Python: How to Check if a String Contains a Substring\n",
    "In, Index, and More\n",
    "\n",
    "Posted by: Jeremy Grifski in Python January 15th, 2020\n",
    "\n",
    "One concept that threw me for a loop when I first picked up Python was checking if a string contains a substring. After all, in my first language, Java, the task involved calling a method like indexOf() or contains(). Luckily, Python has an even cleaner syntax, and we’ll cover that today.\n",
    "To summarize, we can check if a string contains a substring using the in keyword. For example, \"Hi\" in \"Hi, John\" returns true. That said, there are several other ways to solve this problem including using methods like index() and find(). Check out the rest of the article for more details.\n",
    "\n",
    "## Problem Description\n",
    "A common problem in programming is detecting if a string is a substring of another string. For example, we might have a list of addresses stored as strings, and we want to find all addresses on a certain street (e.g. Elm Street):"
   ]
  },
  {
   "cell_type": "code",
   "execution_count": 3,
   "metadata": {},
   "outputs": [],
   "source": [
    "addresses = [\n",
    "    \"123 Elm Street\",\n",
    "    \"531 Oak Street\",\n",
    "    \"678 Maple Street\"\n",
    "]"
   ]
  },
  {
   "cell_type": "code",
   "execution_count": 4,
   "metadata": {},
   "outputs": [],
   "source": [
    "street = \"123 Elm Street\""
   ]
  },
  {
   "cell_type": "markdown",
   "metadata": {},
   "source": [
    "In that case, we might check which addresses contain the street name (e.g. 123 Elm Street). How do we do something like this in Python?\n",
    "In most programming languages, there’s usually some substring method. For instance, in Java, strings have an indexOf method which returns a positive number if the substring was found.\n",
    "Even without a special method, most languages allow you to index strings like arrays. As a result, it’s possible to manually verify that a string contains a substring by looking for a match directly.\n",
    "In the following section, we’ll take a look at several possible solutions in Python.\n",
    "\n",
    "# Solutions\n",
    "As always, I like to share a few possible solutions to this problem. That said, if you want the best solution, I suggest jumping to the last solution.\n",
    "\n",
    "## Checking if String Contains Substring by Brute Force\n",
    "Whenever I try to solve a problem like this, I like to think about the underlying structure of the problem. In this case, we have a string which is really a list of characters. As a result, what’s stopping us from iterating over those character to find our substring:"
   ]
  },
  {
   "cell_type": "code",
   "execution_count": 5,
   "metadata": {},
   "outputs": [
    {
     "name": "stdout",
     "output_type": "stream",
     "text": [
      "123 Elm Street\n"
     ]
    }
   ],
   "source": [
    "for address in addresses:\n",
    "    address_length = len(address)\n",
    "    street_length = len(street)\n",
    "    for index in range(address_length - street_length + 1):\n",
    "        substring = address[index:street_length + index]\n",
    "        if substring == street:\n",
    "            print(address)\n"
   ]
  },
  {
   "cell_type": "markdown",
   "metadata": {},
   "source": [
    "Here, I’ve written a sort of nasty set of loops which iterate over all addresses, compute lengths of some strings, iterate overall substrings of the appropriate size, and prints the results if a proper substring is found.\n",
    "Luckily, we don’t have to write our own solution to this. In fact, the entire inner loop is already implemented as a part of strings. In the next section, we’ll look at one of those methods.\n",
    "\n",
    "## Checking if String Contains Substring Using index()\n",
    "If we want want to check if a string contains a substring in Python, we might try borrowing some code from a language like Java. As mentioned previously, we usually use the indexOf() method which returns an index of the substring. In Python, there’s a similar method called index():"
   ]
  },
  {
   "cell_type": "code",
   "execution_count": 6,
   "metadata": {},
   "outputs": [
    {
     "name": "stdout",
     "output_type": "stream",
     "text": [
      "1 123 Elm Street\n",
      "123 Elm Street\n",
      "2 531 Oak Street\n",
      "3 678 Maple Street\n"
     ]
    }
   ],
   "source": [
    "i=0\n",
    "for address in addresses:\n",
    "    try:\n",
    "        i += 1\n",
    "        print(i,address)\n",
    "        address.index(street)\n",
    "        print(address)\n",
    "    except ValueError:\n",
    "        pass"
   ]
  },
  {
   "cell_type": "markdown",
   "metadata": {},
   "source": [
    "Here, we call the index function without storing the result. After all, we don’t actually care what the index is. If the method doesn’t find a matching substring, it’ll throw an exception. Naturally, we can catch that exception and move on. Otherwise, we print out the address.\n",
    "While this solution gets the job done, there’s actually a slightly cleaner solution, and we’ll take a look at it in the next section.\n",
    "\n",
    "## Checking if String Contains Substring Using find()\n",
    "Interestingly enough, Python has another method similar to index() which functions almost identically to indexOf() from Java. It’s called find(), and it allows us to simplify our code a little bit:"
   ]
  },
  {
   "cell_type": "markdown",
   "metadata": {},
   "source": [
    "## Substring Using in Keyword\n",
    "One of the cool things about Python is how clean and readable the code can be. Naturally, this applies when checking if a string contains a substring. Instead of a fancy method, Python has the syntax built-in with the in keyword:"
   ]
  },
  {
   "cell_type": "code",
   "execution_count": null,
   "metadata": {},
   "outputs": [],
   "source": [
    "for address in addresses:\n",
    "    if address.find(street) >= 0:\n",
    "        print(address)"
   ]
  },
  {
   "cell_type": "markdown",
   "metadata": {},
   "source": [
    "Now, that’s a solution I can get behind. After all, it’s quite reminscent of a similar Java solution.\n",
    "Again, it works like index(). However, instead of throwing an exception if the substring doesn’t exist, it returns -1. As a result, we can reduce our try/except block to a single if statement.\n",
    "That said, Python has an even better solution which we’ll check out in the next section.\n",
    "\n",
    "## Checking if String Contains Substring Using in Keyword\n",
    "One of the cool things about Python is how clean and readable the code can be. Naturally, this applies when checking if a string contains a substring. Instead of a fancy method, Python has the syntax built-in with the **in** keyword:"
   ]
  },
  {
   "cell_type": "code",
   "execution_count": null,
   "metadata": {},
   "outputs": [],
   "source": [
    "for address in addresses:\n",
    "    if street in address:\n",
    "        print(address)"
   ]
  },
  {
   "cell_type": "markdown",
   "metadata": {},
   "source": [
    "Here, we use the in keyword twice: once to iterate over all the addresses in the address list and again to check if the address contains the street name. As you can see, the in keyword has two purposes:\n",
    "* To check if a value is present in a sequence like lists and strings\n",
    "* To iterate through a sequence\n",
    "Of course, to someone coming from a language like Java, this can be a pretty annoying answer. After all, our intuition is to use a method here, so it takes some getting used to. That said, I really like how this reads. As we’ll see later, this is also the fastest solution.\n",
    "\n",
    "# Performance\n",
    "With all these solutions ready to go, let’s take a look at how they compare. To start, we’ll need to set the solutions up in strings:\n"
   ]
  },
  {
   "cell_type": "code",
   "execution_count": 49,
   "metadata": {},
   "outputs": [],
   "source": [
    "setup = \"\"\"\n",
    "addresses = [\n",
    "    \"123 Elm Street\",\n",
    "    \"531 Oak Street\",\n",
    "    \"678 Maple Street\"\n",
    "]\n",
    "street = \"Elm Street\"\n",
    "\"\"\"\n",
    "\n",
    "brute_force = \"\"\"\n",
    "for address in addresses:\n",
    "    address_length = len(address)\n",
    "    street_length = len(street)\n",
    "    for index in range(address_length - street_length + 1):\n",
    "        substring = address[index:street_length + index]\n",
    "        if substring == street:\n",
    "            pass # I don't want to print during testing\n",
    "\"\"\"\n",
    "\n",
    "index_of = \"\"\"\n",
    "for address in addresses:\n",
    "    try:\n",
    "        address.index(street)\n",
    "        # Again, I don't actually want to print during testing\n",
    "    except ValueError:\n",
    "        pass\n",
    "\"\"\"\n",
    "\n",
    "find = \"\"\"\n",
    "for address in addresses:\n",
    "    if address.find(street) > 0:\n",
    "        pass # Likewise, nothing to see here\n",
    "\"\"\"\n",
    "\n",
    "in_keyword = \"\"\"\n",
    "for address in addresses:\n",
    "    if street in address:\n",
    "        pass # Same issue as above\n",
    "\"\"\"\n"
   ]
  },
  {
   "cell_type": "markdown",
   "metadata": {},
   "source": [
    "With these strings ready to go, we can begin testing:"
   ]
  },
  {
   "cell_type": "code",
   "execution_count": 58,
   "metadata": {},
   "outputs": [],
   "source": [
    "import timeit"
   ]
  },
  {
   "cell_type": "code",
   "execution_count": 59,
   "metadata": {},
   "outputs": [
    {
     "data": {
      "text/plain": [
       "5.3817329500002415"
      ]
     },
     "execution_count": 59,
     "metadata": {},
     "output_type": "execute_result"
    }
   ],
   "source": [
    "min(timeit.repeat(setup=setup, stmt=brute_force))"
   ]
  },
  {
   "cell_type": "code",
   "execution_count": 60,
   "metadata": {},
   "outputs": [
    {
     "data": {
      "text/plain": [
       "1.946999065"
      ]
     },
     "execution_count": 60,
     "metadata": {},
     "output_type": "execute_result"
    }
   ],
   "source": [
    "min(timeit.repeat(setup=setup, stmt=index_of))"
   ]
  },
  {
   "cell_type": "code",
   "execution_count": 61,
   "metadata": {},
   "outputs": [
    {
     "data": {
      "text/plain": [
       "0.9098624960001871"
      ]
     },
     "execution_count": 61,
     "metadata": {},
     "output_type": "execute_result"
    }
   ],
   "source": [
    "min(timeit.repeat(setup=setup, stmt=find))"
   ]
  },
  {
   "cell_type": "code",
   "execution_count": 62,
   "metadata": {},
   "outputs": [
    {
     "data": {
      "text/plain": [
       "0.31291770899997573"
      ]
     },
     "execution_count": 62,
     "metadata": {},
     "output_type": "execute_result"
    }
   ],
   "source": [
    "min(timeit.repeat(setup=setup, stmt=in_keyword))"
   ]
  },
  {
   "cell_type": "code",
   "execution_count": null,
   "metadata": {},
   "outputs": [],
   "source": []
  }
 ],
 "metadata": {
  "kernelspec": {
   "display_name": "Python 3",
   "language": "python",
   "name": "python3"
  },
  "language_info": {
   "codemirror_mode": {
    "name": "ipython",
    "version": 3
   },
   "file_extension": ".py",
   "mimetype": "text/x-python",
   "name": "python",
   "nbconvert_exporter": "python",
   "pygments_lexer": "ipython3",
   "version": "3.9.2+"
  }
 },
 "nbformat": 4,
 "nbformat_minor": 4
}
