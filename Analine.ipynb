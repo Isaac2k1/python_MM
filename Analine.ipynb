{
 "cells": [
  {
   "cell_type": "code",
   "execution_count": 2,
   "metadata": {},
   "outputs": [
    {
     "name": "stdout",
     "output_type": "stream",
     "text": [
      "{'der', 'und', 'das', 'ein', 'die', 'Hugo', 'eine', 'einer', 'eines'}\n",
      "der\n",
      "das\n",
      "Hugo\n"
     ]
    }
   ],
   "source": [
    "def analine(line, liste):\n",
    "    '''\n",
    "    analine analyzes a line of the DeReWo list of most common German words\n",
    "    and creates all grammatically usable combinations. \n",
    "    All explanatory comments are stripped.\n",
    "    '''\n",
    "    import re\n",
    "    if ' ' in line:\n",
    "        parts = re.split(' ', line)\n",
    "        liste.add(parts[0])\n",
    "\n",
    "    if '(' in line:\n",
    "        parts = re.split('\\(|\\)', line)\n",
    "        liste.add(parts[0]) # append root word\n",
    "        brackets = re.split(',',parts[1])\n",
    "        for sil in brackets:\n",
    "            liste.add(parts[0]+sil)\n",
    "\n",
    "    else:\n",
    "        if ',' in line:\n",
    "            for sil in line.split(\",\"):\n",
    "                liste.add(sil)\n",
    "                \n",
    "    return(liste)\n",
    "\n",
    "liste = {'und'}\n",
    "lines = ['ein(e,es,er)','der,die,das','Hugo 3 NOM','ein(e)']\n",
    "\n",
    "for line in lines:\n",
    "    analine(line, liste)\n",
    "\n",
    "print(liste)\n",
    "\n",
    "permutations = ['Hugo','er','der','das']\n",
    "\n",
    "for word in liste:\n",
    "    if word in permutations:\n",
    "        print(word)\n"
   ]
  },
  {
   "cell_type": "code",
   "execution_count": null,
   "metadata": {},
   "outputs": [],
   "source": []
  }
 ],
 "metadata": {
  "kernelspec": {
   "display_name": "Python 3",
   "language": "python",
   "name": "python3"
  },
  "language_info": {
   "codemirror_mode": {
    "name": "ipython",
    "version": 3
   },
   "file_extension": ".py",
   "mimetype": "text/x-python",
   "name": "python",
   "nbconvert_exporter": "python",
   "pygments_lexer": "ipython3",
   "version": "3.9.2+"
  }
 },
 "nbformat": 4,
 "nbformat_minor": 2
}
