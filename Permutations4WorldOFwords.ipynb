{
 "cells": [
  {
   "cell_type": "markdown",
   "metadata": {},
   "source": [
    "# Permutations of letters for the game World of Words\n",
    "This program shall also search for suitable German words by using a dictionary."
   ]
  },
  {
   "cell_type": "code",
   "execution_count": 4,
   "metadata": {},
   "outputs": [
    {
     "name": "stdout",
     "output_type": "stream",
     "text": [
      "Enter your searchword:hugo\n",
      "4 -letter words\n",
      "ghou\n",
      "ghuo\n",
      "gohu\n",
      "gouh\n",
      "guho\n",
      "guoh\n",
      "hgou\n",
      "hguo\n",
      "hogu\n",
      "houg\n",
      "hugo\n",
      "huog\n",
      "oghu\n",
      "oguh\n",
      "ohgu\n",
      "ohug\n",
      "ough\n",
      "ouhg\n",
      "ugho\n",
      "ugoh\n",
      "uhgo\n",
      "uhog\n",
      "uogh\n",
      "uohg\n",
      "24  of  24\n",
      "3 -letter words\n",
      "gho\n",
      "ghu\n",
      "goh\n",
      "gou\n",
      "guh\n",
      "guo\n",
      "hgo\n",
      "hgu\n",
      "hog\n",
      "hou\n",
      "hug\n",
      "huo\n",
      "ogh\n",
      "ogu\n",
      "ohg\n",
      "ohu\n",
      "oug\n",
      "ouh\n",
      "ugh\n",
      "ugo\n",
      "uhg\n",
      "uho\n",
      "uog\n",
      "uoh\n",
      "24  of  24\n",
      "2 -letter words\n",
      "gh\n",
      "go\n",
      "gu\n",
      "hg\n",
      "ho\n",
      "hu\n",
      "og\n",
      "oh\n",
      "ou\n",
      "ug\n",
      "uh\n",
      "uo\n",
      "12  of  24\n"
     ]
    }
   ],
   "source": [
    "# Ale's refactor from 2020-03-29 18h22\n",
    "# import itertools\n",
    "# list(itertools.permutations([1, 2, 3])\n",
    "\n",
    "def permutation(lst):\n",
    "    # If lst is empty then there are no permutations\n",
    "    if len(lst) == 0:\n",
    "        return []\n",
    "\n",
    "    # If there is only one element in lst then, only\n",
    "    # one permuatation is possible\n",
    "    if len(lst) == 1:\n",
    "        return [lst]\n",
    "\n",
    "    # Find the permutations for lst if there are\n",
    "    # more than 1 characters\n",
    "\n",
    "    l = [] # empty list that will store current permutation\n",
    "\n",
    "    # Iterate the input(lst) and calculate the permutation\n",
    "    for i in range(len(lst)):\n",
    "        m = lst[i]\n",
    "\n",
    "        # Extract lst[i] or m from the list.  remLst is\n",
    "        # remaining list\n",
    "        remLst = lst[:i] + lst[i+1:]\n",
    "\n",
    "        # Generating all permutations where m is first\n",
    "        # element\n",
    "        for p in permutation(remLst):\n",
    "            l.append([m] + p)\n",
    "    return l\n",
    "\n",
    "# Function to convert a list to string \n",
    "def listToString(s): \n",
    "    # initialize an empty string \n",
    "    str1 = \"\" \n",
    "    # traverse in the string \n",
    "    for ele in s: \n",
    "        str1 += ele\n",
    "    # return string \n",
    "    return str1 \n",
    "\n",
    "def generate_words(data):\n",
    "    for lwords in range(len(data), 1, -1):\n",
    "        print(lwords, \"-letter words\")\n",
    "        all_permutations = set()\n",
    "        count = 0 # total number of combinations\n",
    "        for p in permutation(data):\n",
    "            count += 1\n",
    "            strg = listToString(p)\n",
    "            all_permutations.update({strg[0:lwords]})\n",
    "        #print(all_permutations)\n",
    "        all_permutations = sorted(all_permutations) # \n",
    "        for word in all_permutations:\n",
    "            print(word)\n",
    "        print(len(all_permutations), \" of \", count)\n",
    " \n",
    "# Driver program to test above function\n",
    "data = list(input(\"Enter your searchword:\"))\n",
    "generate_words(data)\n",
    "\n"
   ]
  },
  {
   "cell_type": "code",
   "execution_count": 3,
   "metadata": {},
   "outputs": [
    {
     "name": "stdout",
     "output_type": "stream",
     "text": [
      "enter your searchword:sein\n",
      "['sein', 'seni', 'sien', 'sine', 'snei', 'snie', 'esin', 'esni', 'eisn', 'eins', 'ensi', 'enis', 'isen', 'isne', 'iesn', 'iens', 'inse', 'ines', 'nsei', 'nsie', 'nesi', 'neis', 'nise', 'nies', 'sei', 'sen', 'sie', 'sin', 'sne', 'sni', 'esi', 'esn', 'eis', 'ein', 'ens', 'eni', 'ise', 'isn', 'ies', 'ien', 'ins', 'ine', 'nse', 'nsi', 'nes', 'nei', 'nis', 'nie']\n"
     ]
    }
   ],
   "source": [
    "# Ale's refactor from 2020-03-29 19h01\n",
    "import itertools\n",
    "\n",
    "def generate_words(data):\n",
    "    permutations = []\n",
    "    for i in range(len(data), 2, -1):\n",
    "        permutations = permutations + [''.join(p) for p in itertools.permutations(data, i)]\n",
    "    return permutations\n",
    "\n",
    "data = input(\"enter your searchword:\")\n",
    "permutations = generate_words(data)\n",
    "print(permutations)\n"
   ]
  },
  {
   "cell_type": "code",
   "execution_count": 6,
   "metadata": {},
   "outputs": [
    {
     "name": "stdout",
     "output_type": "stream",
     "text": [
      "enter your searchword:Sdaf\n",
      "['S', 'd', 'a', 'f']\n"
     ]
    }
   ],
   "source": [
    "# Driver program to test above function\n",
    "import itertools\n",
    "data = list(input(\"enter your searchword:\"))\n",
    "print(data)"
   ]
  },
  {
   "cell_type": "code",
   "execution_count": null,
   "metadata": {},
   "outputs": [],
   "source": []
  }
 ],
 "metadata": {
  "kernelspec": {
   "display_name": "Python 3",
   "language": "python",
   "name": "python3"
  },
  "language_info": {
   "codemirror_mode": {
    "name": "ipython",
    "version": 3
   },
   "file_extension": ".py",
   "mimetype": "text/x-python",
   "name": "python",
   "nbconvert_exporter": "python",
   "pygments_lexer": "ipython3",
   "version": "3.6.9"
  }
 },
 "nbformat": 4,
 "nbformat_minor": 4
}
