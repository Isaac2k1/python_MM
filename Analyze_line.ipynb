{
 "cells": [
  {
   "cell_type": "code",
   "execution_count": 57,
   "metadata": {},
   "outputs": [
    {
     "name": "stdout",
     "output_type": "stream",
     "text": [
      "['und', 'ein', 'eine', 'ein', 'eine', 'eines', 'einer', 'einem', 'einen', 'Hugo']\n"
     ]
    }
   ],
   "source": [
    "import re\n",
    "\n",
    "def analine(line, dictionary):\n",
    "    #print(line)\n",
    "    if ' ' in line:\n",
    "        #print(\"space\")\n",
    "        parts = re.split(' ',line)\n",
    "        #print(parts[0])\n",
    "\n",
    "    if '(' in parts[0]:\n",
    "        #print(\"open(\")\n",
    "        parts = re.split('\\(|\\)',parts[0])\n",
    "        dictionary.append(parts[0]) # append root word to list\n",
    "        #print(\"parts\",parts)\n",
    "        inbrak = re.split(',',parts[1])\n",
    "        for sil in inbrak:\n",
    "            #print(\"sil\",sil)\n",
    "            dictionary.append(parts[0]+sil)\n",
    "    else:\n",
    "        if ',' in parts[0]:\n",
    "            for word in re.split(',',parts[0]):\n",
    "                dictionary.append(word)\n",
    "        else:\n",
    "            dictionary.append(parts[0])\n",
    "\n",
    "    return(dictionary)\n",
    "\n",
    "liste = ['und']\n",
    "line = 'ein(e)' # , es, er)'\n",
    "analine(line, liste)\n",
    "line = 'ein(e,es,er,em,en)'\n",
    "analine(line, liste)\n",
    "line = 'der,die,das'\n",
    "analine(line, liste)\n",
    "line = 'Hugo 3 NOM'\n",
    "analine(line, liste)\n",
    "print(liste)\n",
    "\n",
    "# text = 'The quick brown\\nfox jumps*over the lazy dog.'\n",
    "# print(re.split('; |, |\\*|\\n',text))"
   ]
  },
  {
   "cell_type": "code",
   "execution_count": null,
   "metadata": {},
   "outputs": [],
   "source": []
  }
 ],
 "metadata": {
  "kernelspec": {
   "display_name": "Python 3",
   "language": "python",
   "name": "python3"
  },
  "language_info": {
   "codemirror_mode": {
    "name": "ipython",
    "version": 3
   },
   "file_extension": ".py",
   "mimetype": "text/x-python",
   "name": "python",
   "nbconvert_exporter": "python",
   "pygments_lexer": "ipython3",
   "version": "3.6.9"
  }
 },
 "nbformat": 4,
 "nbformat_minor": 4
}
