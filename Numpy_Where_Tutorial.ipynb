{
 "cells": [
  {
   "cell_type": "markdown",
   "metadata": {},
   "source": [
    "# NumPy Where Tutorial (With Examples)\n",
    "Posted by: Mokhtar Ebrahim  in Python June 2nd, 2020 0 26 Views\n",
    "\n",
    "https://www.webcodegeeks.com/python/numpy-where-tutorial-with-examples/\n",
    "\n",
    "Looking up for entries that satisfy a specific condition is a painful process, especially if you are searching it in a large dataset having hundreds or thousands of entries. If you know the fundamental SQL queries, you must be aware of the ‘WHERE’ clause that is used with the SELECT statement to fetch such entries from a relational database that satisfy certain conditions.\n",
    "\n",
    "NumPy offers similar functionality to find such items in a NumPy array that satisfy a given Boolean condition through its ‘where()‘ function — except that it is used in a slightly different way than the SQL SELECT statement with the WHERE clause.\n",
    "\n",
    "In this tutorial, we’ll look at the various ways the NumPy where function can be used for a variety of use cases. Let’s get going.\n",
    "\n",
    "# A very simple usage of NumPy where\n",
    "\n",
    "Let’s begin with a simple application of ‘np.where()‘ on a 1-dimensional NumPy array of integers.\n",
    "\n",
    "We will use ‘np.where’ function to find positions with values that are less than 5.\n",
    "We’ll first create a 1-dimensional array of 10 integer values randomly chosen between 0 and 9.\n"
   ]
  },
  {
   "cell_type": "code",
   "execution_count": null,
   "metadata": {},
   "outputs": [],
   "source": []
  },
  {
   "cell_type": "code",
   "execution_count": 2,
   "metadata": {},
   "outputs": [
    {
     "name": "stdout",
     "output_type": "stream",
     "text": [
      "a = [9 9 1 8 2 3 7 0 3 3]\n"
     ]
    }
   ],
   "source": [
    "import numpy as np\n",
    "a = np.random.randint(10, size = (10))\n",
    "print(\"a = {}\".format(a))"
   ]
  },
  {
   "cell_type": "markdown",
   "metadata": {},
   "source": [
    "Now we will call ‘np.where’ with the condition ‘a < 5’ i.e we’re asking ‘np.where’ to tell us where in the array a are the values less than 5.\n",
    "It will return us an array of indices where the specified condition is satisfied.\n"
   ]
  },
  {
   "cell_type": "code",
   "execution_count": 3,
   "metadata": {},
   "outputs": [
    {
     "name": "stdout",
     "output_type": "stream",
     "text": [
      "(array([2, 4, 5, 7, 8, 9]),)\n"
     ]
    }
   ],
   "source": [
    "result = np.where(a < 5)\n",
    "print(result)"
   ]
  },
  {
   "cell_type": "markdown",
   "metadata": {},
   "source": [
    "We get the indices 1,3,6,9 as output and it can be verified from the array that the values at these positions are indeed less than 5.\n",
    "Note that the returned value is a 1-element tuple. This tuple has an array of indices.\n",
    "We’ll understand the reason for the result being returned as a tuple when we discuss np.where on 2D arrays.\n",
    "\n",
    "# How does NumPy where work?\n",
    "\n",
    "To understand what goes on inside the complex expression involving the ‘np.where’ function, it is important to understand the first parameter of ‘np.where’, that is, the condition.\n",
    "\n",
    "When we call a Boolean expression involving NumPy array such as ‘a > 2’ or ‘a % 2 == 0’, it actually returns a NumPy array of Boolean values.\n",
    "\n",
    "This array has the value True at positions where the condition evaluates to True and has the value False elsewhere. This serves as a ‘mask‘ for NumPy where function.\n",
    "Here is a code example."
   ]
  },
  {
   "cell_type": "code",
   "execution_count": 4,
   "metadata": {},
   "outputs": [
    {
     "name": "stdout",
     "output_type": "stream",
     "text": [
      "a > 5:\n",
      "[False  True  True  True  True  True  True False False]\n",
      "[1 0 1 0 1 1 0 1 0]\n"
     ]
    }
   ],
   "source": [
    "a = np.array([1, 10, 13, 8, 7, 9, 6, 3, 0])\n",
    "print (\"a > 5:\")\n",
    "print(a > 5)\n",
    "print(a % 2)"
   ]
  },
  {
   "cell_type": "markdown",
   "metadata": {},
   "source": [
    "So what we effectively do is that we pass an array of Boolean values to the ‘np.where’ function which then returns the indices where the array had the value True.\n",
    "\n",
    "This can be verified by passing a constant array of Boolean values instead of specifying the condition on the array that we usually do."
   ]
  },
  {
   "cell_type": "code",
   "execution_count": 5,
   "metadata": {},
   "outputs": [
    {
     "name": "stdout",
     "output_type": "stream",
     "text": [
      "(array([0, 1, 2]),)\n"
     ]
    }
   ],
   "source": [
    "bool_array = np.array([True, True, True, False, False, False, False, False, False])\n",
    "print(np.where(bool_array))"
   ]
  },
  {
   "cell_type": "markdown",
   "metadata": {},
   "source": [
    "Notice how, instead of passing a condition on an array of actual values, we passed a Boolean array and the ‘np.where’ function returned us the indices where the values were True.\n",
    "\n",
    "# 2D matrices\n",
    "Now that we have seen it on 1-dimensional NumPy arrays, let us understand how would ‘np.where’ behave on 2D matrices.\n",
    "\n",
    "The idea remains the same. We call the ‘np.where’ function and pass a condition on a 2D matrix. The difference is in the way it returns the result indices.\n",
    "\n",
    "Earlier, np.where returned a 1-dimensional array of indices (stored inside a tuple) for a 1-D array, specifying the positions where the values satisfy a given condition.\n",
    "\n",
    "But in the case of a 2D matrix, a single position is specified using 2 values — the row index and the column index.\n",
    "\n",
    "So in this case, np.where will return 2 arrays, the first one carrying the row indices and the second one carrying the corresponding column indices.\n",
    "\n",
    "Both these rows and column index arrays are stored inside a tuple (now you know why we got a tuple as an answer even in case of a 1-D array).\n",
    "\n",
    "Let’s see this in action to better understand it. We’ll write a code to find where in a 3×3 matrix are the entries divisible by 2."
   ]
  },
  {
   "cell_type": "code",
   "execution_count": 6,
   "metadata": {},
   "outputs": [
    {
     "name": "stdout",
     "output_type": "stream",
     "text": [
      "a =\n",
      "[[6 3 7]\n",
      " [4 6 9]\n",
      " [2 6 7]]\n",
      "\n",
      "result: (array([0, 1, 1, 2, 2]), array([0, 0, 1, 0, 1]))\n"
     ]
    }
   ],
   "source": [
    "np.random.seed(42)\n",
    "a = np.random.randint(0,10, size=(3,3))\n",
    "print(\"a =\\n{}\\n\".format(a))\n",
    "result = np.where(a % 2 == 0)\n",
    "print(\"result: {}\".format(result))"
   ]
  },
  {
   "cell_type": "markdown",
   "metadata": {},
   "source": [
    "The returned tuple has 2 arrays, each bearing the row and column indices of the positions in the matrix where the values are divisible by 2.\n",
    "\n",
    "Ordered pairwise selection of values from the two arrays gives us a position each.\n",
    "The length of each of the two arrays is 5, indicating there are 5 such positions satisfying the given condition.\n",
    "\n",
    "If we look at the 3rd pair — (1,1), the value at (1,1) in the matrix is 6 which is divisible by 2.\n",
    "Likewise, you can check and verify with other pairs of indices as well.\n",
    "# Multidimensional array\n",
    "Just as we saw the working of ‘np.where’ on a 2-D matrix, we will get similar results when we apply np.where on a multidimensional NumPy array.\n",
    "\n",
    "The length of the returned tuple will be equal to the number of dimensions of the input array.\n",
    "Each array at position k in the returned tuple will represent the indices in the kth dimension of the elements satisfying the specified condition.\n",
    "\n",
    "Let’s quickly look at an example."
   ]
  },
  {
   "cell_type": "code",
   "execution_count": 8,
   "metadata": {
    "scrolled": true
   },
   "outputs": [
    {
     "name": "stdout",
     "output_type": "stream",
     "text": [
      "a =\n",
      "[[[[6 3 7]\n",
      "   [4 6 9]\n",
      "   [2 6 7]]\n",
      "\n",
      "  [[4 3 7]\n",
      "   [7 2 5]\n",
      "   [4 1 7]]\n",
      "\n",
      "  [[5 1 4]\n",
      "   [0 9 5]\n",
      "   [8 0 9]]]\n",
      "\n",
      "\n",
      " [[[2 6 3]\n",
      "   [8 2 4]\n",
      "   [2 6 4]]\n",
      "\n",
      "  [[8 6 1]\n",
      "   [3 8 1]\n",
      "   [9 8 9]]\n",
      "\n",
      "  [[4 1 3]\n",
      "   [6 7 2]\n",
      "   [0 3 1]]]\n",
      "\n",
      "\n",
      " [[[7 3 1]\n",
      "   [5 5 9]\n",
      "   [3 5 1]]\n",
      "\n",
      "  [[9 1 9]\n",
      "   [3 7 6]\n",
      "   [8 7 4]]\n",
      "\n",
      "  [[1 4 7]\n",
      "   [9 8 8]\n",
      "   [0 8 6]]]]\n",
      "\n",
      "len(result)= 4\n",
      "len(result[0]= 6)\n"
     ]
    }
   ],
   "source": [
    "np.random.seed(42)\n",
    "a = np.random.randint(0,10, size=(3,3,3,3)) #4-dimensional array\n",
    "print(\"a =\\n{}\\n\".format(a))\n",
    "result = np.where(a == 5) #checking which values are equal to 5\n",
    "print(\"len(result)= {}\".format(len(result)))\n",
    "print(\"len(result[0]= {})\".format(len(result[0])))"
   ]
  },
  {
   "cell_type": "markdown",
   "metadata": {},
   "source": [
    "len(result) = 4 indicates the input array is of 4 dimension.\n",
    "\n",
    "The length of one of the arrays in the result tuple is 6, which means there are six positions in the given 3x3x3x3 array where the given condition (i.e containing value 5) is satisfied.\n",
    "\n",
    "# Using the result as an index\n",
    "So far we have looked at how we get the tuple of indices, in each dimension, of the values satisfying the given condition.\n",
    "\n",
    "Most of the time we’d be interested in fetching the actual values satisfying the given condition instead of their indices.\n",
    "\n",
    "To achieve this, we can use the returned tuple as an index on the given array. This will return only those values whose indices are stored in the tuple.\n",
    "\n",
    "Let’s check this for the 2-D matrix example."
   ]
  },
  {
   "cell_type": "code",
   "execution_count": 27,
   "metadata": {},
   "outputs": [
    {
     "name": "stdout",
     "output_type": "stream",
     "text": [
      "a =\n",
      "[[6 3 7]\n",
      " [4 6 9]\n",
      " [2 6 7]]\n",
      "\n",
      "result: [6 4 6 2 6]\n"
     ]
    }
   ],
   "source": [
    "np.random.seed(42)\n",
    "a = np.random.randint(0,10, size=(3,3))\n",
    "print(\"a =\\n{}\\n\".format(a))\n",
    "result_indices = np.where(a % 2 == 0)\n",
    "result = a[result_indices]\n",
    "print(\"result: {}\".format(result))"
   ]
  },
  {
   "cell_type": "markdown",
   "metadata": {},
   "source": [
    "As discussed above, we get all those values (not their indices) that satisfy the given condition which, in our case, was divisibility by 2 i.e even numbers.\n",
    "# Parameters ‘x’ and ‘y’\n",
    "Instead of getting the indices as a result of calling the ‘np.where’ function, we can also provide as parameters, two optional arrays x and y of the same shape (or broadcastable shape) as input array, whose values will be returned when the specified condition on the corresponding values in input array is True or False respectively.\n",
    "\n",
    "For instance, if we call the method on a 1-dimensional array of length 10, and we supply two more arrays x and y of the same length.\n",
    "\n",
    "In this case, whenever a value in input array satisfies the given condition, the corresponding value in array x will be returned whereas, if the condition is false on a given value, the corresponding value from array y will be returned.\n",
    "\n",
    "These values from x and y at their respective positions will be returned as an array of the same shape as the input array.\n",
    "\n",
    "Let’s get a better understanding of this through code."
   ]
  },
  {
   "cell_type": "code",
   "execution_count": 9,
   "metadata": {},
   "outputs": [
    {
     "name": "stdout",
     "output_type": "stream",
     "text": [
      "a = [6 3 7 4 6 9 2 6 7 4]\n",
      "x = [6 3 7 4 6 9 2 6 7 4]\n",
      "y = [60 30 70 40 60 90 20 60 70 40]\n",
      "\n",
      "result = [60  3  7 40 60  9 20 60  7 40]\n"
     ]
    }
   ],
   "source": [
    "np.random.seed(42)\n",
    "a = np.random.randint(0,10, size=(10))\n",
    "x = a\n",
    "y = a*10\n",
    "print(\"a = {}\".format(a))\n",
    "print(\"x = {}\".format(x))\n",
    "print(\"y = {}\".format(y))\n",
    "result = np.where(a%2 == 1, x, y) #if number is odd return the same number else return its multiple of 10.\n",
    "print(\"\\nresult = {}\".format(result))"
   ]
  },
  {
   "cell_type": "markdown",
   "metadata": {},
   "source": [
    "This method is useful if you want to replace the values satisfying a particular condition by another set of values and leaving those not satisfying the condition unchanged.\n",
    "In that case, we will pass the replacement value(s) to the parameter x and the original array to the parameter y.\n",
    "\n",
    "Note that we can pass either both x and y together or none of them. We can’t pass one of them and skip the other.\n",
    "# Apply on Pandas DataFrames\n",
    "Numpy’s ‘where’ function doesn’t necessarily have to be applied to NumPy arrays. It can be used with any iterable that would yield a list of Boolean values.\n",
    "\n",
    "Let us see how we can apply the ‘np.where’ function on a Pandas DataFrame to see if the strings in a column contain a particular substring."
   ]
  },
  {
   "cell_type": "code",
   "execution_count": 28,
   "metadata": {},
   "outputs": [
    {
     "name": "stdout",
     "output_type": "stream",
     "text": [
      "Fruits DataFrame:\n",
      "\n",
      "           fruit         color\n",
      "0          apple           red\n",
      "1         banana  green/yellow\n",
      "2     musk melon         white\n",
      "3     watermelon         green\n",
      "4      pineapple        yellow\n",
      "5  custard apple         green\n"
     ]
    }
   ],
   "source": [
    "import pandas as pd\n",
    "import numpy as np\n",
    "df  = pd.DataFrame({\"fruit\":[\"apple\", \"banana\", \"musk melon\", \"watermelon\", \n",
    "                             \"pineapple\", \"custard apple\"], \n",
    "                    \"color\": [\"red\", \"green/yellow\", \"white\", \"green\", \"yellow\", \n",
    "                              \"green\"]})\n",
    "print(\"Fruits DataFrame:\\n\")\n",
    "print(df)"
   ]
  },
  {
   "cell_type": "markdown",
   "metadata": {},
   "source": [
    "Now we’re going to use ‘np.where’ to extract those rows from the DataFrame ‘df’ where the ‘fruit’ column has the substring ‘apple’"
   ]
  },
  {
   "cell_type": "code",
   "execution_count": 12,
   "metadata": {},
   "outputs": [
    {
     "name": "stdout",
     "output_type": "stream",
     "text": [
      "           fruit   color\n",
      "0          apple     red\n",
      "4      pineapple  yellow\n",
      "5  custard apple   green\n"
     ]
    }
   ],
   "source": [
    "apple_df = df.iloc[np.where(df.fruit.str.contains(\"apple\"))]\n",
    "print(apple_df)"
   ]
  },
  {
   "cell_type": "markdown",
   "metadata": {},
   "source": [
    "Let’s try one more example on the same DataFrame where we extract rows for which the ‘color’ column does not contain the substring ‘yell’.\n",
    "\n",
    "Note: we use the tilde (~) sign to inverse Boolean values in Pandas DataFrame or a NumPy array."
   ]
  },
  {
   "cell_type": "code",
   "execution_count": null,
   "metadata": {},
   "outputs": [],
   "source": [
    "non_yellow_fruits = df.iloc[np.where(~df.color.str.contains(\"yell\"))]\n",
    "print(\"Non Yellow fruits:\\n{}\".format(non_yellow_fruits))"
   ]
  },
  {
   "cell_type": "markdown",
   "metadata": {},
   "source": [
    "# Multiple conditions\n",
    "So far we have been evaluating a single Boolean condition in the ‘np.where’ function. We may sometimes need to combine multiple Boolean conditions using Boolean operators like ‘AND‘ or ‘OR’.\n",
    "\n",
    "It is easy to specify multiple conditions and combine them using a Boolean operator.\n",
    "\n",
    "The only caveat is that for the NumPy array of Boolean values, we cannot use the normal keywords ‘and’ or ‘or’ that we typically use for single values.\n",
    "\n",
    "We need to use the ‘&’ operator for ‘AND’ and ‘|’ operator for ‘OR’ operation for element-wise Boolean combination operations.\n",
    "\n",
    "Let us understand this through an example."
   ]
  },
  {
   "cell_type": "code",
   "execution_count": 14,
   "metadata": {},
   "outputs": [
    {
     "name": "stdout",
     "output_type": "stream",
     "text": [
      "[[ 6  3 12 14 10]\n",
      " [ 7 12  4  6  9]\n",
      " [ 2  6 10 10  7]\n",
      " [ 4  3  7  7  2]\n",
      " [ 5  4  1  7 11]]\n"
     ]
    }
   ],
   "source": [
    "np.random.seed(42)\n",
    "a = np.random.randint(0,15, (5,5)) #5x5 matrix with values from 0 to 14\n",
    "print(a)"
   ]
  },
  {
   "cell_type": "markdown",
   "metadata": {},
   "source": [
    "We will look for values that are smaller than 8 and are odd. We can combine these two conditions using the AND (&) operator."
   ]
  },
  {
   "cell_type": "code",
   "execution_count": 15,
   "metadata": {},
   "outputs": [
    {
     "name": "stdout",
     "output_type": "stream",
     "text": [
      "[3 7 7 3 7 7 5 1 7]\n"
     ]
    }
   ],
   "source": [
    "# get indices of odd values less than 8 in a\n",
    "indices = np.where((a < 8) & (a % 2==1)) \n",
    "#print the actual values\n",
    "print(a[indices])"
   ]
  },
  {
   "cell_type": "markdown",
   "metadata": {},
   "source": [
    "We can also use the OR (|) operator to combine the same conditions.\n",
    "\n",
    "This will give us values that are ‘less than 8’ OR ‘odd values’ i.e all values less than 8 and all odd values greater than 8 will be returned."
   ]
  },
  {
   "cell_type": "code",
   "execution_count": 16,
   "metadata": {},
   "outputs": [
    {
     "name": "stdout",
     "output_type": "stream",
     "text": [
      "[ 6  3  7  4  6  9  2  6  7  4  3  7  7  2  5  4  1  7 11]\n"
     ]
    }
   ],
   "source": [
    "# get indices of values less than 8 OR odd values in a\n",
    "indices = np.where((a < 8) | (a % 2==1))\n",
    "#print the actual values\n",
    "print(a[indices])"
   ]
  },
  {
   "cell_type": "markdown",
   "metadata": {},
   "source": [
    "# Nested where (where within where)\n",
    "Let us revisit the example of our ‘fruits’ table."
   ]
  },
  {
   "cell_type": "code",
   "execution_count": 17,
   "metadata": {},
   "outputs": [
    {
     "name": "stdout",
     "output_type": "stream",
     "text": [
      "Fruits DataFrame:\n",
      "\n",
      "           fruit         color\n",
      "0          apple           red\n",
      "1         banana  green/yellow\n",
      "2     musk melon         white\n",
      "3     watermelon         green\n",
      "4      pineapple        yellow\n",
      "5  custard apple         green\n"
     ]
    }
   ],
   "source": [
    "import pandas as pd\n",
    "import numpy as np\n",
    "df  = pd.DataFrame({\"fruit\":[\"apple\", \"banana\", \"musk melon\",\n",
    "                             \"watermelon\", \"pineapple\", \"custard apple\"],\n",
    "                   \"color\": [\"red\", \"green/yellow\", \"white\",\n",
    "                            \"green\", \"yellow\", \"green\"]})\n",
    "print(\"Fruits DataFrame:\\n\")\n",
    "print(df)"
   ]
  },
  {
   "cell_type": "markdown",
   "metadata": {},
   "source": [
    "Now let us suppose we wanted to create one more column ‘flag’ which would have the value 1 if the fruit in that row has a substring ‘apple’ or is of color ‘yellow’.\n",
    "\n",
    "We can achieve this by using nested where calls i.e we will call ‘np.where’ function as a parameter within another ‘np.where’ call."
   ]
  },
  {
   "cell_type": "code",
   "execution_count": 18,
   "metadata": {},
   "outputs": [
    {
     "name": "stdout",
     "output_type": "stream",
     "text": [
      "           fruit         color  flag\n",
      "0          apple           red     1\n",
      "1         banana  green/yellow     1\n",
      "2     musk melon         white     0\n",
      "3     watermelon         green     0\n",
      "4      pineapple        yellow     1\n",
      "5  custard apple         green     1\n"
     ]
    }
   ],
   "source": [
    "df['flag'] = np.where(df.fruit.str.contains(\"apple\"), 1, # if fruit == 'apple', set 1\n",
    "                     np.where(df.color.str.contains(\"yellow\"), 1, 0)) #else if color has 'yellow' set 1, else set 0\n",
    "print(df)"
   ]
  },
  {
   "cell_type": "markdown",
   "metadata": {},
   "source": [
    "The complex expression above can be translated into simple English as:\n",
    "\n",
    "1. If the ‘fruit’ column has the substring ‘apple’, set the ‘flag’ value to 1\n",
    "\n",
    "2. Else:\n",
    "\n",
    "  1. If the ‘color’ column has substring ‘yellow’, set the ‘flag’ value to 1\n",
    "  2. Else set the ‘flag’ value to 0\n",
    "\n",
    "Note that we can achieve the same result using the OR (|) operator."
   ]
  },
  {
   "cell_type": "code",
   "execution_count": 19,
   "metadata": {},
   "outputs": [
    {
     "name": "stdout",
     "output_type": "stream",
     "text": [
      "           fruit         color  flag\n",
      "0          apple           red     1\n",
      "1         banana  green/yellow     1\n",
      "2     musk melon         white     0\n",
      "3     watermelon         green     0\n",
      "4      pineapple        yellow     1\n",
      "5  custard apple         green     1\n"
     ]
    }
   ],
   "source": [
    "#set flag = 1 if any of the two conditions is true, else set it to 0\n",
    "df['flag'] = np.where(df.fruit.str.contains(\"apple\") | \n",
    "                      df.color.str.contains(\"yellow\"), 1, 0)\n",
    "print(df)"
   ]
  },
  {
   "cell_type": "markdown",
   "metadata": {},
   "source": [
    "Thus nested where is particularly useful for tabular data like Pandas DataFrames and is a good equivalent of the nested WHERE clause used in SQL queries.\n",
    "\n",
    "# Finding rows of zeros\n",
    "Sometimes, in a 2D matrix, some or all of the rows have all values equal to zero. For instance, check out the following NumPy array."
   ]
  },
  {
   "cell_type": "code",
   "execution_count": 22,
   "metadata": {},
   "outputs": [
    {
     "name": "stdout",
     "output_type": "stream",
     "text": [
      "[[ 1  2  0]\n",
      " [ 0  9 20]\n",
      " [ 0  0  0]\n",
      " [ 3  3 12]\n",
      " [ 0  0  0]\n",
      " [ 1  0  0]]\n"
     ]
    }
   ],
   "source": [
    "a = np.array([[1, 2, 0],\n",
    "             [0, 9, 20],\n",
    "             [0, 0, 0],\n",
    "             [3, 3, 12],\n",
    "             [0, 0, 0],\n",
    "             [1, 0, 0]])\n",
    "print(a)"
   ]
  },
  {
   "cell_type": "markdown",
   "metadata": {},
   "source": [
    "As we can see the rows 2 and 4 have all values equal to zero. But how do we find this using the ‘np.where’ function?\n",
    "\n",
    "If we want to find such rows using NumPy where function, we will need to come up with a Boolean array indicating which rows have all values equal to zero.\n",
    "\n",
    "We can use the ‘np.any()‘ function with ‘axis = 1’, which returns True if at least one of the values in a row is non-zero.\n",
    "\n",
    "The result of np.any() will be a Boolean array of length equal to the number of rows in our NumPy matrix, in which the positions with the value True indicate the corresponding row has at least one non-zero value.\n",
    "\n",
    "But we needed a Boolean array that was quite the opposite of this!\n",
    "\n",
    "That is, we needed a Boolean array where the value ‘True’ would indicate that every element in that row is equal to zero.\n",
    "\n",
    "Well, this can be obtained through a simple inversion step. The NOT or tilde (~) operator inverts each of the Boolean values in a NumPy array.\n",
    "\n",
    "The inverted Boolean array can then be passed to the ‘np.where’ function.\n",
    "\n",
    "Ok, that was a long, tiring explanation. Let’s see this thing in action."
   ]
  },
  {
   "cell_type": "code",
   "execution_count": 23,
   "metadata": {},
   "outputs": [
    {
     "name": "stdout",
     "output_type": "stream",
     "text": [
      "[2 4]\n"
     ]
    }
   ],
   "source": [
    "zero_rows = np.where(~np.any(a, axis=1))[0]\n",
    "print(zero_rows)"
   ]
  },
  {
   "cell_type": "markdown",
   "metadata": {},
   "source": [
    "Let’s look at what’s happening step-by-step:\n",
    "\n",
    "- np.any() returns True if at least one element in the matrix is True (non-zero). axis = 1 indicates it to do this operation row-wise.\n",
    "\n",
    "- It would return a Boolean array of length equal to the number of rows in a, with the value True for rows having non-zero values, and False for rows having all values = 0."
   ]
  },
  {
   "cell_type": "code",
   "execution_count": 24,
   "metadata": {},
   "outputs": [
    {
     "data": {
      "text/plain": [
       "array([ True,  True, False,  True, False,  True])"
      ]
     },
     "execution_count": 24,
     "metadata": {},
     "output_type": "execute_result"
    }
   ],
   "source": [
    "np.any(a, axis=1)"
   ]
  },
  {
   "cell_type": "markdown",
   "metadata": {},
   "source": [
    "The tilde (~) operator inverts the above Boolean array:"
   ]
  },
  {
   "cell_type": "code",
   "execution_count": 25,
   "metadata": {},
   "outputs": [
    {
     "data": {
      "text/plain": [
       "array([False, False,  True, False,  True, False])"
      ]
     },
     "execution_count": 25,
     "metadata": {},
     "output_type": "execute_result"
    }
   ],
   "source": [
    "~np.any(a, axis=1)"
   ]
  },
  {
   "cell_type": "markdown",
   "metadata": {},
   "source": [
    "‘np.where()’ accepts this Boolean array and returns indices having the value True.\n",
    "The indexing [0] is used because, as discussed earlier, ‘np.where’ returns a tuple.\n",
    "\n",
    "# Finding the last occurrence of a true condition\n",
    "We know that NumPy’s ‘where’ function returns multiple indices or pairs of indices (in case of a 2D matrix) for which the specified condition is true.\n",
    "\n",
    "But sometimes we are interested in only the first occurrence or the last occurrence of the value for which the specified condition is met.\n",
    "\n",
    "Let’s take the simple example of a one-dimensional array where we will find the last occurrence of a value divisible by 3."
   ]
  },
  {
   "cell_type": "code",
   "execution_count": 26,
   "metadata": {},
   "outputs": [
    {
     "name": "stdout",
     "output_type": "stream",
     "text": [
      "Array a: [6 3 7 4 6 9 2 6 7 4]\n",
      "last occurrence at 7\n"
     ]
    }
   ],
   "source": [
    "np.random.seed(42)\n",
    "a = np.random.randint(0,10, size=(10))\n",
    "print(\"Array a:\", a)\n",
    "indices = np.where(a%3==0)[0]\n",
    "last_occurrence_position = indices[-1]\n",
    "print(\"last occurrence at\", last_occurrence_position)"
   ]
  },
  {
   "cell_type": "markdown",
   "metadata": {},
   "source": [
    "Here we could directly use the index ‘-1’ on the returned indices to get the last value in the array.\n",
    "\n",
    "But how would we extract the position of the last occurrence in a multidimensional array, where the returned result is a tuple of arrays and each array stores the indices in one of the dimensions?\n",
    "\n",
    "We can use the zip function which takes multiple iterables and returns a pairwise combination of values from each iterable in the given order.\n",
    "\n",
    "It returns an iterator object, and so we need to convert the returned object into a list or a tuple or any iterable.\n",
    "\n",
    "Let’s first see how zip works:"
   ]
  },
  {
   "cell_type": "code",
   "execution_count": 27,
   "metadata": {},
   "outputs": [
    {
     "name": "stdout",
     "output_type": "stream",
     "text": [
      "[(1, 5), (2, 6), (3, 7), (4, 8)]\n"
     ]
    }
   ],
   "source": [
    "a = (1, 2, 3, 4)\n",
    "b = (5, 6, 7, 8)\n",
    "c = list(zip(a,b))\n",
    "print(c)"
   ]
  },
  {
   "cell_type": "markdown",
   "metadata": {},
   "source": [
    "So the first element of a and the first element of b form a tuple, then the second element of a and the second element of b form the second tuple in c, and so on.\n",
    "\n",
    "We’ll use the same technique to find the position of the last occurrence of a condition being satisfied in a multidimensional array.\n",
    "\n",
    "Let’s use it for a 2D matrix with the same condition as we saw in the earlier example."
   ]
  },
  {
   "cell_type": "code",
   "execution_count": null,
   "metadata": {},
   "outputs": [],
   "source": [
    "np.random.seed(42)\n",
    "a = np.random.randint(0,10, size=(3,3))\n",
    "print(\"Matrix a:\\n\", a)\n",
    "indices = np.where(a % 3 == 0)\n",
    "last_occurrence_position = list(zip(*indices))[-1]\n",
    "print(\"last occurrence at\",last_occurrence_position)"
   ]
  },
  {
   "cell_type": "markdown",
   "metadata": {},
   "source": [
    "We can see in the matrix the last occurrence of a multiple of 3 is at the position (2,1), which is the value 6.\n",
    "\n",
    "Note: The * operator is an unpacking operator that is used to unpack a sequence of values into separate positional arguments.\n",
    "# Using on DateTime data\n",
    "We have been using ‘np.where’ function to evaluate certain conditions on either numeric values (greater than, less than, equal to, etc.), or string data (contains, does not contain, etc.)\n",
    "\n",
    "We can also use the ‘np.where’ function on datetime data.\n",
    "\n",
    "For example, we can check in a list of datetime values, which of the datetime instances are before/after a given specified datetime.\n",
    "\n",
    "Let’s understand this through an example.\n",
    "Note: We’ll use Python’s datetime module to create date objects.\n",
    "\n",
    "Let’s first define a DataFrame specifying the dates of birth of 6 individuals."
   ]
  },
  {
   "cell_type": "code",
   "execution_count": 29,
   "metadata": {},
   "outputs": [
    {
     "name": "stdout",
     "output_type": "stream",
     "text": [
      "      name date_of_birth\n",
      "0     John    1969-12-01\n",
      "1    Smith    1988-03-13\n",
      "2  Stephen    1992-05-19\n",
      "3   Trevor    1972-05-31\n",
      "4    Kylie    1989-11-28\n",
      "5    Aariz    1993-02-07\n"
     ]
    }
   ],
   "source": [
    "import datetime\n",
    "names = [\"John\", \"Smith\", \"Stephen\", \"Trevor\", \"Kylie\", \"Aariz\"]\n",
    "dob = [datetime.datetime(1969, 12, 1),\n",
    "       datetime.datetime(1988, 3, 13),\n",
    "      datetime.datetime(1992, 5, 19),\n",
    "      datetime.datetime(1972, 5, 31),\n",
    "      datetime.datetime(1989, 11, 28),\n",
    "      datetime.datetime(1993, 2, 7)]\n",
    "data_birth = pd.DataFrame({\"name\":names, \"date_of_birth\":dob})\n",
    "print(data_birth)"
   ]
  },
  {
   "cell_type": "markdown",
   "metadata": {},
   "source": [
    "This table has people from diverse age groups!\n",
    "Let us now specify a condition where we are interested in those individuals who are born on or post-January 1, 1990."
   ]
  },
  {
   "cell_type": "code",
   "execution_count": 30,
   "metadata": {},
   "outputs": [
    {
     "name": "stdout",
     "output_type": "stream",
     "text": [
      "[2 5]\n"
     ]
    }
   ],
   "source": [
    "post_90_indices = np.where(data_birth.date_of_birth >= '1990-01-01')[0]\n",
    "print(post_90_indices)"
   ]
  },
  {
   "cell_type": "markdown",
   "metadata": {},
   "source": [
    "Rows 2 and 5 have Smith and Kylie who are born in the years 1992 and 1993 respectively.\n",
    "\n",
    "Here we are using the ‘greater than or equal to’ (>=) operator on a datetime data, which we generally use with numeric data.\n",
    "This is possible through operator overloading.\n",
    "\n",
    "Let’s try one more example. Let’s fetch individuals that were born in May.\n",
    "\n",
    "Note: Pandas Series provides ‘dt’ sub-module for datetime specific operations, similar to the ‘str’ sub-module we saw in our earlier examples."
   ]
  },
  {
   "cell_type": "code",
   "execution_count": 31,
   "metadata": {},
   "outputs": [
    {
     "name": "stdout",
     "output_type": "stream",
     "text": [
      "May babies:\n",
      "      name date_of_birth\n",
      "2  Stephen    1992-05-19\n",
      "3   Trevor    1972-05-31\n"
     ]
    }
   ],
   "source": [
    "may_babies = data_birth.iloc[np.where(data_birth.date_of_birth.dt.month == 5)]\n",
    "print(\"May babies:\\n{}\".format(may_babies))"
   ]
  },
  {
   "cell_type": "markdown",
   "metadata": {},
   "source": [
    "# Conclusion\n",
    "We began the tutorial with simple usage of ‘np.where’ function on a 1-dimensional array with conditions specified on numeric data.\n",
    "\n",
    "We then looked at the application of ‘np.where’ on a 2D matrix and then on a general multidimensional NumPy array.\n",
    "We also understood how to interpret the tuple of arrays returned by ‘np.where’ in such cases.\n",
    "\n",
    "We then understood the functionality of ‘np.where’ in detail, using Boolean masks.\n",
    "We also saw how we can use the result of this method as an index to extract the actual original values that satisfy the given condition.\n",
    "\n",
    "We looked at the behavior of the ‘np.where’ function with the optional arguments ‘x’ and ‘y’.\n",
    "\n",
    "We then checked the application of ‘np.where’ on a Pandas DataFrame, followed by using it to evaluate multiple conditions.\n",
    "\n",
    "We also looked at the nested use of ‘np.where’, its usage in finding the zero rows in a 2D matrix, and then finding the last occurrence of the value satisfying the condition specified by ‘np.where’\n",
    "\n",
    "Finally, we used ‘np.where’ function on a datetime data, by specifying chronological conditions on a datetime column in a Pandas DataFrame."
   ]
  },
  {
   "cell_type": "code",
   "execution_count": null,
   "metadata": {},
   "outputs": [],
   "source": []
  }
 ],
 "metadata": {
  "kernelspec": {
   "display_name": "Python 3",
   "language": "python",
   "name": "python3"
  },
  "language_info": {
   "codemirror_mode": {
    "name": "ipython",
    "version": 3
   },
   "file_extension": ".py",
   "mimetype": "text/x-python",
   "name": "python",
   "nbconvert_exporter": "python",
   "pygments_lexer": "ipython3",
   "version": "3.7.1"
  }
 },
 "nbformat": 4,
 "nbformat_minor": 2
}
