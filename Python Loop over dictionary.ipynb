{
 "cells": [
  {
   "cell_type": "markdown",
   "metadata": {},
   "source": [
    "# How to Loop Over a Dictionary in Python: Keys, Values, and More\n",
    "Posted by: Jeremy Grifski in Python 2020-06-19\n",
    "\n",
    "Welcome to yet another How to Python article. Today, we’ll be looking at looping over dictionaries which appears to be a hot topic—at least by an organic standpoint.\n",
    "As it turns out, there are few ways to get it done. First, we could loop over the keys directly: for key in dictionary. Alternatively, we might only need to loop over the values: for value in dictionary.values(). That said, most folks probably need to be able to do both at the same time: for key, value in dictionary.items().\n",
    "If you’re interested in learning more about these solutions, the remainder of this article will take some time to help you out. At the very least, I’d love it if you completed the challenge below.\n",
    "Problem Description\n",
    "In the past, we talked about writing loops generally. Of course, when it comes to working with common data structures like lists and tuples in Python, looping over them is a breeze:"
   ]
  },
  {
   "cell_type": "code",
   "execution_count": 2,
   "metadata": {},
   "outputs": [
    {
     "name": "stdout",
     "output_type": "stream",
     "text": [
      "1\n",
      "5\n",
      "4\n",
      "3\n"
     ]
    }
   ],
   "source": [
    "data = [1, 5, 4, 3]\n",
    "for num in data:\n",
    "    print(num)\n",
    "    pass  # Do something!"
   ]
  },
  {
   "cell_type": "markdown",
   "metadata": {},
   "source": [
    "However, once we start talking about more complicated data structures like dictionaries, iteration becomes a bit more complicated. For example, here’s a dictionary that we’ll be using throughout this article:"
   ]
  },
  {
   "cell_type": "code",
   "execution_count": 3,
   "metadata": {},
   "outputs": [],
   "source": [
    "players = {\n",
    "  \"Crosby\": 87,\n",
    "  \"Malkin\": 71,\n",
    "  \"Letang\": 58\n",
    "}\n"
   ]
  },
  {
   "cell_type": "markdown",
   "metadata": {},
   "source": [
    "If we want to loop over this, what order can we expect it to be in? And, does the concept of ordering even make sense? Likewise, what do the elements look like during iteration?\n",
    "Before we dive in, I think it’s important to address a couple of these questions right out of the gate. First, dictionaries have a temporal ordering—at least since Python 3.7—which means that items are sorted by the order in which they were added.\n",
    "That said, element question is a bit more complicated, so we’ll take the rest of this article to answer it.\n",
    "\n",
    "# Solutions\n",
    "At this point, let’s go ahead and start talking about how to actually iterate over a dictionary. As it turns out, there are three main ways to do it, and it all depends on our needs. That said, we’ll start by looking at keys and values separately and finish up with a way to loop over both at the same time.\n",
    "Iterating Over Dictionary Keys\n",
    "If we were to use the same strategy on the dictionary as we did on the list above, we may find ourselves a little confused (as one individual does in this StackOverflow question):"
   ]
  },
  {
   "cell_type": "code",
   "execution_count": 9,
   "metadata": {},
   "outputs": [
    {
     "name": "stdout",
     "output_type": "stream",
     "text": [
      "Crosby's number is 87\n",
      "Malkin's number is 71\n",
      "Letang's number is 58\n"
     ]
    }
   ],
   "source": [
    "players = {\n",
    "  \"Crosby\": 87,\n",
    "  \"Malkin\": 71,\n",
    "  \"Letang\": 58\n",
    "}\n",
    "for player in players:\n",
    "    print(f'{player}\\'s number is {players[player]}')"
   ]
  },
  {
   "cell_type": "markdown",
   "metadata": {},
   "source": [
    "As we can see, the player variable seems to store each key. To make use of this information, we’ll need to use these keys to access our values.\n",
    "\n",
    "Notice how we used the player variable to access our players dictionary. On each pass, we picked up a new player and retrieved their number directly.\n",
    "\n",
    "# Iterating Over Dictionary Values\n",
    "Assuming we’re using the latest version of Python, we can iterate over both keys and values at the same time using the items() method. Essentially, this method packages each key and value as a tuple which can be unpacked using the iterable unpacking syntax (aka destructuring for you JavaScript folks).\n",
    "If you’re interested in learning more about iterable unpacking, I’ve included an example in a previous article in this series. Likewise, the feature also made an appearance on my list of the coolest programming language features.\n",
    " \n",
    "At any rate, let’s go ahead and compare these three options in terms of performance.\n",
    "\n",
    "# Performance\n",
    "To compare these solutions, we’ll need to come up with a consistent scenario. Here, we’ll assume that we’ll need both the key and the value. Obviously, this gives the advantage to the items() solution, so the rationale is that this is probably the most common scenario.\n",
    "At any rate, we’ll be using the timeit library which runs code snippets as strings. If you’re interested in learning more about this testing process, check out my article on performance testing in Python. Otherwise, here are the strings:"
   ]
  },
  {
   "cell_type": "code",
   "execution_count": 21,
   "metadata": {},
   "outputs": [],
   "source": [
    "setup = \"\"\"\n",
    "players = {\n",
    "  \"Crosby\": 87,\n",
    "  \"Malkin\": 71,\n",
    "  \"Letang\": 58\n",
    "}\n",
    "\"\"\"\n",
    "keys_solution = \"\"\"\n",
    "for player in players:\n",
    "  player_info = f\\\"{player}'s number is {players[player]}\\\"\n",
    "\"\"\"\n",
    "values_solution = \"\"\"\n",
    "for number in players.values():\n",
    "  player = next(player for player in players.keys() if players[player] == number)\n",
    "  player_info = f\\\"{player}'s number is {players[player]}\\\"\n",
    "\"\"\"\n",
    "items_solution = \"\"\"\n",
    "for player, number in players.items():\n",
    "  player_info = f\\\"{player}'s number is {number}\\\"\n",
    "\"\"\"\n"
   ]
  },
  {
   "cell_type": "markdown",
   "metadata": {},
   "source": [
    "Now that we have our strings, we can begin our testing:"
   ]
  },
  {
   "cell_type": "code",
   "execution_count": 22,
   "metadata": {},
   "outputs": [
    {
     "data": {
      "text/plain": [
       "0.47421733300006963"
      ]
     },
     "execution_count": 22,
     "metadata": {},
     "output_type": "execute_result"
    }
   ],
   "source": [
    "import timeit\n",
    "min(timeit.repeat(setup=setup, stmt=keys_solution))"
   ]
  },
  {
   "cell_type": "code",
   "execution_count": 23,
   "metadata": {},
   "outputs": [
    {
     "data": {
      "text/plain": [
       "1.9572387089999665"
      ]
     },
     "execution_count": 23,
     "metadata": {},
     "output_type": "execute_result"
    }
   ],
   "source": [
    "min(timeit.repeat(setup=setup, stmt=values_solution))"
   ]
  },
  {
   "cell_type": "code",
   "execution_count": 24,
   "metadata": {},
   "outputs": [
    {
     "data": {
      "text/plain": [
       "0.5479398330001004"
      ]
     },
     "execution_count": 24,
     "metadata": {},
     "output_type": "execute_result"
    }
   ],
   "source": [
    "min(timeit.repeat(setup=setup, stmt=items_solution))"
   ]
  },
  {
   "cell_type": "markdown",
   "metadata": {},
   "source": [
    "Clearly, this is a bit surprising because of the extra lookup required for the keys solution. I would have assumed that the items() solution would have won out. Naturally, I couldn’t help but test this problem with a larger data set, so I expanded our players dictionary:"
   ]
  },
  {
   "cell_type": "code",
   "execution_count": 25,
   "metadata": {},
   "outputs": [],
   "source": [
    "setup = \"\"\"\n",
    "players = {\n",
    "  \"Crosby\": 87,\n",
    "  \"Malkin\": 71,\n",
    "  \"Letang\": 58,\n",
    "  \"Guentzel\": 59,\n",
    "  \"Aston-Reese\": 46,\n",
    "  \"Blueger\": 53,\n",
    "  \"Johnson\": 3,\n",
    "  \"Jarry\": 35,\n",
    "  \"Murray\": 30,\n",
    "  \"Marino\": 6,\n",
    "  \"Rust\": 17,\n",
    "  \"Sheary\": 43,\n",
    "  \"Zucker\": 16\n",
    "}\n",
    "\"\"\""
   ]
  },
  {
   "cell_type": "markdown",
   "metadata": {},
   "source": [
    "Now that we have about 4 times the players, let’s check back in on our algorithms:"
   ]
  },
  {
   "cell_type": "code",
   "execution_count": 27,
   "metadata": {},
   "outputs": [
    {
     "data": {
      "text/plain": [
       "2.0673512089999804"
      ]
     },
     "execution_count": 27,
     "metadata": {},
     "output_type": "execute_result"
    }
   ],
   "source": [
    "min(timeit.repeat(setup=setup, stmt=keys_solution))"
   ]
  },
  {
   "cell_type": "code",
   "execution_count": 26,
   "metadata": {},
   "outputs": [
    {
     "data": {
      "text/plain": [
       "2.1413250409998454"
      ]
     },
     "execution_count": 26,
     "metadata": {},
     "output_type": "execute_result"
    }
   ],
   "source": [
    "min(timeit.repeat(setup=setup, stmt=items_solution))"
   ]
  },
  {
   "cell_type": "markdown",
   "metadata": {},
   "source": [
    "This time around I didn’t bother testing the values solution because, well, it’s already quite slow. That said, it looks like the items solution is already starting to edge out the keys solution. I wonder what this test would look like with even more data. Feel free to give it a try and let me know!\n",
    "For reference, I tested all this code on Python 3.7.3 in IDLE using Windows 10.\n",
    "Challenge\n",
    "Now that we know how to iterate over a dictionary, I’m wondering if we could take some of this knowledge to the next level. For instance, what if we had the following data structure:"
   ]
  },
  {
   "cell_type": "code",
   "execution_count": 28,
   "metadata": {},
   "outputs": [
    {
     "ename": "SyntaxError",
     "evalue": "invalid syntax (<ipython-input-28-f68a2cf94a33>, line 6)",
     "output_type": "error",
     "traceback": [
      "\u001b[0;36m  File \u001b[0;32m\"<ipython-input-28-f68a2cf94a33>\"\u001b[0;36m, line \u001b[0;32m6\u001b[0m\n\u001b[0;31m    ) ...\u001b[0m\n\u001b[0m      ^\u001b[0m\n\u001b[0;31mSyntaxError\u001b[0m\u001b[0;31m:\u001b[0m invalid syntax\n"
     ]
    }
   ],
   "source": [
    "health_data = (\n",
    "  (\n",
    "    \"05-01-2020\", # Date\n",
    "    180.5,  # Weight\n",
    "    8043  # Steps\n",
    "  ) ...\n",
    ")"
   ]
  },
  {
   "cell_type": "markdown",
   "metadata": {},
   "source": [
    "In other words, we have some health data in the form of a tuple of tuples. Each inner tuple has three data items: date, weights, and steps. Is there some way we could effectively process each row of data using what we’ve learned today?\n",
    "As always, I’ll share my answer on Twitter using #RenegadePython:\n",
    "\n",
    "Jeremy Grifski\n",
    "@RenegadeCoder94\n",
    "\n",
    "Right now, I'm working on an article about iterating over dictionaries, and I thought some of the concepts could be applied to other data structures as well. Here's some iterable unpacking in a loop. #RenegadePython\n",
    "Iterable unpacking a tuple of tuples.\n",
    "\n",
    "See Jeremy Grifski's other Tweets\n",
    "\n",
    "Are there other ways to do this? Why not share your own solution using the same hashtag? If I see it, I’ll give it a share!\n",
    "\n",
    "A Little Recap\n",
    "As always, here’s the list of solutions:"
   ]
  },
  {
   "cell_type": "code",
   "execution_count": 19,
   "metadata": {},
   "outputs": [
    {
     "name": "stdout",
     "output_type": "stream",
     "text": [
      "Crosby\n",
      "Malkin\n",
      "Letang\n",
      "87\n",
      "71\n",
      "58\n",
      "Crosby 87\n",
      "Malkin 71\n",
      "Letang 58\n",
      "Crosby 87\n",
      "Malkin 71\n",
      "Letang 58\n"
     ]
    }
   ],
   "source": [
    "players = {\n",
    "  \"Crosby\": 87,\n",
    "  \"Malkin\": 71,\n",
    "  \"Letang\": 58\n",
    "}\n",
    "# Loops over just the keys\n",
    "for player in players:\n",
    "    print(player)\n",
    "    pass\n",
    "# Loops over just the values\n",
    "for number in players.values():\n",
    "    print(number)\n",
    "    pass\n",
    "# Loops over both keys and values (Python 3)\n",
    "for player, number in players.items():\n",
    "    print(player, number)\n",
    "    pass\n",
    "# Loops over both keys and values (Python 2)\n",
    "for player, number in players.items():\n",
    "    print(player, number)\n",
    "    pass"
   ]
  },
  {
   "cell_type": "markdown",
   "metadata": {},
   "source": [
    "Beyond that, we’re done here! If you’re interested in sticking around, here are few other dictionary articles:\n",
    "How to Perform a Reverse Dictionary Lookup in Python\n",
    "How to Merge Two Dictionaries in Python\n",
    "How to Sort a List of Dictionaries in Python\n",
    "Published on Web Code Geeks with permission by Geremy Grifski, partner at our WCG program. See the original article here: How to Loop Over a Dictionary in Python: Keys, Values, and More\n",
    "Opinions expressed by Web Code Geeks contributors are their own.\n",
    " (0 rating, 0 votes)\n",
    "You need to be a registered member to rate this. Start the discussion 94 Views Tweet it!\n",
    "Do you want to know how to develop your skillset to become a Web Rockstar?Subscribe to our newsletter to start Rocking right now!To get you started we give you our best selling eBooks for FREE!1. Building web apps with Node.js2. HTML5 Programming Cookbook3. CSS Programming Cookbook4. AngularJS Programming Cookbook5. jQuery Programming Cookbook6. Bootstrap Programming Cookbookand many more ...."
   ]
  }
 ],
 "metadata": {
  "kernelspec": {
   "display_name": "Python 3",
   "language": "python",
   "name": "python3"
  },
  "language_info": {
   "codemirror_mode": {
    "name": "ipython",
    "version": 3
   },
   "file_extension": ".py",
   "mimetype": "text/x-python",
   "name": "python",
   "nbconvert_exporter": "python",
   "pygments_lexer": "ipython3",
   "version": "3.9.0+"
  }
 },
 "nbformat": 4,
 "nbformat_minor": 2
}
