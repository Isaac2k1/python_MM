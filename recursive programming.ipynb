{
 "cells": [
  {
   "cell_type": "markdown",
   "metadata": {},
   "source": [
    "# Article about recursive programming in Python\n",
    "https://realpython.com/python-thinking-recursively/"
   ]
  },
  {
   "cell_type": "code",
   "execution_count": 2,
   "metadata": {},
   "outputs": [
    {
     "data": {
      "text/plain": [
       "24"
      ]
     },
     "execution_count": 2,
     "metadata": {},
     "output_type": "execute_result"
    }
   ],
   "source": [
    "def factorial_recursive(n):\n",
    "    # Base case: 1! = 1\n",
    "    if n == 1:\n",
    "        return 1\n",
    "\n",
    "    # Recursive case: n! = n * (n-1)!\n",
    "    else:\n",
    "        return n * factorial_recursive(n-1)\n",
    "    \n",
    "factorial_recursive(4)\n"
   ]
  },
  {
   "cell_type": "code",
   "execution_count": 3,
   "metadata": {},
   "outputs": [
    {
     "ename": "NameError",
     "evalue": "name 'initial_matrix' is not defined",
     "output_type": "error",
     "traceback": [
      "\u001b[0;31m---------------------------------------------------------------------------\u001b[0m",
      "\u001b[0;31mNameError\u001b[0m                                 Traceback (most recent call last)",
      "\u001b[0;32m/tmp/ipykernel_6894/2960820303.py\u001b[0m in \u001b[0;36m<module>\u001b[0;34m\u001b[0m\n\u001b[1;32m      8\u001b[0m         \u001b[0mcolorsort_recursive\u001b[0m\u001b[0;34m(\u001b[0m\u001b[0mtubes_matrix\u001b[0m\u001b[0;34m,\u001b[0m\u001b[0mmoves_stackpointer\u001b[0m\u001b[0;34m)\u001b[0m\u001b[0;34m\u001b[0m\u001b[0;34m\u001b[0m\u001b[0m\n\u001b[1;32m      9\u001b[0m \u001b[0;34m\u001b[0m\u001b[0m\n\u001b[0;32m---> 10\u001b[0;31m \u001b[0mcolorsort_recursive\u001b[0m\u001b[0;34m(\u001b[0m\u001b[0minitial_matrix\u001b[0m\u001b[0;34m,\u001b[0m \u001b[0;36m0\u001b[0m\u001b[0;34m)\u001b[0m\u001b[0;34m\u001b[0m\u001b[0;34m\u001b[0m\u001b[0m\n\u001b[0m",
      "\u001b[0;31mNameError\u001b[0m: name 'initial_matrix' is not defined"
     ]
    }
   ],
   "source": [
    "def colorsort_recursive(n):\n",
    "    # Base case: all colors sorted, two or more tubes empty\n",
    "    if sorted == True:\n",
    "        return 1 # game finished\n",
    "\n",
    "    # Recursive case: get move from level and check if sorted\n",
    "    else:\n",
    "        colorsort_recursive(tubes_matrix,moves_stackpointer)\n",
    "    \n",
    "colorsort_recursive(initial_matrix, 0)\n"
   ]
  },
  {
   "cell_type": "code",
   "execution_count": 4,
   "metadata": {},
   "outputs": [
    {
     "name": "stdout",
     "output_type": "stream",
     "text": [
      "<itertools.product object at 0xb3a332d8>\n"
     ]
    }
   ],
   "source": [
    "import itertools\n",
    "n = [1, 2, 3, 4]\n",
    "p = itertools.product(n)\n",
    "print(p)"
   ]
  },
  {
   "cell_type": "markdown",
   "metadata": {},
   "source": [
    "You have three 20 dollar bills, five 10 dollar bills, two 5 dollar bills, and five 1 dollar bills. How many ways can you make change for a 100 dollar bill?"
   ]
  },
  {
   "cell_type": "code",
   "execution_count": null,
   "metadata": {
    "scrolled": false
   },
   "outputs": [],
   "source": [
    "import itertools\n",
    "bills = [20, 20, 20, 10, 10, 10, 10, 10, 5, 5, 1, 1, 1, 1, 1]\n",
    "list(itertools.combinations(bills,3))\n"
   ]
  },
  {
   "cell_type": "code",
   "execution_count": 6,
   "metadata": {},
   "outputs": [
    {
     "name": "stdout",
     "output_type": "stream",
     "text": [
      "(20, 20, 20, 10, 10, 10, 5, 5)\n",
      "(20, 20, 20, 10, 10, 10, 5, 1, 1, 1, 1, 1)\n",
      "(20, 20, 10, 10, 10, 10, 10, 5, 5)\n",
      "(20, 20, 10, 10, 10, 10, 10, 5, 1, 1, 1, 1, 1)\n",
      "(20, 20, 20, 10, 10, 10, 10)\n",
      "5 different combos\n"
     ]
    }
   ],
   "source": [
    "import itertools\n",
    "makes_100 = []\n",
    "for n in range(1, len(bills) + 1):\n",
    "    for combination in itertools.combinations(bills, n):\n",
    "        if sum(combination) == 100:\n",
    "            makes_100.append(combination)\n",
    "makes_100 = set(makes_100)\n",
    "n = 0\n",
    "for combo in makes_100:\n",
    "    print(combo)\n",
    "    n += 1\n",
    "print(n, \"different combos\")\n",
    "#print(makes_100)"
   ]
  },
  {
   "cell_type": "code",
   "execution_count": null,
   "metadata": {},
   "outputs": [],
   "source": [
    "list(itertools.permutations(['1', '2', '3', '1', '2', '3']))"
   ]
  },
  {
   "cell_type": "markdown",
   "metadata": {},
   "source": [
    "# Dealing a Deck of Cards\n",
    "Suppose you are building a Poker app. You’ll need a deck of cards. You might start by defining a list of ranks (ace, king, queen, jack, 10, 9, and so on) and a list of suits (hearts, diamonds, clubs, and spades):\n"
   ]
  },
  {
   "cell_type": "code",
   "execution_count": 7,
   "metadata": {},
   "outputs": [],
   "source": [
    "ranks = ['A', 'K', 'Q', 'J', '10', '9', '8', '7', '6', '5', '4', '3', '2']\n",
    "suits = ['H', 'D', 'C', 'S']"
   ]
  },
  {
   "cell_type": "markdown",
   "metadata": {},
   "source": [
    "You could represent a card as a tuple whose first element is a rank and second element is a suit. A deck of cards would be a collection of such tuples. The deck should act like the real thing, so it makes sense to define a generator that yields cards one at a time and becomes exhausted once all the cards are dealt.\n",
    "\n",
    "One way to achieve this is to write a generator with a nested for loop over ranks and suits:"
   ]
  },
  {
   "cell_type": "code",
   "execution_count": 8,
   "metadata": {},
   "outputs": [],
   "source": [
    "def cards():\n",
    "    \"\"\"Return a generator that yields playing cards.\"\"\"\n",
    "    for rank in ranks:\n",
    "        for suit in suits:\n",
    "            yield rank, suit"
   ]
  },
  {
   "cell_type": "markdown",
   "metadata": {},
   "source": [
    "You could write this more compactly with a generator expression:"
   ]
  },
  {
   "cell_type": "code",
   "execution_count": 9,
   "metadata": {},
   "outputs": [],
   "source": [
    "cards = ((rank, suit) for rank in ranks for suit in suits)"
   ]
  },
  {
   "cell_type": "code",
   "execution_count": 10,
   "metadata": {},
   "outputs": [
    {
     "data": {
      "text/plain": [
       "[(1, 'a', 'c'), (1, 'b', 'c'), (2, 'a', 'c'), (2, 'b', 'c')]"
      ]
     },
     "execution_count": 10,
     "metadata": {},
     "output_type": "execute_result"
    }
   ],
   "source": [
    "list(itertools.product([1, 2], ['a', 'b'], ['c']))"
   ]
  },
  {
   "cell_type": "code",
   "execution_count": null,
   "metadata": {},
   "outputs": [],
   "source": [
    "cards = itertools.product(ranks, suits)\n",
    "for card in cards:\n",
    "    print(card)"
   ]
  },
  {
   "cell_type": "code",
   "execution_count": null,
   "metadata": {},
   "outputs": [],
   "source": [
    "list(itertools.chain('ABC', 'DEF'))"
   ]
  },
  {
   "cell_type": "code",
   "execution_count": null,
   "metadata": {},
   "outputs": [],
   "source": [
    "ntubes = 4 # number of tubes, including empty ones\n",
    "color_list = ['R', 'G', 'B']\n",
    "draws = itertools.permutations(range(ntubes), 2)\n",
    "balls = (['R', 'R', 'G', 'B'], ['G', 'B', 'G', 'B'], ['R', 'G', 'R', 'B'], [' ', ' ', ' ', ' '])\n",
    "n = 0\n",
    "for tube in balls:\n",
    "    print(n, tube)\n",
    "    n += 1\n",
    "\n",
    "def draw_possible(draw):\n",
    "    # do something if draw is allowed\n",
    "    print(balls[draw[0]],[0])\n",
    "    return()\n",
    "    \n",
    "for draw in draws:\n",
    "    print(draw)\n",
    "    draw_possible(draw)\n"
   ]
  }
 ],
 "metadata": {
  "kernelspec": {
   "display_name": "Python 3 (ipykernel)",
   "language": "python",
   "name": "python3"
  },
  "language_info": {
   "codemirror_mode": {
    "name": "ipython",
    "version": 3
   },
   "file_extension": ".py",
   "mimetype": "text/x-python",
   "name": "python",
   "nbconvert_exporter": "python",
   "pygments_lexer": "ipython3",
   "version": "3.7.3"
  }
 },
 "nbformat": 4,
 "nbformat_minor": 2
}
