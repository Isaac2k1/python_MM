{
 "cells": [
  {
   "cell_type": "markdown",
   "metadata": {},
   "source": [
    "Diese Formel kommt aus dem LibreOffice:\n",
    "\n",
    "$i(t) = [(I^{''}_{k}-I^{'}_{k}) cdot e^{{-t}over{%tau^{''}_{ac}}} + (I^{'}_{k}-I_{d})cdot e^{{-t}over{%tau^{'}_{ac}}} + I_d] cdot sin  [ 2 %pi t (f_0 + {t}over{T} cdot %DELTA f) - %varphi  ]  + I^{''}_{k} cdot sin( %varphi ) cdot e^({-t} over{ %tau _dc}) + I_offset$"
   ]
  },
  {
   "cell_type": "markdown",
   "metadata": {},
   "source": [
    "Die gleiche Formel wurde mit der App LyX in ElementaryOS geschrieben und hier in Jupyter nur noch mit Dollarzeichen eingerahmt:\n",
    "    \n",
    "$i\\left(t\\right)=\\left[\\left(I_{k}^{''}-I_{k}^{'}\\right)\\centerdot e^{\\frac{-t}{\\tau_{ac}^{''}}}+\\left(I_{k}^{'}-I_{d}\\right)\\centerdot e^{\\frac{-t}{\\tau_{ac}^{'}}}+I_{d}\\right]\\centerdot\\sin\\left[2\\pi t\\left(f_{0}+\\frac{t}{T}\\centerdot\\Delta f\\right)-\\varphi\\right] + I_{k}^{''} \\centerdot\\sin\\left(\\varphi\\right)\\centerdot e^{\\frac{-t}{\\tau_{dc}}}+ I_{offset}$"
   ]
  },
  {
   "cell_type": "markdown",
   "metadata": {},
   "source": [
    "$P(A \\mid B) = \\frac{P(B \\mid A)P(A)}{P(B)}$"
   ]
  },
  {
   "cell_type": "markdown",
   "metadata": {},
   "source": [
    "$i(t) = \\frac{A}{B}$"
   ]
  },
  {
   "cell_type": "markdown",
   "metadata": {},
   "source": [
    "Diese Formel wurde mit der App LyX in ElementaryOS geschrieben und hier in Jupyter nur noch mit Dollarzeichen eingerahmt: \n",
    "\n",
    "$i (t) = sin(e^{-\\frac{t}{\\tau T_{D}}}) \\sqrt[2]{\\frac{a}{b}}$\n",
    "\n"
   ]
  },
  {
   "cell_type": "code",
   "execution_count": null,
   "metadata": {},
   "outputs": [],
   "source": []
  }
 ],
 "metadata": {
  "kernelspec": {
   "display_name": "Python 3",
   "language": "python",
   "name": "python3"
  },
  "language_info": {
   "codemirror_mode": {
    "name": "ipython",
    "version": 3
   },
   "file_extension": ".py",
   "mimetype": "text/x-python",
   "name": "python",
   "nbconvert_exporter": "python",
   "pygments_lexer": "ipython3",
   "version": "3.7.6"
  }
 },
 "nbformat": 4,
 "nbformat_minor": 4
}
