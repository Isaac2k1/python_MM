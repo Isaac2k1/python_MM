{
 "cells": [
  {
   "cell_type": "markdown",
   "metadata": {},
   "source": [
    "# NumPy Loadtxt Tutorial (Load Data From Files)\n",
    "Posted by: Mokhtar Ebrahim  in Python April 29th, 2020 0 120 Views\n",
    "\n",
    "\n",
    "In a previous tutorial, we talked about NumPy arrays and we saw how it makes the process of reading, parsing and performing operations on numeric data a cakewalk. In this tutorial, we will discuss the NumPy loadtxt method that is used to parse data from text files and store them in an n-dimensional NumPy array.\n",
    "Then we can perform all sorts of operations on it that are possible on a NumPy array.\n",
    "np.loadtxt offers a lot of flexibility in the way we read data from a file by specifying options such as the data type of the resulting array, how to distinguish one data entry from the others through delimiters, skipping/including specific rows, etc. We’ll look at each of those ways in the following tutorial.\n",
    "Specifying the file path\n",
    "Let’s look at how we can specify the path of the file from which we want to read data.\n",
    "We’ll use a sample text file for our code examples, which lists the weights (in kg) and heights (in cm) of 100 individuals, each on a row.\n",
    "I will use various variants in this file for explaining different features of the loadtxt function.\n",
    "Let’s begin with the simplest representation of the data in a text file. We have 100 lines (or rows) of data in our text file, each of which comprises 2 floating-point numbers separated by a space.\n",
    "The first number on each row represents the weight and the second number represents the height of an individual.\n",
    "Here’s a little glimpse from the file: by: Mokhtar Ebrahim  in Python April 29th, 2020 0 120 Views\n",
    "\n",
    "\n",
    "In a previous tutorial, we talked about NumPy arrays and we saw how it makes the process of reading, parsing and performing operations on numeric data a cakewalk. In this tutorial, we will discuss the NumPy loadtxt method that is used to parse data from text files and store them in an n-dimensional NumPy array.\n",
    "Then we can perform all sorts of operations on it that are possible on a NumPy array.\n",
    "np.loadtxt offers a lot of flexibility in the way we read data from a file by specifying options such as the data type of the resulting array, how to distinguish one data entry from the others through delimiters, skipping/including specific rows, etc. We’ll look at each of those ways in the following tutorial.\n",
    "Specifying the file path\n",
    "Let’s look at how we can specify the path of the file from which we want to read data.\n",
    "We’ll use a sample text file for our code examples, which lists the weights (in kg) and heights (in cm) of 100 individuals, each on a row.\n",
    "I will use various variants in this file for explaining different features of the loadtxt function.\n",
    "Let’s begin with the simplest representation of the data in a text file. We have 100 lines (or rows) of data in our text file, each of which comprises 2 floating-point numbers separated by a space.\n",
    "The first number on each row represents the weight and the second number represents the height of an individual.\n",
    "Here’s a little glimpse from the file:"
   ]
  },
  {
   "cell_type": "code",
   "execution_count": null,
   "metadata": {},
   "outputs": [],
   "source": []
  }
 ],
 "metadata": {
  "kernelspec": {
   "display_name": "Python 3",
   "language": "python",
   "name": "python3"
  },
  "language_info": {
   "codemirror_mode": {
    "name": "ipython",
    "version": 3
   },
   "file_extension": ".py",
   "mimetype": "text/x-python",
   "name": "python",
   "nbconvert_exporter": "python",
   "pygments_lexer": "ipython3",
   "version": "3.6.9"
  }
 },
 "nbformat": 4,
 "nbformat_minor": 2
}
