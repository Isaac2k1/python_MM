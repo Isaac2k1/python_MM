{
 "cells": [
  {
   "cell_type": "code",
   "execution_count": null,
   "metadata": {
    "scrolled": false
   },
   "outputs": [
    {
     "name": "stdout",
     "output_type": "stream",
     "text": [
      "start reformatting of wordlist...\n"
     ]
    }
   ],
   "outputs": [],
   "source": [
    "# perm4WofW helper to solve Words of Wonders (German language, others possible)\n",
    "''' get German word list from\n",
    "https://www1.ids-mannheim.de/kl/projekte/methoden/derewo.html\n",
    "Rename to DeReWo.txt and store it a readable ASCII format.\n",
    "Enter the letters given in game 'Words of Wonders' as searchword\n",
    "program produces all combinations of given letters and reduces down \n",
    "to three letter words. Then all words of DeReWo are checked if they appear \n",
    "in permutations of searchword letters.'''\n",
    "\n",
    "liste = set()\n",
    "def analine(line, liste):\n",
    "    import re\n",
    "    '''analine analyses line and adds words to liste. Since liste is a set\n",
    "    there is no repetition of words. Also case is changed to upper.'''\n",
    "    \n",
    "    line = re.split(' ', line)[0]\n",
    "    if ' ' in line:\n",
    "        parts = re.split(' ', line)\n",
    "        liste.add(parts[0])\n",
    "\n",
    "    if '(' in line:\n",
    "        parts = re.split('\\(|\\)', line)\n",
    "        liste.add(parts[0]) # append root word\n",
    "        brackets = re.split(',',parts[1])\n",
    "        for sil in brackets:\n",
    "            liste.add(parts[0]+sil)\n",
    "\n",
    "    else:\n",
    "        if ',' in line:\n",
    "            for sil in line.split(\",\"):\n",
    "                liste.add(sil)\n",
    "        else:\n",
    "            liste.add(line)\n",
    "                \n",
    "    return liste\n",
    "\n",
    "# Ale's refactor from 2020-03-29 19h01\n",
    "import itertools\n",
    "\n",
    "def generate_words(data):\n",
    "    permutations = []\n",
    "    for i in range(len(data), 2, -1): # second parameter: length of shortest word -1\n",
    "        permutations = permutations + [''.join(p) for p in itertools.permutations(data, i)]\n",
    "    return permutations\n",
    "\n",
    "# === MAIN PROGRAM ===\n",
    "ObjRead = open(\"DeReWo.txt\", \"r\")\n",
    ",\n",
    "print(\"start reformatting of wordlist...\")\n",
    "words = 0\n",
    "with ObjRead as textfile:\n",
    "    while True:    \n",
    "        line = textfile.readline()\n",
    "        analine(line.upper(), liste)\n",
    "#        if words < 50:\n",
    "#            print(line, liste)\n",
    "        words += 1\n",
    "        \n",
    "        if len(line) == 0:\n",
    "            break\n",
    "\n",
    "print(\"...ferdisch, found\",words,\"words\")\n",
    "ObjRead.close()\n",
    "\n",
    "data = input(\"enter your searchword:\")\n",
    "permutations = generate_words(data.upper())\n",
    "#print(permutations) # do not print 324567 words ;-)\n",
    "print(\"The string\", data, \"has\", len(permutations), \"unique combinations.\")\n",
    "\n",
    "found = 0\n",
    "for word in liste: # this could be speeded-up by sorting liste for length\n",
    "    # and test only words of liste up to the length of searchword\n",
    "    if word in permutations:\n",
    "        print(word)\n",
    "        found += 1\n",
    "print(\"There is\", found, \"words in the German dictionary.\")"
   ]
  }
 ],
 "metadata": {
  "kernelspec": {
   "display_name": "Python 3",
   "language": "python",
   "name": "python3"
  },
  "language_info": {
   "codemirror_mode": {
    "name": "ipython",
    "version": 3
   },
   "file_extension": ".py",
   "mimetype": "text/x-python",
   "name": "python",
   "nbconvert_exporter": "python",
   "pygments_lexer": "ipython3",
   "version": "3.9.2+"
  }
 },
 "nbformat": 4,
 "nbformat_minor": 2
}
