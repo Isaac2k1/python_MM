{
 "cells": [
  {
   "cell_type": "code",
   "execution_count": null,
   "metadata": {},
   "outputs": [],
   "source": [
    "# path to word list in MacOS: /usr/share/dict/web2\n",
    "#ObjRead = open(\"/usr/share/dict/web2\", \"r\")\n",
    "#ObjRead = open(\"web2.txt\", \"r\")\n",
    "#ObjRead = open(\"./derewo-v-ww-bll-320000g-2012-12-31-1.0/derewo-v-ww-bll-320000g-2012-12-31-1.0.txt\", \"r\")\n",
    "ObjRead = open(\"web3.txt\", \"r\")\n",
    "print(\"start\")\n",
    "words = 0\n",
    "variables = dict()\n",
    "with ObjRead as textfile:\n",
    "    while True:    \n",
    "        next_line = textfile.readline()\n",
    "        word = next_line.split(\",\")\n",
    "        if words < 10:\n",
    "            print(next_line, word)\n",
    "        words += 1\n",
    "        \n",
    "        if len(next_line) == 0:\n",
    "            break\n",
    "\n",
    "#        key, value = next_line.split()\n",
    "#        if key == 'NODATA_value':\n",
    "#            break\n",
    "#\n",
    "#        variables[key] = value    \n",
    "\n",
    "print(words)\n",
    "print(\"ferdisch\")\n",
    "ObjRead.close()\n"
   ]
  }
 ],
 "metadata": {
  "kernelspec": {
   "display_name": "Python 3",
   "language": "python",
   "name": "python3"
  },
  "language_info": {
   "codemirror_mode": {
    "name": "ipython",
    "version": 3
   },
   "file_extension": ".py",
   "mimetype": "text/x-python",
   "name": "python",
   "nbconvert_exporter": "python",
   "pygments_lexer": "ipython3",
   "version": "3.7.3"
  }
 },
 "nbformat": 4,
 "nbformat_minor": 4
}
