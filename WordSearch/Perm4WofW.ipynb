{
 "cells": [
  {
   "cell_type": "code",
   "execution_count": 2,
   "metadata": {
    "scrolled": true
   },
   "outputs": [
    {
     "name": "stdout",
     "output_type": "stream",
     "text": [
      "start reformatting of wordlist...\n",
      "...ferdisch, found 326947 words\n",
      "enter your searchword:indexer\n",
      "The string indexer has 13650 unique combinations.\n",
      "There is 53 words in the German dictionary.\n",
      "DEERN 5\n",
      "DEIN 4\n",
      "DENIER 6\n",
      "DER 3\n",
      "DIE 3\n",
      "DIEN 4\n",
      "DIENER 6\n",
      "DINER 5\n",
      "DIR 3\n",
      "DIREX 5\n",
      "DIRN 4\n",
      "DIRNE 5\n",
      "DREI 4\n",
      "DREIN 5\n",
      "DRIN 4\n",
      "EDEN 4\n",
      "EID 3\n",
      "EIERN 5\n",
      "EIN 3\n",
      "EINE 4\n",
      "EINER 5\n",
      "EIRE 4\n",
      "ENDE 4\n",
      "ERDE 4\n",
      "ERDEN 5\n",
      "EREN 4\n",
      "ERN 3\n",
      "IDEE 4\n",
      "IDEN 4\n",
      "INDER 5\n",
      "INDEX 5\n",
      "IRDEN 5\n",
      "IRE 3\n",
      "NEED 4\n",
      "NEER 4\n",
      "NEID 4\n",
      "NEIDER 6\n",
      "NID 3\n",
      "NIE 3\n",
      "NIEDER 6\n",
      "NIERE 5\n",
      "NIX 3\n",
      "NIXE 4\n",
      "REDE 4\n",
      "REDEN 5\n",
      "REIN 4\n",
      "REINE 5\n",
      "REN 3\n",
      "RIED 4\n",
      "RIEDE 5\n",
      "RIND 4\n",
      "RINDE 5\n",
      "XENIE 5\n"
     ]
    },
    {
     "data": {
      "text/plain": [
       "'123 1234 12345 123456 1234567 12345678'"
      ]
     },
     "execution_count": 2,
     "metadata": {},
     "output_type": "execute_result"
    }
   ],
   "source": [
    "# perm4WofW helper to solve Words of Wonders (German language, others possible)\n",
    "''' get German word list from\n",
    "https://www1.ids-mannheim.de/kl/projekte/methoden/derewo.html\n",
    "Rename to DeReWo.txt and store it a readable ASCII format.\n",
    "Enter the letters given in game 'Words of Wonders' as searchword\n",
    "program produces all combinations of given letters and reduces down \n",
    "to three letter words. Then all words of DeReWo are checked if they appear \n",
    "in permutations of searchword letters.'''\n",
    "\n",
    "liste = set()\n",
    "def analine(line, liste):\n",
    "    '''analine analyses line and adds words to liste. Since liste is a set\n",
    "    there is no repetition of words. Also case is changed to upper.'''\n",
    "    import re  \n",
    "    line = re.split(' ', line)[0]\n",
    "    if ' ' in line:\n",
    "        parts = re.split(' ', line)\n",
    "        liste.add(parts[0])\n",
    "\n",
    "    if '(' in line:\n",
    "        parts = re.split('\\(|\\)', line)\n",
    "        liste.add(parts[0]) # append root word\n",
    "        brackets = re.split(',',parts[1])\n",
    "        for sil in brackets:\n",
    "            liste.add(parts[0]+sil)\n",
    "\n",
    "    else:\n",
    "        if ',' in line:\n",
    "            for sil in line.split(\",\"):\n",
    "                liste.add(sil)\n",
    "        else:\n",
    "            liste.add(line)\n",
    "             \n",
    "    return liste\n",
    " \n",
    "# Ale's refactor from 2020-03-29 19h01\n",
    "import itertools\n",
    "\n",
    "def generate_words(data):\n",
    "    permutations = []\n",
    "    for i in range(len(data), 2, -1): # second parameter: length of shortest word -1\n",
    "        permutations = permutations + [''.join(p) for p in itertools.permutations(data, i)]\n",
    "    return permutations\n",
    "\n",
    "# === MAIN PROGRAM ===\n",
    "ObjRead = open(\"DeReWo.txt\", \"r\")\n",
    "print(\"start reformatting of wordlist...\")\n",
    "words = 0\n",
    "with ObjRead as textfile:\n",
    "    while True:    \n",
    "        line = textfile.readline()\n",
    "        analine(line.upper(), liste)\n",
    "#        if words < 50:\n",
    "#            print(line, liste)\n",
    "        words += 1\n",
    "        \n",
    "        if len(line) == 0:\n",
    "            break\n",
    "\n",
    "print(\"...ferdisch, found\",words,\"words\")\n",
    "ObjRead.close()\n",
    "\n",
    "data = input(\"enter your searchword:\")\n",
    "permutations = generate_words(data.upper())\n",
    "#print(permutations) # do not print 324567 words ;-)\n",
    "print(\"The string\", data, \"has\", len(permutations), \"unique combinations.\")\n",
    "\n",
    "found = 0\n",
    "found_words = []\n",
    "for word in liste: # this could be speeded-up by sorting liste for length\n",
    "    # and test only words of liste up to the length of searchword\n",
    "    if word in permutations:\n",
    "        found_words.append(word)\n",
    "print(\"There is\", len(found_words), \"words in the German dictionary.\")\n",
    "found_words.sort()\n",
    "for word in found_words:\n",
    "    print(word, len(word))\n",
    "\n",
    "'''123 1234 12345 123456 1234567 12345678'''"
   ]
  },
  {
   "cell_type": "code",
   "execution_count": 21,
   "metadata": {},
   "outputs": [
    {
     "name": "stdout",
     "output_type": "stream",
     "text": [
      "['DEERN', 'DEIN', 'DENIER', 'DER', 'DIE', 'DIEN', 'DIENER', 'DINER', 'DIR', 'DIREX', 'DIRN', 'DIRNE', 'DREI', 'DREIN', 'DRIN', 'EDEN', 'EID', 'EIERN', 'EIN', 'EINE', 'EINER', 'EIRE', 'ENDE', 'ERDE', 'ERDEN', 'EREN', 'ERN', 'IDEE', 'IDEN', 'INDER', 'INDEX', 'IRDEN', 'IRE', 'NEED', 'NEER', 'NEID', 'NEIDER', 'NID', 'NIE', 'NIEDER', 'NIERE', 'NIX', 'NIXE', 'REDE', 'REDEN', 'REIN', 'REINE', 'REN', 'RIED', 'RIEDE', 'RIND', 'RINDE', 'XENIE'] 53\n"
     ]
    }
   ],
   "source": [
    "print(found_words, len(found_words))"
   ]
  },
  {
   "cell_type": "code",
   "execution_count": 24,
   "metadata": {},
   "outputs": [
    {
     "name": "stdout",
     "output_type": "stream",
     "text": [
      "['DEERN', 'DEIN', 'DENIER', 'DER', 'DIE', 'DIEN', 'DIENER', 'DINER', 'DIR', 'DIREX', 'DIRN', 'DIRNE', 'DREI', 'DREIN', 'DRIN', 'EDEN', 'EID', 'EIERN', 'EIN', 'EINE', 'EINER', 'EIRE', 'ENDE', 'ERDE', 'ERDEN', 'EREN', 'ERN', 'IDEE', 'IDEN', 'INDER', 'INDEX', 'IRDEN', 'IRE', 'NEED', 'NEER', 'NEID', 'NEIDER', 'NID', 'NIE', 'NIEDER', 'NIERE', 'NIX', 'NIXE', 'REDE', 'REDEN', 'REIN', 'REINE', 'REN', 'RIED', 'RIEDE', 'RIND', 'RINDE', 'XENIE']\n",
      "DEERN 5 -> [] <-\n",
      "DEIN 4 -> [] <-\n",
      "DENIER 6 -> [] <-\n",
      "DER 3 -> [] <-\n",
      "DIE 3 -> ['DER'] <-\n",
      "DIEN 4 -> ['DEIN'] <-\n",
      "DIENER 6 -> ['DENIER'] <-\n",
      "DINER 5 -> ['DEERN'] <-\n",
      "DIR 3 -> ['DER', 'DIE'] <-\n",
      "DIREX 5 -> ['DEERN', 'DINER'] <-\n",
      "DIRN 4 -> ['DEIN', 'DIEN'] <-\n",
      "DIRNE 5 -> ['DEERN', 'DINER', 'DIREX'] <-\n",
      "DREI 4 -> ['DEIN', 'DIEN', 'DIRN'] <-\n",
      "DREIN 5 -> ['DEERN', 'DINER', 'DIREX', 'DIRNE'] <-\n",
      "DRIN 4 -> ['DEIN', 'DIEN', 'DIRN', 'DREI'] <-\n",
      "EDEN 4 -> ['DEIN', 'DIEN', 'DIRN', 'DREI', 'DRIN'] <-\n",
      "EID 3 -> ['DER', 'DIE', 'DIR'] <-\n",
      "EIERN 5 -> ['DEERN', 'DINER', 'DIREX', 'DIRNE', 'DREIN'] <-\n",
      "EIN 3 -> ['DER', 'DIE', 'DIR', 'EID'] <-\n",
      "EINE 4 -> ['DEIN', 'DIEN', 'DIRN', 'DREI', 'DRIN', 'EDEN'] <-\n",
      "EINER 5 -> ['DEERN', 'DINER', 'DIREX', 'DIRNE', 'DREIN', 'EIERN'] <-\n",
      "EIRE 4 -> ['DEIN', 'DIEN', 'DIRN', 'DREI', 'DRIN', 'EDEN', 'EINE'] <-\n",
      "ENDE 4 -> ['DEIN', 'DIEN', 'DIRN', 'DREI', 'DRIN', 'EDEN', 'EINE', 'EIRE'] <-\n",
      "ERDE 4 -> ['DEIN', 'DIEN', 'DIRN', 'DREI', 'DRIN', 'EDEN', 'EINE', 'EIRE', 'ENDE'] <-\n",
      "ERDEN 5 -> ['DEERN', 'DINER', 'DIREX', 'DIRNE', 'DREIN', 'EIERN', 'EINER'] <-\n",
      "EREN 4 -> ['DEIN', 'DIEN', 'DIRN', 'DREI', 'DRIN', 'EDEN', 'EINE', 'EIRE', 'ENDE', 'ERDE'] <-\n",
      "ERN 3 -> ['DER', 'DIE', 'DIR', 'EID', 'EIN'] <-\n",
      "IDEE 4 -> ['DEIN', 'DIEN', 'DIRN', 'DREI', 'DRIN', 'EDEN', 'EINE', 'EIRE', 'ENDE', 'ERDE', 'EREN'] <-\n",
      "IDEN 4 -> ['DEIN', 'DIEN', 'DIRN', 'DREI', 'DRIN', 'EDEN', 'EINE', 'EIRE', 'ENDE', 'ERDE', 'EREN', 'IDEE'] <-\n",
      "INDER 5 -> ['DEERN', 'DINER', 'DIREX', 'DIRNE', 'DREIN', 'EIERN', 'EINER', 'ERDEN'] <-\n",
      "INDEX 5 -> ['DEERN', 'DINER', 'DIREX', 'DIRNE', 'DREIN', 'EIERN', 'EINER', 'ERDEN', 'INDER'] <-\n",
      "IRDEN 5 -> ['DEERN', 'DINER', 'DIREX', 'DIRNE', 'DREIN', 'EIERN', 'EINER', 'ERDEN', 'INDER', 'INDEX'] <-\n",
      "IRE 3 -> ['DER', 'DIE', 'DIR', 'EID', 'EIN', 'ERN'] <-\n",
      "NEED 4 -> ['DEIN', 'DIEN', 'DIRN', 'DREI', 'DRIN', 'EDEN', 'EINE', 'EIRE', 'ENDE', 'ERDE', 'EREN', 'IDEE', 'IDEN'] <-\n",
      "NEER 4 -> ['DEIN', 'DIEN', 'DIRN', 'DREI', 'DRIN', 'EDEN', 'EINE', 'EIRE', 'ENDE', 'ERDE', 'EREN', 'IDEE', 'IDEN', 'NEED'] <-\n",
      "NEID 4 -> ['DEIN', 'DIEN', 'DIRN', 'DREI', 'DRIN', 'EDEN', 'EINE', 'EIRE', 'ENDE', 'ERDE', 'EREN', 'IDEE', 'IDEN', 'NEED', 'NEER'] <-\n",
      "NEIDER 6 -> ['DENIER', 'DIENER'] <-\n",
      "NID 3 -> ['DER', 'DIE', 'DIR', 'EID', 'EIN', 'ERN', 'IRE'] <-\n",
      "NIE 3 -> ['DER', 'DIE', 'DIR', 'EID', 'EIN', 'ERN', 'IRE', 'NID'] <-\n",
      "NIEDER 6 -> ['DENIER', 'DIENER', 'NEIDER'] <-\n",
      "NIERE 5 -> ['DEERN', 'DINER', 'DIREX', 'DIRNE', 'DREIN', 'EIERN', 'EINER', 'ERDEN', 'INDER', 'INDEX', 'IRDEN'] <-\n",
      "NIX 3 -> ['DER', 'DIE', 'DIR', 'EID', 'EIN', 'ERN', 'IRE', 'NID', 'NIE'] <-\n",
      "NIXE 4 -> ['DEIN', 'DIEN', 'DIRN', 'DREI', 'DRIN', 'EDEN', 'EINE', 'EIRE', 'ENDE', 'ERDE', 'EREN', 'IDEE', 'IDEN', 'NEED', 'NEER', 'NEID'] <-\n",
      "REDE 4 -> ['DEIN', 'DIEN', 'DIRN', 'DREI', 'DRIN', 'EDEN', 'EINE', 'EIRE', 'ENDE', 'ERDE', 'EREN', 'IDEE', 'IDEN', 'NEED', 'NEER', 'NEID', 'NIXE'] <-\n",
      "REDEN 5 -> ['DEERN', 'DINER', 'DIREX', 'DIRNE', 'DREIN', 'EIERN', 'EINER', 'ERDEN', 'INDER', 'INDEX', 'IRDEN', 'NIERE'] <-\n",
      "REIN 4 -> ['DEIN', 'DIEN', 'DIRN', 'DREI', 'DRIN', 'EDEN', 'EINE', 'EIRE', 'ENDE', 'ERDE', 'EREN', 'IDEE', 'IDEN', 'NEED', 'NEER', 'NEID', 'NIXE', 'REDE'] <-\n",
      "REINE 5 -> ['DEERN', 'DINER', 'DIREX', 'DIRNE', 'DREIN', 'EIERN', 'EINER', 'ERDEN', 'INDER', 'INDEX', 'IRDEN', 'NIERE', 'REDEN'] <-\n",
      "REN 3 -> ['DER', 'DIE', 'DIR', 'EID', 'EIN', 'ERN', 'IRE', 'NID', 'NIE', 'NIX'] <-\n",
      "RIED 4 -> ['DEIN', 'DIEN', 'DIRN', 'DREI', 'DRIN', 'EDEN', 'EINE', 'EIRE', 'ENDE', 'ERDE', 'EREN', 'IDEE', 'IDEN', 'NEED', 'NEER', 'NEID', 'NIXE', 'REDE', 'REIN'] <-\n",
      "RIEDE 5 -> ['DEERN', 'DINER', 'DIREX', 'DIRNE', 'DREIN', 'EIERN', 'EINER', 'ERDEN', 'INDER', 'INDEX', 'IRDEN', 'NIERE', 'REDEN', 'REINE'] <-\n",
      "RIND 4 -> ['DEIN', 'DIEN', 'DIRN', 'DREI', 'DRIN', 'EDEN', 'EINE', 'EIRE', 'ENDE', 'ERDE', 'EREN', 'IDEE', 'IDEN', 'NEED', 'NEER', 'NEID', 'NIXE', 'REDE', 'REIN', 'RIED'] <-\n",
      "RINDE 5 -> ['DEERN', 'DINER', 'DIREX', 'DIRNE', 'DREIN', 'EIERN', 'EINER', 'ERDEN', 'INDER', 'INDEX', 'IRDEN', 'NIERE', 'REDEN', 'REINE', 'RIEDE'] <-\n",
      "XENIE 5 -> ['DEERN', 'DINER', 'DIREX', 'DIRNE', 'DREIN', 'EIERN', 'EINER', 'ERDEN', 'INDER', 'INDEX', 'IRDEN', 'NIERE', 'REDEN', 'REINE', 'RIEDE', 'RINDE'] <-\n"
     ]
    }
   ],
   "source": [
    "print(found_words)\n",
    "display_array = [[], [], [], [], [], [], [], [], [], [], [], [], [], [], [], [], [], [], [], [], [], [], [], [], [], [], [], [], [], [], [], []]\n",
    "for word in found_words:\n",
    "    print(word, len(word),\"->\",display_array[len(word)],\"<-\")\n",
    "    display_array[len(word)].append(word)\n",
    "#for line in display_array:\n",
    "#    print(line)\n",
    "    "
   ]
  },
  {
   "cell_type": "code",
   "execution_count": 41,
   "metadata": {},
   "outputs": [
    {
     "name": "stdout",
     "output_type": "stream",
     "text": [
      "3 -letter words: 11\n",
      "4 -letter words: 21\n",
      "5 -letter words: 17\n",
      "6 -letter words: 4\n",
      "21\n",
      "[3, 4, 5, 6]\n",
      "DER DEIN DEERN DENIER \n",
      "DIE DIEN DINER DIENER \n",
      "DIR DIRN DIREX NEIDER \n",
      "EID DREI DIRNE NIEDER \n",
      "EIN DRIN DREIN "
     ]
    },
    {
     "ename": "IndexError",
     "evalue": "list index out of range",
     "output_type": "error",
     "traceback": [
      "\u001b[0;31m---------------------------------------------------------------------------\u001b[0m",
      "\u001b[0;31mIndexError\u001b[0m                                Traceback (most recent call last)",
      "\u001b[0;32m/tmp/ipykernel_1134/120836141.py\u001b[0m in \u001b[0;36m<module>\u001b[0;34m\u001b[0m\n\u001b[1;32m     13\u001b[0m \u001b[0;32mfor\u001b[0m \u001b[0mi\u001b[0m \u001b[0;32min\u001b[0m \u001b[0mrange\u001b[0m\u001b[0;34m(\u001b[0m\u001b[0mmax_words\u001b[0m\u001b[0;34m)\u001b[0m\u001b[0;34m:\u001b[0m\u001b[0;34m\u001b[0m\u001b[0;34m\u001b[0m\u001b[0m\n\u001b[1;32m     14\u001b[0m     \u001b[0;32mfor\u001b[0m \u001b[0mj\u001b[0m \u001b[0;32min\u001b[0m \u001b[0mcol_indexes\u001b[0m\u001b[0;34m:\u001b[0m\u001b[0;34m\u001b[0m\u001b[0;34m\u001b[0m\u001b[0m\n\u001b[0;32m---> 15\u001b[0;31m         \u001b[0mword2print\u001b[0m \u001b[0;34m=\u001b[0m \u001b[0mdisplay_array\u001b[0m\u001b[0;34m[\u001b[0m\u001b[0mj\u001b[0m\u001b[0;34m]\u001b[0m\u001b[0;34m[\u001b[0m\u001b[0mi\u001b[0m\u001b[0;34m]\u001b[0m\u001b[0;34m\u001b[0m\u001b[0;34m\u001b[0m\u001b[0m\n\u001b[0m\u001b[1;32m     16\u001b[0m         \u001b[0;32mif\u001b[0m \u001b[0mlen\u001b[0m\u001b[0;34m(\u001b[0m\u001b[0mword2print\u001b[0m\u001b[0;34m)\u001b[0m \u001b[0;34m>\u001b[0m \u001b[0;36m0\u001b[0m\u001b[0;34m:\u001b[0m\u001b[0;34m\u001b[0m\u001b[0;34m\u001b[0m\u001b[0m\n\u001b[1;32m     17\u001b[0m             \u001b[0mprint\u001b[0m\u001b[0;34m(\u001b[0m\u001b[0mword2print\u001b[0m\u001b[0;34m,\u001b[0m\u001b[0mend\u001b[0m\u001b[0;34m=\u001b[0m\u001b[0;34m\" \"\u001b[0m\u001b[0;34m)\u001b[0m\u001b[0;34m\u001b[0m\u001b[0;34m\u001b[0m\u001b[0m\n",
      "\u001b[0;31mIndexError\u001b[0m: list index out of range"
     ]
    }
   ],
   "source": [
    "max_words = 0\n",
    "col_indexes = []\n",
    "for line in display_array:\n",
    "    len_line = len(line)\n",
    "    if len_line > 0:\n",
    "        col_indexes.append(len(line[0]))\n",
    "        print(len(line[0]),\"-letter words:\",len_line)\n",
    "        if max_words < len_line:\n",
    "            max_words = len_line\n",
    "print(max_words)\n",
    "print(col_indexes)\n",
    "\n",
    "for i in range(max_words):\n",
    "    for j in col_indexes:\n",
    "        word2print = display_array[j][i]\n",
    "        if len(word2print) > 0:\n",
    "            print(word2print,end=\" \")\n",
    "        else:\n",
    "            print(j*\"_\")\n",
    "    print(\"\")\n",
    "    "
   ]
  },
  {
   "cell_type": "code",
   "execution_count": 25,
   "metadata": {},
   "outputs": [
    {
     "name": "stdout",
     "output_type": "stream",
     "text": [
      "[[], [], [], ['DER', 'DIE', 'DIR', 'EID', 'EIN', 'ERN', 'IRE', 'NID', 'NIE', 'NIX', 'REN'], ['DEIN', 'DIEN', 'DIRN', 'DREI', 'DRIN', 'EDEN', 'EINE', 'EIRE', 'ENDE', 'ERDE', 'EREN', 'IDEE', 'IDEN', 'NEED', 'NEER', 'NEID', 'NIXE', 'REDE', 'REIN', 'RIED', 'RIND'], ['DEERN', 'DINER', 'DIREX', 'DIRNE', 'DREIN', 'EIERN', 'EINER', 'ERDEN', 'INDER', 'INDEX', 'IRDEN', 'NIERE', 'REDEN', 'REINE', 'RIEDE', 'RINDE', 'XENIE'], ['DENIER', 'DIENER', 'NEIDER', 'NIEDER'], [], [], [], [], [], [], [], [], [], [], [], [], [], [], [], [], [], [], [], [], [], [], [], [], []]\n"
     ]
    }
   ],
   "source": [
    "print(display_array)"
   ]
  }
 ],
 "metadata": {
  "interpreter": {
   "hash": "b3ba2566441a7c06988d0923437866b63cedc61552a5af99d1f4fb67d367b25f"
  },
  "kernelspec": {
   "display_name": "Python 3 (ipykernel)",
   "language": "python",
   "name": "python3"
  },
  "language_info": {
   "codemirror_mode": {
    "name": "ipython",
    "version": 3
   },
   "file_extension": ".py",
   "mimetype": "text/x-python",
   "name": "python",
   "nbconvert_exporter": "python",
   "pygments_lexer": "ipython3",
   "version": "3.7.3"
  }
 },
 "nbformat": 4,
 "nbformat_minor": 2
}
