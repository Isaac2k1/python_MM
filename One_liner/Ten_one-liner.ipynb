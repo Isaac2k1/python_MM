{
 "cells": [
  {
   "cell_type": "markdown",
   "metadata": {},
   "source": [
    "# Trick 1/10\n",
    "Do you like \"before-and-after\" case studies like in those shows where the nerd gets a new set of clothing and becomes the cool kid in town?\n",
    "\n",
    "Today, you're looking at a special before-and-after case study: how to beautify a Python code snippet.\n",
    "\n",
    "Let's say you have this code to find all top earners from a dictionary of employee salary data:\n"
   ]
  },
  {
   "cell_type": "code",
   "execution_count": 1,
   "metadata": {},
   "outputs": [
    {
     "name": "stdout",
     "output_type": "stream",
     "text": [
      "{'Alice': 100000, 'Bob': 99817, 'Carol': 122908, 'Frank': 88123, 'Eve': 93121}\n"
     ]
    }
   ],
   "source": [
    "# Create employees dictionary of salaries\n",
    "employees = {'Alice' : 100000,\n",
    "             'Bob' : 99817,\n",
    "             'Carol' : 122908,\n",
    "             'Frank' : 88123,\n",
    "             'Eve' : 93121}\n",
    "print(employees)"
   ]
  },
  {
   "cell_type": "markdown",
   "metadata": {},
   "source": [
    "What are the top earners earning over\n",
    "$100k per month?"
   ]
  },
  {
   "cell_type": "code",
   "execution_count": 4,
   "metadata": {},
   "outputs": [
    {
     "name": "stdout",
     "output_type": "stream",
     "text": [
      "[('Alice', 100000), ('Carol', 122908)]\n"
     ]
    }
   ],
   "source": [
    "top_earners = []\n",
    "for key, val in employees.items():\n",
    "    if val >= 100000:\n",
    "        top_earners.append((key,val))\n",
    "print(top_earners)"
   ]
  },
  {
   "cell_type": "markdown",
   "metadata": {},
   "source": [
    " [('Alice', 100000), ('Carol', 122908)]\n",
    "\n",
    "Four lines of code just to extract the top earners! Can we do better?\n",
    "Let's have a look at the Python One-Liner that makes this more readable and more beautiful!\n",
    "\n",
    "What are the top earners earning over $100k per month?"
   ]
  },
  {
   "cell_type": "code",
   "execution_count": 5,
   "metadata": {},
   "outputs": [
    {
     "name": "stdout",
     "output_type": "stream",
     "text": [
      "[('Alice', 100000), ('Carol', 122908)]\n"
     ]
    }
   ],
   "source": [
    "res = [(k,v) for k,v in employees.items() if v>=100000]\n",
    "print(res)"
   ]
  },
  {
   "cell_type": "markdown",
   "metadata": {},
   "source": [
    "You use list comprehension to extract all employees who earn at least $100,000.\n",
    "\n",
    "Check out my video where I explain the one-liner to you in a step-by-step manner:\n",
    "https://click.mlflow.com/link/c/YT0xODE1MTYwMzIwOTM5NzkyNTYzJmM9bDh4OSZlPTAmYj02NDcxNzc2MDgmZD1uNHY0cjFj.V2yPuM_2BR7IbyXGDX0Da2CNNlbFbUS6Qh6UNBJ77Xs    "
   ]
  },
  {
   "cell_type": "markdown",
   "metadata": {},
   "source": [
    "# Trick 2/10¶\n",
    "In today's tutorial, you'll learn how to read a file and strip the leading and trailing whitespaces and store everything in a list of strings---all of this in a single line of code.\n",
    "\n",
    "But first, let's dive into the less concise and less Pythonic \"ordinary\" way of reading files...\n",
    "\n",
    "MULTIPLE LINES: How to read a file and strip whitespaces?\n",
    "\n",
    "Here's the normal version (assume that this code is stored in a file named 'readFileDefault.py'):\n",
    "\n",
    "## How to read a file in Python"
   ]
  },
  {
   "cell_type": "code",
   "execution_count": 6,
   "metadata": {},
   "outputs": [
    {
     "name": "stdout",
     "output_type": "stream",
     "text": [
      "['Mal sehen ob es', 'korrekt eingelesen', 'wird, oder nicht.']\n"
     ]
    }
   ],
   "source": [
    "filename = \"readFileDefault.py\" # this code\n",
    "f = open(filename)\n",
    "lines = []\n",
    "for line in f:\n",
    "    lines.append(line.strip())\n",
    "print(lines)"
   ]
  },
  {
   "cell_type": "markdown",
   "metadata": {},
   "source": [
    "# This is the output:"
   ]
  },
  {
   "cell_type": "code",
   "execution_count": null,
   "metadata": {},
   "outputs": [],
   "source": [
    "['filename = \"readFileDefault.py\" # this code',\n",
    " '', '',\n",
    " 'f = open(filename)',\n",
    " 'lines = []',\n",
    " 'for line in f:',\n",
    " 'lines.append(line.strip())',\n",
    " '', '',\n",
    " 'print(lines)']\n",
    " "
   ]
  },
  {
   "cell_type": "markdown",
   "metadata": {},
   "source": [
    "A lot of code---just to do some basic file I/O! The variable lines contains all lines with leading and trailing whitespaces removed.\n",
    "\n",
    "# ONE-LINER\n",
    "\n",
    "Let's apply your one-liner superpower to this code snippet:"
   ]
  },
  {
   "cell_type": "code",
   "execution_count": 7,
   "metadata": {},
   "outputs": [
    {
     "name": "stdout",
     "output_type": "stream",
     "text": [
      "['Mal sehen ob es', 'korrekt eingelesen', 'wird, oder nicht.']\n"
     ]
    }
   ],
   "source": [
    "print([l.strip() for l in open(\"readFileDefault.py\")])"
   ]
  },
  {
   "cell_type": "markdown",
   "metadata": {},
   "source": [
    "That's it! You use list comprehension to iterate over the contents of the dynamically created file object. \n",
    "# This is the output:\n",
    "\n",
    "['print([l.strip() for l in open(\"file.py\")])']\n",
    "\n",
    "Check out my video where I explain the one-liner to you in a step-by-step manner:\n",
    "https://click.mlflow.com/link/c/YT0xODE1ODg1MTU5MjI0ODQyNTM5JmM9eDFlNSZlPTAmYj02NDc5Nzg3MzEmZD13OGkzcjN6.HgWMAB7ft0Z21fiBVzNagM3QhXcXxcs3VA40ii21TZ4"
   ]
  },
  {
   "cell_type": "markdown",
   "metadata": {},
   "source": [
    "# Trick 3/10\n",
    "When given a list of strings, our next one-liner creates a new list of tuples, each consisting of a Boolean and the original string.\n",
    "\n",
    "The Boolean value indicates whether the string 'anonymous' appears in the original string!\n",
    "\n",
    "Here's the sample code:\n",
    "\n",
    "## Data"
   ]
  },
  {
   "cell_type": "code",
   "execution_count": 8,
   "metadata": {},
   "outputs": [
    {
     "name": "stdout",
     "output_type": "stream",
     "text": [
      "['lambda functions are anonymous functions.', 'anonymous functions dont have a name.', 'functions are objects in Python.']\n"
     ]
    }
   ],
   "source": [
    "t = ['lambda functions are anonymous functions.',\n",
    "     'anonymous functions dont have a name.',\n",
    "     'functions are objects in Python.']\n",
    "q = 'anonymous' # query\n",
    "print(t)"
   ]
  },
  {
   "cell_type": "markdown",
   "metadata": {},
   "source": [
    "## One-Liner"
   ]
  },
  {
   "cell_type": "code",
   "execution_count": null,
   "metadata": {},
   "outputs": [],
   "source": [
    "mark = map(lambda s: (1, s) if q in s else (0, s), t)"
   ]
  },
  {
   "cell_type": "markdown",
   "metadata": {},
   "source": [
    "## Result"
   ]
  },
  {
   "cell_type": "code",
   "execution_count": null,
   "metadata": {},
   "outputs": [],
   "source": [
    "print(list(mark))"
   ]
  },
  {
   "cell_type": "markdown",
   "metadata": {},
   "source": [
    "We call the resulting list mark because the Boolean values mark the string elements in the list that contain the string 'anonymous'.\n",
    "\n",
    "The map() function adds a Boolean value to each string element in the original txt list. This Boolean isTrue if the string element contains the word 'anonymous'. The first argument is the anonymous lambda function, and the second is a list of strings you want to check for the desired string.\n",
    "\n",
    "You use the lambda return expression (1, s) if 'anonymous' in s else (0, s) to search for the 'anonymous' string. The value s is the input argument of the lambda function, which, in this example, is a string.\n",
    "\n",
    "If the string query 'anonymous' exists in the string, the expression returns the tuple (1, s). Otherwise, it returns the tuple (0, s).\n",
    "\n",
    "The result of the one-liner is the following:\n",
    "\n",
    "## Result"
   ]
  },
  {
   "cell_type": "code",
   "execution_count": null,
   "metadata": {},
   "outputs": [],
   "source": [
    "print(list(mark))"
   ]
  },
  {
   "cell_type": "markdown",
   "metadata": {},
   "source": [
    "[(1, 'lambda functions are anonymous functions.'),\n",
    "(1, 'anonymous functions dont have a name.'),\n",
    "(0, 'functions are objects in Python.')]\n",
    "\n",
    "Video course:\n",
    "https://click.mlflow.com/link/c/YT0xODE2NjA5OTUyMjg2OTA3MjAwJmM9bjd0OSZlPTAmYj02NDk1NDAzMzAmZD1pNHI0aTdi.RBajVa8Tlp2hZEWdTaliZQiv5OBfQz6d7jtzgxg9jNA"
   ]
  },
  {
   "cell_type": "markdown",
   "metadata": {},
   "source": [
    "# Trick 4/10\n",
    "This one-liner teaches you some critical Python skills: \n",
    "\n",
    "slicing, the ternary operator, and the string find() method.\n",
    "\n",
    "## Problem Description\n",
    "\n",
    "Your goal is to find a particular text query within a multiline string. You want to find the query in the text and return its immediate environment, up to 18 positions around the matching query string.\n",
    "\n",
    "You may ask - why? - and rightly so! \n",
    "\n",
    "Extracting the environment of the query is useful for search context—just as the Google search engine presents text snippets around a found keyword. \n",
    "\n",
    "## Solution\n",
    "\n",
    "In the following code example, you’re looking for the string 'SQL' in an Amazon letter to shareholders—with the immediate environment of up to 18 positions around the string 'SQL'.\n",
    "\n",
    "Here's the one-liner solution:\n",
    "\n",
    "## Data"
   ]
  },
  {
   "cell_type": "code",
   "execution_count": 15,
   "metadata": {},
   "outputs": [],
   "source": [
    "letters_amazon = '''\n",
    "We spent several years building our own database engine,\n",
    "Amazon Aurora, a fully-managed MySQL and PostgreSQL-compatible\n",
    "service with the same or better durability and availability as\n",
    "the commercial engines, but at one-tenth of the cost. We were\n",
    "not surprised when this worked.\n",
    "'''"
   ]
  },
  {
   "cell_type": "markdown",
   "metadata": {},
   "source": [
    "## One-Liner"
   ]
  },
  {
   "cell_type": "code",
   "execution_count": 16,
   "metadata": {},
   "outputs": [],
   "source": [
    "find = lambda txt, q: txt[txt.find(q)-18:txt.find(q)+18]"
   ]
  },
  {
   "cell_type": "markdown",
   "metadata": {},
   "source": [
    "## Result"
   ]
  },
  {
   "cell_type": "code",
   "execution_count": 17,
   "metadata": {},
   "outputs": [
    {
     "name": "stdout",
     "output_type": "stream",
     "text": [
      "a fully-managed MySQL and PostgreSQL\n"
     ]
    }
   ],
   "source": [
    "print(find(letters_amazon, 'SQL'))"
   ]
  },
  {
   "cell_type": "markdown",
   "metadata": {},
   "source": [
    "## a fully-managed MySQL and PostgreSQL\n",
    "\n",
    "You define a lambda function with two arguments: string value x, and query q to search for in the text. \n",
    "\n",
    "You assign the lambda function to the name find. The function find(x, q) finds the string query q in the string text x.\n",
    "\n",
    "If query q does not appear in string x, you directly return the result -1. \n",
    "\n",
    "Otherwise, you use slicing on the text string to carve out the first occurrence of the query, plus 18 characters to the left of the query and 18 characters to the right, to capture the query’s environment.\n",
    "\n",
    "The index of the first occurrence of q in x uses the string function x.find(q). You call the function twice: to help determine the start index and the stop index of the slice, but both function calls return the same value because query q and string x do not change.\n",
    "\n",
    "## Discussion\n",
    "\n",
    "Although this code works perfectly fine, the redundant function call causes unnecessary computations— a disadvantage that could easily be fixed by adding a helper variable to temporarily store the result of the first function call. You could then reuse the result from the first function call by accessing the value in the helper variable.\n",
    "\n",
    "This highlights an important trade-off: by restricting yourself to one line of code, you cannot define and reuse a helper variable to store the index of the first occurrence of the query. Instead, you must execute the same function find to compute the start index (and decrement the result by 18 index positions) and to compute the end index (and increment the result by 18 index positions).\n",
    "\n",
    "## Video\n",
    "\n",
    "If you struggled with understanding this one-liner code, check out my explainer video:\n",
    "https://click.mlflow.com/link/c/YT0xODE3MzM0NzM2NzUwNjQ3OTM0JmM9cTZ2OSZlPTAmYj02NTA4NTExNDcmZD1sNGwxZjd4.ZLLMY2G0IU_Tv79gwWKLKaqU3PtFipk2FpijDa6ye0E\n"
   ]
  },
  {
   "cell_type": "markdown",
   "metadata": {},
   "source": [
    "# Trick 5/10\n",
    "\n",
    "In this email, you'll combine list comprehension and slicing to sample a two-dimensional data set. You aim to create a smaller but representative sample of data from a prohibitively large sample.\n",
    "\n",
    "Motivation and Basics\n",
    "\n",
    "Say you work as a financial analyst for a large bank and are training a new machine learning model for stock-price forecasting.\n",
    "\n",
    "You have a training data set of real-world stock prices. However, the data set is huge, and the model training seems to take forever on your computer.\n",
    "\n",
    "To speed things up, you reduce the data set by half by excluding every other stock-price data point. You don’t expect this modification to decrease the model’s accuracy significantly.\n",
    "\n",
    "In this email, you’ll use two Python features you learned about previously in this email series: \n",
    "\n",
    "List comprehension allows you to iterate over each list element and modify it subsequently.\n",
    "Slicing allows you to select every other element from a given list quickly—and it lends itself naturally to simple filtering operations.\n",
    "Let’s have a detailed look at how these two features can be used in combination.\n",
    "\n",
    "Source Code\n",
    "\n",
    "Your goal is to create a new training data sample from our data—a list of lists, each consisting of six floats—by including only every other float value from the original data set. Take a look at the following code snippet:\n",
    "\n",
    "## Data (daily stock prices ($))"
   ]
  },
  {
   "cell_type": "code",
   "execution_count": 12,
   "metadata": {},
   "outputs": [],
   "source": [
    "price = [[9.9, 9.8, 9.8, 9.4, 9.5, 9.7],\n",
    "         [9.5, 9.4, 9.4, 9.3, 9.2, 9.1],\n",
    "         [8.4, 7.9, 7.9, 8.1, 8.0, 8.0],\n",
    "         [7.1, 5.9, 4.8, 4.8, 4.7, 3.9]]"
   ]
  },
  {
   "cell_type": "markdown",
   "metadata": {},
   "source": [
    "## One-Liner"
   ]
  },
  {
   "cell_type": "code",
   "execution_count": 13,
   "metadata": {},
   "outputs": [],
   "source": [
    "sample = [line[::2] for line in price]"
   ]
  },
  {
   "cell_type": "markdown",
   "metadata": {},
   "source": [
    "## Result"
   ]
  },
  {
   "cell_type": "code",
   "execution_count": 14,
   "metadata": {},
   "outputs": [
    {
     "name": "stdout",
     "output_type": "stream",
     "text": [
      "[[9.9, 9.8, 9.5], [9.5, 9.4, 9.2], [8.4, 7.9, 8.0], [7.1, 4.8, 4.7]]\n"
     ]
    }
   ],
   "source": [
    "print(sample)"
   ]
  },
  {
   "cell_type": "markdown",
   "metadata": {},
   "source": [
    "### [[9.9, 9.8, 9.5],\n",
    "###  [9.5, 9.4, 9.2], \n",
    "###  [8.4, 7.9, 8.0],\n",
    "###  [7.1, 4.8, 4.7]]\n",
    "\n",
    "Your solution is a two-step approach.\n",
    "First, you use list comprehension to iterate over all lines of the original list, price.\n",
    "\n",
    "Second, you create a new list of floats by slicing each line; you use line[start:stop:step] with default start and stop parameters and step size 2.\n",
    "\n",
    "The new list of floats consists of only three (instead of six) floats.\n",
    "\n",
    "Explainer Video\n",
    "\n",
    "If you struggle with understanding this one-liner, check out our explainer video:\n",
    "https://click.mlflow.com/link/c/YT0xODE4MDU5NTc4Nzg1NDA1NzU0JmM9ZDNzMSZlPTAmYj02NTUxMDM4MjcmZD13NnoybzV5.2q-MZS3oKGCviX6Redgb-po-Rwwn7u_eqs73KvqYMX0\n"
   ]
  },
  {
   "cell_type": "markdown",
   "metadata": {},
   "source": [
    "# Trick 6/10\n",
    "\n",
    "In this email, you'll strengthen your understanding of two important Python concepts: slicing, and slice assignments.\n",
    "\n",
    "## Problem Description\n",
    "\n",
    "Imagine you work at a small internet startup that keeps track of its users' web browsers (Chrome, Firefox, Safari). You store the data in a database.\n",
    "\n",
    "To analyze the data, you load the gathered browser data into a large list of strings, but because of a bug in your tracking algorithm, every second string is corrupted and needs to be replaced by the correct string.\n",
    "\n",
    "Assume that your web server always redirects the first web request of a user to another URL -- this is a common practice in web development known under the HTML code 301: moved permanently. \n",
    "\n",
    "You conclude that the first browser value will be equal to the second one in most cases because the browser of a user stays the same while waiting for the redirection to occur. This means that you can easily reproduce the original data.\n",
    "\n",
    "Essentially, you want to duplicate every other string: the list \n",
    "\n",
    "['Firefox', 'corrupted', 'Chrome', 'corrupted'] \n",
    "\n",
    "becomes \n",
    "\n",
    "['Firefox', 'Firefox', 'Chrome', 'Chrome'].\n",
    "\n",
    "How can you achieve this in a fast, readable, and efficient way (preferably in a single line of code)?\n",
    "\n",
    "## Solution Overview\n",
    "\n",
    "Your first idea is to create a new list, iterate over the corrupted list, and add every non-corrupted browser twice to the new list. But you reject the idea because you’d then have to maintain two lists in your code—and each may have millions of entries. Also, this solution would require a few lines of code, which would reduce conciseness and readability of your source code.\n",
    "\n",
    "Luckily, you’ve read about a beautiful Python feature: slice assignments. \n",
    "\n",
    "You’ll use slice assignments to select and replace a sequence of elements between indices i and j by using the slicing notation lst[i:j] = [0 0 ...0]. \n",
    "\n",
    "Because you are using slicing lst[i:j] on the left-hand side of the assignment operation (rather than on the right-hand side), the feature is denoted as slice assignments.\n",
    "\n",
    "The idea of slice assignments is simple: replace all selected elements in the original sequence on the left with the elements on the right.\n",
    "\n",
    "## Source Code\n",
    "\n",
    "Your goal is to replace every other string with the string immediately in front of it."
   ]
  },
  {
   "cell_type": "code",
   "execution_count": 15,
   "metadata": {},
   "outputs": [
    {
     "name": "stdout",
     "output_type": "stream",
     "text": [
      "['Firefox', 'corrupted', 'Chrome', 'corrupted', 'Safari', 'corrupted', 'Safari', 'corrupted', 'Chrome', 'corrupted', 'Firefox', 'corrupted']\n"
     ]
    }
   ],
   "source": [
    "## Data\n",
    "visitors = ['Firefox', 'corrupted',\n",
    "            'Chrome', 'corrupted',\n",
    "            'Safari', 'corrupted',\n",
    "            'Safari', 'corrupted',\n",
    "            'Chrome', 'corrupted',\n",
    "            'Firefox', 'corrupted']\n",
    "print(visitors)"
   ]
  },
  {
   "cell_type": "code",
   "execution_count": 16,
   "metadata": {},
   "outputs": [],
   "source": [
    "## One-Liner\n",
    "visitors[1::2] = visitors[::2]"
   ]
  },
  {
   "cell_type": "code",
   "execution_count": 17,
   "metadata": {},
   "outputs": [
    {
     "name": "stdout",
     "output_type": "stream",
     "text": [
      "['Firefox', 'Firefox', 'Chrome', 'Chrome', 'Safari', 'Safari', 'Safari', 'Safari', 'Chrome', 'Chrome', 'Firefox', 'Firefox']\n"
     ]
    }
   ],
   "source": [
    "## Result\n",
    "print(visitors)"
   ]
  },
  {
   "cell_type": "markdown",
   "metadata": {},
   "source": [
    "['Firefox', 'Firefox',\n",
    " 'Chrome', 'Chrome',\n",
    " 'Safari', 'Safari',\n",
    " 'Safari', 'Safari',\n",
    " 'Chrome', 'Chrome',\n",
    " 'Firefox', 'Firefox']"
   ]
  },
  {
   "cell_type": "markdown",
   "metadata": {},
   "source": [
    "The one-liner solution replaces the 'corrupted' strings with the browser strings that precede them in the list. You use the slice assignment notation to access every corrupted element in the visitors list.\n",
    "\n",
    "## Explainer Video\n",
    "\n",
    "As usual, if you struggle with understanding this one-liner, check out my explainer video:\n",
    "https://click.mlflow.com/link/c/YT0xODE4Nzg0NDM3NDM3OTk1MDQ0JmM9cTdiNSZlPTAmYj02NTUxMTQ0MDgmZD1qNmQyZTlv.YFiswCGXp0d-04RCaTP9fjFi_MyhDY_s_zImT8hvMFI\n"
   ]
  },
  {
   "cell_type": "markdown",
   "metadata": {},
   "source": [
    "# Trick 7/10\n",
    "\n",
    "This time, you’re working on a small code project for a hospital. Your goal is to monitor and visualize the health statistics of patients by tracking their cardiac cycles.\n",
    "\n",
    "By plotting expected cardiac cycle data, you’ll enable patients and doctors to monitor any deviation from that cycle. For example, given a series of measurements stored in the list [62, 60, 62, 64, 68, 77, 80, 76, 71, 66, 61, 60, 62] for a single cardiac cycle, you want to achieve the visualization:\n",
    "\n",
    "https://bucket.mlcdn.com/a/3230/3230158/images/3bfa0e35ea5603bcc72c80605c5bdf827d2dc8ef.jpeg\n",
    "\n",
    "(If you cannot see the image, please allow pictures from Finxter in your email program)\n",
    "\n",
    "The problem is that the first and the last two data values in the list are redundant:\n",
    "\n",
    "[62, 60, 62, 64, 68, 77, 80, 76, 71, 66, 61, 60, 62].\n",
    "\n",
    "You need to clean the original list by removing the redundant first and the last two data values:\n",
    "\n",
    "[62, 60, 62, 64, 68, 77, 80, 76, 71, 66, 61, 60, 62] \n",
    "\n",
    "becomes\n",
    "\n",
    "[60, 62, 64, 68, 77, 80, 76, 71, 66, 61].\n",
    "\n",
    "You’ll combine slicing with the Python feature list concatenation, which creates a new list by concatenating (that is, joining) existing lists.\n",
    "\n",
    "For example, the operation [1, 2, 3] + [4, 5] generates the new list [1, 2, 3, 4, 5], but doesn’t replace the original lists.\n",
    "\n",
    "You can use this with the * operator to concatenate the same list again and again to create large lists: for example, the operation [1, 2, 3] * 3 generates the new list [1, 2, 3, 1, 2, 3, 1, 2, 3].\n",
    "\n",
    "In addition, you’ll use the matplotlib.pyplot module to plot the cardiac data you generate. The matplotlib function plot(data) expects an iterable argument data—an iterable is simply an object over which you can iterate, such as a list—and uses it as y values for subsequent data points in a two-dimensional plot.\n",
    "\n",
    "The Code\n",
    "\n",
    "Given a list of integers that reflect the measured cardiac cycle, you first want to clean the data by removing the first and last two values from the list. Second, you create a new list with expected future heart rates by copying the cardiac cycle to future time instances."
   ]
  },
  {
   "cell_type": "code",
   "execution_count": 1,
   "metadata": {},
   "outputs": [],
   "source": [
    "## Dependencies\n",
    "import matplotlib.pyplot as plt"
   ]
  },
  {
   "cell_type": "code",
   "execution_count": 2,
   "metadata": {},
   "outputs": [],
   "source": [
    "## Data\n",
    "cardiac_cycle = [62, 60, 62, 64, 68, 77,\n",
    "                 80, 76, 71, 66, 61, 60, 62]"
   ]
  },
  {
   "cell_type": "code",
   "execution_count": 3,
   "metadata": {},
   "outputs": [],
   "source": [
    "## One-Liner\n",
    "expected_cycles = cardiac_cycle[1:-2] * 10"
   ]
  },
  {
   "cell_type": "code",
   "execution_count": 4,
   "metadata": {},
   "outputs": [
    {
     "data": {
      "image/png": "[encoded data removed]",
      "text/plain": [
       "<Figure size 432x288 with 1 Axes>"
      ]
     },
     "metadata": {
      "needs_background": "light"
     },
     "output_type": "display_data"
    }
   ],
   "source": [
    "## Result\n",
    "plt.plot(expected_cycles)\n",
    "plt.show()"
   ]
  },
  {
   "cell_type": "markdown",
   "metadata": {},
   "source": [
    "This one-liner consists of two steps.\n",
    "\n",
    "First, you use slicing to clean the data by using the negative stop argument -2 to slice all the way to the right but skip the last two redundant values.\n",
    "Second, you concatenate the resulting data values ten times by using the replication operator *.\n",
    "The result is a list of 10 × 10 = 100 integers made up of the concatenated cardiac cycle data. When you plot the result, you get the desired output shown previously\n",
    "\n",
    "Video\n",
    "\n",
    "If you struggle with understanding this one-liner, check out my explainer video:\n",
    "https://click.mlflow.com/link/c/YT0xODE5NTA5Mjc3ODcwNTI4Nzk5JmM9ZzdxNiZlPTAmYj02NTc3NjI5MTYmZD1xM3o2dTV3.TfZTmJnPWSGVfbEFGNEr7JG7clm7AjpplNoOqzCOmS0"
   ]
  },
  {
   "cell_type": "markdown",
   "metadata": {},
   "source": [
    "# Trick 8/10\n",
    "\n",
    "This email combines some of the Python basics you’ve already learned and introduces the useful function any().\n",
    "\n",
    "The Basics\n",
    "\n",
    "You work in law enforcement for the US Department of Labor, finding companies that pay below minimum wage so you can initiate further investigations. Like hungry dogs on the back of a meat truck, your Fair Labor Standards Act (FLSA) officers are already waiting for the list of companies that violated the minimum wage law. Can you give it to them?\n",
    "\n",
    "Here’s your weapon: Python’s any() function, which takes an iterable, such as a list, and returns True if at least one element of the iterable evaluates to True.\n",
    "\n",
    "For example, the expression any([True, False, False, False]) evaluates to True, while the expression any([2<1, 3+2>5+5, 3-2<0, 0]) evaluates to False.\n",
    "\n",
    "Note: Python’s creator, Guido van Rossum, was a huge fan of the built-in function any() and even proposed to include it as a built-in function in Python 3.\n",
    "\n",
    "An interesting Python extension is a generalization of list comprehension: generator expressions.\n",
    "\n",
    "Generator expressions work exactly like list comprehensions—but without creating an actual list in memory. The numbers are created on the fly, without storing them explicitly in a list.\n",
    "\n",
    "For example, instead of using list comprehension to calculate the squares of the first 20 numbers, sum([x*x for x in range(20)]), you can use a generator expression: sum(x*x for x in range(20)).\n",
    "\n",
    "The Code\n",
    "\n",
    "Our data is a dictionary of dictionaries storing the hourly wages of company employees. You want to extract a list of the companies paying below your state’s minimum wage (< $9) for at least one employee.\n",
    "\n",
    "## Companies\n",
    "c = {'CoolCompany' : {'Alice' : 33,\n",
    "                      'Bob' : 28,\n",
    "                      'Frank' : 29},\n",
    "     'CheapCompany' : {'Ann' : 4,\n",
    "                       'Lee' : 9,\n",
    "                       'Chrisi' : 7},\n",
    "     'SosoCompany' : {'Esther' : 38,\n",
    "                      'Cole' :\n",
    "8,\n",
    "                      'Paris' : 18}}\n",
    "\n",
    "## One-Liner to find illegal companies\n",
    "i = [x for x in c if any(y<9 for y in\n",
    "                         c[x].values())]\n",
    "\n",
    "## Result\n",
    "print(i)\n",
    "# ['CheapCompany', 'SosoCompany']\n",
    "\n",
    "\n",
    "You use two generator expressions in this one-liner.\n",
    "\n",
    "(1) The first generator expression, y<9 for y in c[x].values() generates the input to the function any(). It checks each of the companies’ employees to see whether they are being paid below minimum wage, y<9. The result is an iterable of Booleans. \n",
    "\n",
    "You use the dictionary function values() to return the collection of values stored in the dictionary. For example, the expression c['CoolCompany'].values() returns the collection of hourly wages dict_values([33, 28, 29]). \n",
    "\n",
    "If at least one of them is below minimum wage, the function any() would return True, and the company name x would be stored as a string in the resulting list i, as described next.\n",
    "\n",
    "(2) The second generator expression is the list comprehension [x for x in c if any(...)] and it creates a list of company names for which the previous call of the function any() returns True. Those are the companies that pay below minimum wage. \n",
    "\n",
    "Note that the expression for x in c visits all dictionary keys—the company names 'CoolCompany', 'CheapCompany', and 'SosoCompany'.\n",
    "\n",
    "Two out of three companies must be investigated further because they pay too little money to at least one employee. Your officers can start to talk to Ann, Chrisi, and Cole!\n",
    "\n",
    "Video\n",
    "\n",
    "If you struggle with understanding this one-liner, check out my explainer video:\n",
    "https://click.mlflow.com/link/c/YT0xODIwMjM0MTAyNTk5NTg4NTA0JmM9dzBlNiZlPTAmYj03NDI3MDg0OTAmZD12M2ExbjNv.1O7VUpRtbByPhCPDB4168SrrXK-ENHjCewDmfyUROPU"
   ]
  },
  {
   "cell_type": "markdown",
   "metadata": {},
   "source": [
    "# Trick 9/10\n",
    "\n",
    "Today, imagine you work in the IT branch of your company's controlling department.\n",
    "\n",
    "You maintain the database of all employees with the columns: 'name', 'salary', and 'job'. \n",
    "\n",
    "However, your data is out of shape—it’s a collection of rows in the form ('Bob', 99000, 'manager'). \n",
    "\n",
    "You want to associate your column names to each data entry to bring it into the readable form {'name': 'Bob', 'salary': 99000, 'job': 'manager'}.\n",
    "\n",
    "How can you achieve that?\n",
    "\n",
    "The Code\n",
    "\n",
    "Your data consists of the column names and the employee data organized as list of tuples (rows). Assign the column names to the rows and, thus, create a list of dictionaries. Each dictionary assigns the column names to the respective data values.\n",
    "\n",
    "## Data"
   ]
  },
  {
   "cell_type": "code",
   "execution_count": 2,
   "metadata": {},
   "outputs": [],
   "source": [
    "cols = ['name', 'salary', 'job']\n",
    "db = [('Alice', 180000, 'scientist'),\n",
    "      ('Bob', 99000, 'manager'),\n",
    "      ('Frank', 87000, 'CEO')]"
   ]
  },
  {
   "cell_type": "code",
   "execution_count": 3,
   "metadata": {},
   "outputs": [],
   "source": [
    "## One-Liner\n",
    "db = [dict(zip(cols, row)) for row in db]"
   ]
  },
  {
   "cell_type": "code",
   "execution_count": 4,
   "metadata": {},
   "outputs": [
    {
     "name": "stdout",
     "output_type": "stream",
     "text": [
      "[{'name': 'Alice', 'salary': 180000, 'job': 'scientist'}, {'name': 'Bob', 'salary': 99000, 'job': 'manager'}, {'name': 'Frank', 'salary': 87000, 'job': 'CEO'}]\n"
     ]
    }
   ],
   "source": [
    "## Result\n",
    "print(db)"
   ]
  },
  {
   "cell_type": "markdown",
   "metadata": {},
   "source": [
    "Puzzle: Can you already guess the output format?\n",
    "\n",
    "Explanation\n",
    "\n",
    "You create the list by using list comprehension. List comprehension consists of a context and an expression part. Feel free to check out a refresher on list comprehension here. \n",
    "\n",
    "The context \"for row in db\" iterates over each tuple, i.e., row, in the variable db.\n",
    "The expression \"zip(cols, row)\" zips together the schema and each row. For example, the first element created by the list comprehension would be zip(['name', 'salary', 'job'], ('Alice', 180000, 'scientist')), which results in a zip object that, after conversion to a list, is in the form [('name', 'Alice'), ('salary', 180000), ('job', 'scientist')]. The elements are in (key, value) form so you can convert it into a dictionary by using the converter function dict() to arrive at the required database format.\n",
    "NOTE: The zip() function doesn’t care that one input is a list and the other is a tuple. The function requires only that the input is an iterable such as a list or a tuple.\n",
    "\n",
    "Result\n",
    "\n",
    "[{'name': 'Alice', 'salary': 180000, 'job': 'scientist'},\n",
    "{'name': 'Bob', 'salary': 99000, 'job': 'manager'},\n",
    "{'name': 'Frank', 'salary': 87000, 'job': 'CEO'}]\n",
    "\n",
    "Video\n",
    "\n",
    "If you struggle with understanding this one-liner, check out my explainer video:\n",
    "https://click.mlflow.com/link/c/YT0xODIwOTU4OTAyMTU0NDM0ODA4JmM9aTlzNSZlPTAmYj02NjE4NTc3NzUmZD1uMXUxbTdj.oUcU2P-p8rBRmPnIBYJeg6V5WP4s8ludWKlvgs8UbcY"
   ]
  }
 ],
 "metadata": {
  "kernelspec": {
   "display_name": "Python 3 (ipykernel)",
   "language": "python",
   "name": "python3"
  },
  "language_info": {
   "codemirror_mode": {
    "name": "ipython",
    "version": 3
   },
   "file_extension": ".py",
   "mimetype": "text/x-python",
   "name": "python",
   "nbconvert_exporter": "python",
   "pygments_lexer": "ipython3",
   "version": "3.7.3"
  }
 },
 "nbformat": 4,
 "nbformat_minor": 2
}
