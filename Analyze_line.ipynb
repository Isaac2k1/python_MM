{
 "cells": [
  {
   "cell_type": "code",
   "execution_count": 1,
   "metadata": {},
   "outputs": [
    {
     "name": "stdout",
     "output_type": "stream",
     "text": [
      "space\n",
      "['und', 'Hugo']\n"
     ]
    }
   ],
   "source": [
    "import re\n",
    "list = ['und']\n",
    "#line = 'ein(e,es,er)'\n",
    "line = 'der,die,das'\n",
    "line = 'Hugo 3 NOM'\n",
    "if ' ' in line:\n",
    "    print(\"space\")\n",
    "    parts = re.split(' ',line)\n",
    "    list.append(parts[0])\n",
    "\n",
    "if '(' in line:\n",
    "    parts = re.split('\\(|\\)',line)\n",
    "    print(\"Länge=\",len(parts))\n",
    "    if len(parts) <= 1:\n",
    "        parts = re.split(',',line)\n",
    "        for sil in parts:\n",
    "            list.append(sil)\n",
    "\n",
    "    else:\n",
    "        print(parts[0])\n",
    "        print(parts[1])\n",
    "        list.append(parts[0]) # append root word\n",
    "        test = parts[1].split(\",\")\n",
    "        print(\"test\",test)\n",
    "        for sil in test:\n",
    "            list.append(parts[0]+sil)\n",
    "\n",
    "print(list)\n",
    "\n",
    "# text = 'The quick brown\\nfox jumps*over the lazy dog.'\n",
    "# print(re.split('; |, |\\*|\\n',text))"
   ]
  },
  {
   "cell_type": "code",
   "execution_count": null,
   "metadata": {},
   "outputs": [],
   "source": []
  }
 ],
 "metadata": {
  "kernelspec": {
   "display_name": "Python 3",
   "language": "python",
   "name": "python3"
  },
  "language_info": {
   "codemirror_mode": {
    "name": "ipython",
    "version": 3
   },
   "file_extension": ".py",
   "mimetype": "text/x-python",
   "name": "python",
   "nbconvert_exporter": "python",
   "pygments_lexer": "ipython3",
   "version": "3.9.1+"
  }
 },
 "nbformat": 4,
 "nbformat_minor": 4
}
