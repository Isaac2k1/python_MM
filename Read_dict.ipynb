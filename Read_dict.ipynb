{
 "cells": [
  {
   "cell_type": "code",
   "execution_count": 18,
   "metadata": {},
   "outputs": [
    {
     "name": "stdout",
     "output_type": "stream",
     "text": [
      "0 der,die,das 0 DET\n",
      " ['der', 'die', 'das 0 DET\\n']\n",
      "1 in 2\n",
      " ['in 2\\n']\n",
      "2 und 2\n",
      " ['und 2\\n']\n",
      "3 sein 3 V\n",
      " ['sein 3 V\\n']\n",
      "4 ein(e) 3 DET\n",
      " ['ein(e) 3 DET\\n']\n",
      "5 werden 3\n",
      " ['werden 3\\n']\n",
      "6 von 3\n",
      " ['von 3\\n']\n",
      "7 mit 3\n",
      " ['mit 3\\n']\n",
      "8 der,die,das 3 PRON\n",
      " ['der', 'die', 'das 3 PRON\\n']\n",
      "9 haben 3\n",
      " ['haben 3\\n']\n",
      "326947\n",
      "ferdisch\n"
     ]
    }
   ],
   "source": [
    "import perm_lib\n",
    "# path to word list in MacOS: /usr/share/dict/web2\n",
    "# derewo-v-ww-bll-320000g-2012-12-31-1.0.txt is not ASCII, \n",
    "# it was copy pasted to web3.txt\n",
    "ObjRead = open(\"web3.txt\", \"r\")\n",
    "\n",
    "iwords = 0\n",
    "wordlist = dict()\n",
    "\n",
    "with ObjRead as textfile:\n",
    "    while True:    \n",
    "        next_line = textfile.readline()\n",
    "        words = next_line.split(\",\") #analyse(next_line)\n",
    "        for word in words:\n",
    "            word.split(\" \")\n",
    "            wordlist.append()\n",
    "        if iwords < 10:\n",
    "            print(iwords, next_line, words)\n",
    "        iwords += 1\n",
    "        \n",
    "        if len(next_line) == 0:\n",
    "            break\n",
    "\n",
    "#        key, value = next_line.split()\n",
    "#        if key == 'NODATA_value':\n",
    "#            break\n",
    "#\n",
    "#        variables[key] = value    \n",
    "\n",
    "print(iwords)\n",
    "print(\"ferdisch\")\n",
    "ObjRead.close()\n"
   ]
  },
  {
   "cell_type": "code",
   "execution_count": null,
   "metadata": {},
   "outputs": [],
   "source": []
  }
 ],
 "metadata": {
  "kernelspec": {
   "display_name": "Python 3",
   "language": "python",
   "name": "python3"
  },
  "language_info": {
   "codemirror_mode": {
    "name": "ipython",
    "version": 3
   },
   "file_extension": ".py",
   "mimetype": "text/x-python",
   "name": "python",
   "nbconvert_exporter": "python",
   "pygments_lexer": "ipython3",
   "version": "3.7.3"
  }
 },
 "nbformat": 4,
 "nbformat_minor": 4
}
