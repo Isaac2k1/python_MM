{
 "cells": [
  {
   "cell_type": "code",
   "execution_count": null,
   "metadata": {},
   "outputs": [],
   "source": [
    "import ui\n",
    "print(dir(ui))\n",
    "def button_tapped(sender):\n",
    "    sender.title = 'Hello'\n",
    "\n",
    "view = ui.View()                                      # [1]\n",
    "view.name = 'Demo'                                    # [2]\n",
    "view.background_color = 'green'                       # [3]\n",
    "button = ui.Button(title='Tap me!')                   # [4]\n",
    "button.center = (view.width * 0.5, view.height * 0.5) # [5]\n",
    "button.flex = 'LRTB'                                  # [6]\n",
    "button.action = button_tapped                         # [7]\n",
    "view.add_subview(button)                              # [8]\n",
    "view.present('popover')                                 # [9]"
   ]
  },
  {
   "cell_type": "code",
   "execution_count": null,
   "metadata": {},
   "outputs": [],
   "source": [
    "%pip install ui"
   ]
  }
 ],
 "metadata": {
  "kernelspec": {
   "display_name": "Python 3",
   "language": "python",
   "name": "python3"
  },
  "language_info": {
   "codemirror_mode": {
    "name": "ipython",
    "version": 3
   },
   "file_extension": ".py",
   "mimetype": "text/x-python",
   "name": "python",
   "nbconvert_exporter": "python",
   "pygments_lexer": "ipython3",
   "version": "3.9.2+"
  }
 },
 "nbformat": 4,
 "nbformat_minor": 2
}
