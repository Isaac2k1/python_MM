{
 "cells": [
  {
   "cell_type": "markdown",
   "metadata": {},
   "source": [
    "# Permutations of letters for the game World of Words\n",
    "This program shall also search for suitable German words by using a dictionary."
   ]
  },
  {
   "cell_type": "code",
   "execution_count": 10,
   "metadata": {},
   "outputs": [
    {
     "name": "stdout",
     "output_type": "stream",
     "text": [
      "Enter your searchword:boss\n",
      "4 -letter words\n",
      "boss\n",
      "bsos\n",
      "bsso\n",
      "obss\n",
      "osbs\n",
      "ossb\n",
      "sbos\n",
      "sbso\n",
      "sobs\n",
      "sosb\n",
      "ssbo\n",
      "ssob\n",
      "12  of  24\n",
      "3 -letter words\n",
      "bos\n",
      "bso\n",
      "bss\n",
      "obs\n",
      "osb\n",
      "oss\n",
      "sbo\n",
      "sbs\n",
      "sob\n",
      "sos\n",
      "ssb\n",
      "sso\n",
      "12  of  24\n",
      "2 -letter words\n",
      "bo\n",
      "bs\n",
      "ob\n",
      "os\n",
      "sb\n",
      "so\n",
      "ss\n",
      "7  of  24\n"
     ]
    }
   ],
   "source": [
    "# Ale's refactor from 2020-03-29 18h22\n",
    "import itertools\n",
    "# list(itertools.permutations([1, 2, 3])\n",
    "\n",
    "def permutation(lst):\n",
    "\t# If lst is empty then there are no permutations\n",
    "\tif len(lst) == 0:\n",
    "\t\treturn []\n",
    "\t\t\n",
    "\t# If there is only one element in lst then, only\n",
    "\t# one permuatation is possible\n",
    "\tif len(lst) == 1:\n",
    "\t\treturn [lst]\n",
    "\t\t\n",
    "\t# Find the permutations for lst if there are\n",
    "\t# more than 1 characters\n",
    "\t\n",
    "\tl = [] # empty list that will store current permutation\n",
    "\t\n",
    "\t# Iterate the input(lst) and calculate the permutation\n",
    "\tfor i in range(len(lst)):\n",
    "\t\tm = lst[i]\n",
    "\t\t\n",
    "\t\t# Extract lst[i] or m from the list.  remLst is\n",
    "\t\t# remaining list\n",
    "\t\tremLst = lst[:i] + lst[i+1:]\n",
    "\t\t\n",
    "\t\t# Generating all permutations where m is first\n",
    "\t\t# element\n",
    "\t\tfor p in permutation(remLst):\n",
    "\t\t\tl.append([m] + p)\n",
    "\treturn l\n",
    "\n",
    "# Function to convert a list to string \n",
    "def listToString(s): \n",
    "\t\n",
    "\t# initialize an empty string \n",
    "\tstr1 = \"\" \n",
    "\t\n",
    "\t# traverse in the string \n",
    "\tfor ele in s: \n",
    "\t\tstr1 += ele \n",
    "\t\n",
    "\t# return string \n",
    "\treturn str1 \n",
    "\n",
    "'''\n",
    "for lwords in range(len(data),1,-1):\n",
    "\tprint(lwords,\"-letter words\")\n",
    "\tall_permutations = set()\n",
    "\tcount = 0\n",
    "\tfor p in itertools.permutations(data):\n",
    "\t#for p in permutation(data):\n",
    "\t\tcount +=1\n",
    "\t\tstrg=listToString(p)\n",
    "\t\tall_permutations.update({strg[0:lwords]})\n",
    "\t#print(all_permutations)\n",
    "\tall_permutations = sorted(all_permutations)\n",
    "\tfor word in all_permutations:\n",
    "\t\tprint(word)\n",
    "\tprint(len(all_permutations),\" of \",count)\n",
    "\tprint(\"Permutations: \",count)\n",
    "'''\n",
    "\n",
    "def generate_words(data):\n",
    "    for lwords in range(len(data), 1, -1):\n",
    "        print(lwords, \"-letter words\")\n",
    "        all_permutations = set()\n",
    "        count = 0 # total number of combinations\n",
    "        for p in permutation(data):\n",
    "            count += 1\n",
    "            strg = listToString(p)\n",
    "            all_permutations.update({strg[0:lwords]})\n",
    "        #print(all_permutations)\n",
    "        all_permutations = sorted(all_permutations) # \n",
    "        for word in all_permutations:\n",
    "            print(word)\n",
    "        print(len(all_permutations), \" of \", count)\n",
    " \n",
    "# Driver program to test above function\n",
    "data = list(input(\"Enter your searchword:\"))\n",
    "generate_words(data)\n",
    "\n"
   ]
  },
  {
   "cell_type": "code",
   "execution_count": 36,
   "metadata": {},
   "outputs": [
    {
     "name": "stdout",
     "output_type": "stream",
     "text": [
      "enter your searchword:hugo\n",
      "['hugo', 'huog', 'hguo', 'hgou', 'houg', 'hogu', 'uhgo', 'uhog', 'ugho', 'ugoh', 'uohg', 'uogh', 'ghuo', 'ghou', 'guho', 'guoh', 'gohu', 'gouh', 'ohug', 'ohgu', 'ouhg', 'ough', 'oghu', 'oguh', 'hug', 'huo', 'hgu', 'hgo', 'hou', 'hog', 'uhg', 'uho', 'ugh', 'ugo', 'uoh', 'uog', 'ghu', 'gho', 'guh', 'guo', 'goh', 'gou', 'ohu', 'ohg', 'ouh', 'oug', 'ogh', 'ogu', 'hu', 'hg', 'ho', 'uh', 'ug', 'uo', 'gh', 'gu', 'go', 'oh', 'ou', 'og']\n"
     ]
    }
   ],
   "source": [
    "# ----\n",
    "# Ale's refactor from 2020-03-29 19h01\n",
    "import itertools\n",
    "\n",
    "def generate_words(data):\n",
    "    permutations = []\n",
    "    for i in range(len(data), 1, -1):\n",
    "        permutations = permutations + [''.join(p) for p in itertools.permutations(data, i)]\n",
    "    return permutations\n",
    "\n",
    "data = input(\"enter your searchword:\")\n",
    "permutations = generate_words(data)\n",
    "\n"
   ]
  },
  {
   "cell_type": "code",
   "execution_count": null,
   "metadata": {},
   "outputs": [],
   "source": [
    "# Driver program to test above function\n",
    "import itertools\n",
    "data = list(input(\"enter your searchword:\"))\n",
    "print(data)"
   ]
  },
  {
   "cell_type": "code",
   "execution_count": 2,
   "metadata": {},
   "outputs": [
    {
     "name": "stdout",
     "output_type": "stream",
     "text": [
      "hugo\n"
     ]
    }
   ],
   "source": [
    "print(\"hugo\")"
   ]
  }
 ],
 "metadata": {
  "kernelspec": {
   "display_name": "Python 3",
   "language": "python",
   "name": "python3"
  },
  "language_info": {
   "codemirror_mode": {
    "name": "ipython",
    "version": 3
   },
   "file_extension": ".py",
   "mimetype": "text/x-python",
   "name": "python",
   "nbconvert_exporter": "python",
   "pygments_lexer": "ipython3",
   "version": "3.6.9"
  }
 },
 "nbformat": 4,
 "nbformat_minor": 4
}
