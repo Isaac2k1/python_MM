{
 "cells": [
  {
   "cell_type": "markdown",
   "metadata": {},
   "source": [
    "# Python: How to Write a Loop\n",
    "\n",
    "Posted by: Jeremy Grifski in Python January 30th, 2020\n",
    "\n",
    "As this series grows, I often find myself revisiting the fundamentals. For instance, today we’ll be learning how to write a loop in Python. Luckily for you, there’s some bonus material on recursion as well.\n",
    "In short, there are two core ways of writing a loop, while and for. If you’re looking for a tradition loop, opt for the while loop. Meanwhile, if you have some sequence or iterable to traverse, opt for the for loop. If you find a scenario which gets messy with a loop (e.g. tree traversal), don’t be afraid to fall back on recursion.\n",
    "\n",
    "## Problem Description\n",
    "When you first get into programming, you often go through a progression of different pieces of syntax. For instance, you might learn about printing and variables. Then, you might expand your knowledge into arithmetic and boolean expressions. If all goes well, you might even learn about conditionals.\n",
    "As time goes on, you might ask yourself “but, what if I want to do something repeatedly?” Luckily, most imperative programming languages have a syntax for this called looping. Essentially, we repeat a task until we satisfy some condition.\n",
    "Of course, if you’ve come from another programming language, you already know all about looping (or at least recursion). The trouble is getting used to the new syntax. Fortunately, we have several different solutions which we’ll take a look at in the next section.\n",
    "\n",
    "## Solutions\n",
    "In this section, we’ll take a look at three different ways to write a loop in Python. First, we’ll look at recursion, a functional technique. Then, we’ll dive into the two iterative techniques, while and for.\n",
    "\n",
    "## Recursion\n",
    "Before we dig into the various loop syntax in Python, I feel like it’s important to mention recursion as a concept. After all, we don’t actually need loops at all. We can get away from writing functions which reference themselves:"
   ]
  },
  {
   "cell_type": "code",
   "execution_count": 3,
   "metadata": {},
   "outputs": [],
   "source": [
    "def recurse():\n",
    "    recurse()"
   ]
  },
  {
   "cell_type": "markdown",
   "metadata": {},
   "source": [
    "In this example, we’ve written a function called recurse() which calls itself. If we run it, however, we’ll get an error:\n",
    "\n",
    "```>>> recurse()\n",
    "Traceback (most recent call last):\n",
    "  File \"<pyshell#2>\", line 1, in <module>\n",
    "    recurse()\n",
    "  File \"<pyshell#1>\", line 2, in recurse\n",
    "    recurse()\n",
    "  File \"<pyshell#1>\", line 2, in recurse\n",
    "    recurse()\n",
    "  File \"<pyshell#1>\", line 2, in recurse\n",
    "    recurse()\n",
    "  [Previous line repeated 991 more times]\n",
    "RecursionError: maximum recursion depth exceeded\n",
    "```\n",
    "Of course, this makes sense. After all, if a function calls itself, then it will call itself, then it will call itself, then it will call itself… alright, my head is spinning.\n",
    "Luckily, this is pretty easy to fix. We just need to add a condition which only calls the function under certain conditions (e.g. while the input is greater than zero):\n",
    "\n"
   ]
  },
  {
   "cell_type": "code",
   "execution_count": 7,
   "metadata": {},
   "outputs": [],
   "source": [
    "def recurse(i):\n",
    "    if i > 0:\n",
    "        recurse(i - 1)"
   ]
  },
  {
   "cell_type": "code",
   "execution_count": 9,
   "metadata": {},
   "outputs": [],
   "source": [
    "recurse(5)"
   ]
  },
  {
   "cell_type": "markdown",
   "metadata": {},
   "source": [
    "Now, if we can call this function with some number, we won’t crash:\n",
    "\n",
    "But, what is this actually doing? Well, let’s try printing something:\n",
    "\n"
   ]
  },
  {
   "cell_type": "code",
   "execution_count": 10,
   "metadata": {},
   "outputs": [],
   "source": [
    "def recurse(i):\n",
    "    print(f'Input is {i}')\n",
    "    if i > 0:\n",
    "        recurse(i - 1)"
   ]
  },
  {
   "cell_type": "code",
   "execution_count": 11,
   "metadata": {},
   "outputs": [
    {
     "name": "stdout",
     "output_type": "stream",
     "text": [
      "Input is 5\n",
      "Input is 4\n",
      "Input is 3\n",
      "Input is 2\n",
      "Input is 1\n",
      "Input is 0\n"
     ]
    }
   ],
   "source": [
    "recurse(5)"
   ]
  },
  {
   "cell_type": "code",
   "execution_count": null,
   "metadata": {},
   "outputs": [],
   "source": []
  },
  {
   "cell_type": "markdown",
   "metadata": {},
   "source": [
    "Here, we used an f-string (learn more about those here: https://therenegadecoder.com/code/how-to-format-a-string-in-python/ ) to show the input every time this function is called:\n",
    "\n",
    "```recurse(5)\n",
    "Input is 5\n",
    "Input is 4\n",
    "Input is 3\n",
    "Input is 2\n",
    "Input is 1\n",
    "Input is 0\n",
    "```\n",
    "\n",
    "Check that out! We managed to create a function which executes 6 times when we enter a 5. As you can probably imagine, this mechanism can be used to do a lot of interesting things. If you’re interested in learning more about recursion, I’ve written an article all about it.\n",
    "\n",
    "# While Loop\n",
    "With recursion out of the way, let’s talking about loops. In Python, there are two main looping mechanisms: **while** and **for**. Typically, courses cover while first because it’s simpler. If you’re familiar with if statements, a while loop looks almost exactly the same:"
   ]
  },
  {
   "cell_type": "markdown",
   "metadata": {},
   "source": [
    "```\n",
    "while condition:\n",
    "    do_thing()\n",
    "```\n",
    "\n",
    "If the condition is true, the loop body executes just like an if statement. However, after the body executes, the condition is rechecked. If the condition is still true, we drop back into the loop body once again.\n",
    "Naturally, we can write a loop which behaviors similarly to our recursion example. All we have to do is create a counter variable and count down on each iteration:\n"
   ]
  },
  {
   "cell_type": "code",
   "execution_count": 12,
   "metadata": {},
   "outputs": [
    {
     "name": "stdout",
     "output_type": "stream",
     "text": [
      "Input is 5\n",
      "Input is 4\n",
      "Input is 3\n",
      "Input is 2\n",
      "Input is 1\n",
      "Input is 0\n"
     ]
    }
   ],
   "source": [
    "i = 5\n",
    "while i >= 0:\n",
    "    print(f'Input is {i}')\n",
    "    i -= 1\n"
   ]
  },
  {
   "cell_type": "markdown",
   "metadata": {},
   "source": [
    "In this example, we create a variable called i and give it a value of 5. Then, we kick off the loop by checking if i is greater than or equal to 0. Since it is, we drop into the loop where we print “Input is 5” and decrement i. Then, the process repeats. Of course, now i is 4 instead of 5. Overall time, i will decrement until it is -1, and the loop condition will fail.\n",
    "In Python, while can be used to implement any indefinite loop. In other words, use a while loop when you don’t know how many iterations you’ll have ahead of time. For example, while loops are perfect for reading from files or prompting for input from a user. In the next section, we’ll take a look at an example of a definite loop.\n",
    "\n",
    "# For Loop\n",
    "In many imperative languages like Java, C, and Python, there is more than one way to write a loop. For example, in Java, there are at least four different loop syntaxes that I’m aware of (e.g. while, for, for each, do while). Since Python tries to keep things simple, the number of loop syntaxes are limited. As far as I know, there are only two: for and while.\n",
    "Now, for loops in Python aren’t like for loops in other languages. Instead of providing a space to track an index, they operate more like for each loops in other languages. In other words, we need something to iterate over like a list. Let’s try recreating our while loop from above:\n"
   ]
  },
  {
   "cell_type": "code",
   "execution_count": 13,
   "metadata": {},
   "outputs": [
    {
     "name": "stdout",
     "output_type": "stream",
     "text": [
      "Input is 5\n",
      "Input is 4\n",
      "Input is 3\n",
      "Input is 2\n",
      "Input is 1\n",
      "Input is 0\n"
     ]
    }
   ],
   "source": [
    "indices = [5, 4, 3, 2, 1, 0]\n",
    "for i in indices:\n",
    "    print(f'Input is {i}')\n"
   ]
  },
  {
   "cell_type": "markdown",
   "metadata": {},
   "source": [
    "To make this loop work, we had to create a list to iterate over. Clearly, this isn’t as convenient as the previous solution. Luckily, Python has a way generating these sort of iterables:"
   ]
  },
  {
   "cell_type": "code",
   "execution_count": 14,
   "metadata": {},
   "outputs": [
    {
     "name": "stdout",
     "output_type": "stream",
     "text": [
      "Input is 5\n",
      "Input is 4\n",
      "Input is 3\n",
      "Input is 2\n",
      "Input is 1\n",
      "Input is 0\n"
     ]
    }
   ],
   "source": [
    "for i in range(5, -1, -1):\n",
    "    print(f'Input is {i}')\n"
   ]
  },
  {
   "cell_type": "markdown",
   "metadata": {},
   "source": [
    "Here, we’ve created a loop which will count down from 5 to 0 just like all our other loops. To do that, we used the range() function which generates a list-like structure from the inputs provided. In this case, 5 represents the inclusive starting value, the first -1 represents the exclusive ending value, and the second -1 represents the step (i.e. how many values to skip and in what direction).\n",
    "In general, for loops are more useful for iterating over sequences like lists, strings, or generators. In other words, they don’t work exactly like for loops in other languages—not without using a special function like range().\n",
    "\n",
    "# Performance\n",
    "At this point, I’m not sure it makes sense to compare the performance of these three constructs, but I already wrote three solutions that do the same thing. In other words, we’re just begging for a comparison. To kick things off, let’s store all three of our solutions in strings:"
   ]
  },
  {
   "cell_type": "code",
   "execution_count": 36,
   "metadata": {},
   "outputs": [],
   "source": [
    "setup = \"\"\"\n",
    "i = 5\n",
    "def recurse(i):\n",
    "    # Removed print for sanity\n",
    "    if i > 0:\n",
    "        recurse(i - 1)\n",
    "\"\"\"\n",
    "\n",
    "recursion = \"\"\"\n",
    "recurse(5)\n",
    "\"\"\"\n",
    "\n",
    "while_loop = \"\"\"\n",
    "while i >= 0:\n",
    "    # Removed print for sanity\n",
    "    i -= 1\n",
    "\"\"\"\n",
    "\n",
    "for_loop = \"\"\"\n",
    "for i in range(5, -1, -1):\n",
    "    pass \n",
    "    # Removed print for sanity\n",
    "\"\"\"\n"
   ]
  },
  {
   "cell_type": "markdown",
   "metadata": {},
   "source": [
    "Then, we can run out test as follows:"
   ]
  },
  {
   "cell_type": "code",
   "execution_count": 37,
   "metadata": {},
   "outputs": [
    {
     "data": {
      "text/plain": [
       "0.9277181209999981"
      ]
     },
     "execution_count": 37,
     "metadata": {},
     "output_type": "execute_result"
    }
   ],
   "source": [
    "import timeit\n",
    "min(timeit.repeat(setup=setup, stmt=recursion))"
   ]
  },
  {
   "cell_type": "code",
   "execution_count": 38,
   "metadata": {},
   "outputs": [
    {
     "data": {
      "text/plain": [
       "0.04946071100039262"
      ]
     },
     "execution_count": 38,
     "metadata": {},
     "output_type": "execute_result"
    }
   ],
   "source": [
    "min(timeit.repeat(setup=setup, stmt=while_loop))"
   ]
  },
  {
   "cell_type": "code",
   "execution_count": 39,
   "metadata": {},
   "outputs": [
    {
     "data": {
      "text/plain": [
       "0.3845273030001408"
      ]
     },
     "execution_count": 39,
     "metadata": {},
     "output_type": "execute_result"
    }
   ],
   "source": [
    "min(timeit.repeat(setup=setup, stmt=for_loop))"
   ]
  },
  {
   "cell_type": "markdown",
   "metadata": {},
   "source": [
    "One thing I found really interesting was the performance of the while loop. Then, I realized that my test was slightly inaccurate. Specifically, I had placed the i in setup, so it became zero after the first iteration. In other words, the while loop became a glorified if statement. When I updated my setup string, here were the results:"
   ]
  },
  {
   "cell_type": "code",
   "execution_count": 40,
   "metadata": {},
   "outputs": [
    {
     "data": {
      "text/plain": [
       "0.42986836499949277"
      ]
     },
     "execution_count": 40,
     "metadata": {},
     "output_type": "execute_result"
    }
   ],
   "source": [
    "setup = \"\"\"\n",
    "def recurse(i):\n",
    "    # Removed print for sanity\n",
    "    if i > 0:\n",
    "        recurse(i - 1)\n",
    "\"\"\"\n",
    "while_loop = \"\"\"\n",
    "i = 5\n",
    "while i >= 0:\n",
    "    # Removed print for sanity\n",
    "    i -= 1\n",
    "\"\"\"\n",
    "min(timeit.repeat(setup=setup, stmt=while_loop))"
   ]
  },
  {
   "cell_type": "markdown",
   "metadata": {},
   "source": [
    "Now, that’s almost identical to the for loop—which makes sense to me. That said, I was reading some performance discussions on StackOverflow, and the for loop should be faster overall. Naturally, I had to investigate, so I updated both solutions for large numbers:"
   ]
  },
  {
   "cell_type": "code",
   "execution_count": 42,
   "metadata": {},
   "outputs": [
    {
     "data": {
      "text/plain": [
       "5.850562657999944"
      ]
     },
     "execution_count": 42,
     "metadata": {},
     "output_type": "execute_result"
    }
   ],
   "source": [
    "for_loop = \"\"\"\n",
    "for i in range(100, -1, -1):\n",
    "    pass\n",
    "    # Removed print for sanity\n",
    "\"\"\"\n",
    "min(timeit.repeat(setup=setup, stmt=for_loop))\n",
    "\n",
    "while_loop = \"\"\"\n",
    "i = 100\n",
    "while i >= 0:\n",
    "    # Removed print for sanity\n",
    "    i -= 1\n",
    "\"\"\"\n",
    "min(timeit.repeat(setup=setup, stmt=while_loop))"
   ]
  },
  {
   "cell_type": "markdown",
   "metadata": {},
   "source": [
    "Turns out that 100 was all I was willing to wait. Otherwise, this test may have taken all day. That said, even at a number this small, there’s an obvious difference in performance. Feel free to check out that discussion above for a further explanation of why.\n",
    "\n",
    "# Challenge\n",
    "Now that we know how to write a loop, let’s try something interesting. Let’s imagine we have a list of lists (aka a matrix):\n",
    "\n"
   ]
  },
  {
   "cell_type": "code",
   "execution_count": 43,
   "metadata": {},
   "outputs": [],
   "source": [
    "my_matrix = [\n",
    "    [3, 5, 2, 4],\n",
    "    [5, 9, 4, 2],\n",
    "    [1, 8, 4, 3]\n",
    "]"
   ]
  },
  {
   "cell_type": "markdown",
   "metadata": {},
   "source": [
    "And, we want to total each row (inner list) and determine the average of all rows. Using the example above, we’d get the following row totals:\n",
    "```\n",
    "my_matrix = [\n",
    "    [3, 5, 2, 4],  # 14\n",
    "    [5, 9, 4, 2],  # 20\n",
    "    [1, 8, 4, 3]   # 16\n",
    "]\n",
    "```"
   ]
  },
  {
   "cell_type": "markdown",
   "metadata": {},
   "source": [
    "Then, we’d average the totals:\n",
    "\n",
    "(14 + 20 + 16) / 3  # 16.666666666666668\n",
    "\n",
    "When we’re done, we’d report the result to the user.\n",
    "While this seems like a pretty straightforward task for us, how would we train the computer to do it? In other words, how would we use the various loop syntaxes to do this (hint: you’ll might want to nest two loops)?\n",
    "\n",
    "If you come up with a solution, drop it down below in the comments. Naturally, I’ll throw my own solution down there to get us started.\n",
    "\n",
    "A Little Recap\n",
    "With all that out of the way, let’s revisit our solutions once again:\n"
   ]
  },
  {
   "cell_type": "code",
   "execution_count": 67,
   "metadata": {},
   "outputs": [
    {
     "name": "stdout",
     "output_type": "stream",
     "text": [
      "[3, 5, 2, 4]\n",
      "14.0\n",
      "[5, 9, 4, 2]\n",
      "20.0\n",
      "[1, 8, 4, 3]\n",
      "16.0\n",
      "16.666666666666668\n"
     ]
    }
   ],
   "source": [
    "qsums = []\n",
    "for row in my_matrix:\n",
    "    print(row)\n",
    "    qsum = 0.0\n",
    "    for element in row:\n",
    "        qsum = qsum + element\n",
    "    qsums.append(qsum)\n",
    "    print(qsum)\n",
    "    avg = 0.0\n",
    "for qsum in qsums:\n",
    "    avg = avg + qsum\n",
    "print(avg/len(qsums))"
   ]
  },
  {
   "cell_type": "markdown",
   "metadata": {},
   "source": [
    "```javascript\n",
    "var s = \"JavaScript syntax highlighting\";\n",
    "alert(s);\n",
    "```\n",
    " \n",
    "```python\n",
    "s = \"Python syntax highlighting\"\n",
    "print s\n",
    "```\n",
    " \n",
    "```\n",
    "No language indicated, so no syntax highlighting. \n",
    "But let's throw in a <b>tag</b>.\n",
    "```"
   ]
  }
 ],
 "metadata": {
  "kernelspec": {
   "display_name": "Python 3",
   "language": "python",
   "name": "python3"
  },
  "language_info": {
   "codemirror_mode": {
    "name": "ipython",
    "version": 3
   },
   "file_extension": ".py",
   "mimetype": "text/x-python",
   "name": "python",
   "nbconvert_exporter": "python",
   "pygments_lexer": "ipython3",
   "version": "3.7.1"
  }
 },
 "nbformat": 4,
 "nbformat_minor": 4
}
