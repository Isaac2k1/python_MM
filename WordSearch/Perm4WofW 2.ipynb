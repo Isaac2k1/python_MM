{
 "cells": [
  {
   "cell_type": "code",
   "execution_count": 1,
   "source": [
    "# perm4WofW helper to solve Words of Wonders (German language, others possible)\n",
    "''' get German word list from\n",
    "https://www1.ids-mannheim.de/kl/projekte/methoden/derewo.html\n",
    "Rename to DeReWo.txt and store it a readable ASCII format.\n",
    "Enter the letters given in game 'Words of Wonders' as searchword\n",
    "program produces all combinations of given letters and reduces down \n",
    "to three letter words. Then all words of DeReWo are checked if they appear \n",
    "in permutations of searchword letters.'''\n",
    "\n",
    "liste = set()\n",
    "def analine(line, liste):\n",
    "    '''analine analyses line and adds words to liste. Since liste is a set\n",
    "    there is no repetition of words. Also case is changed to upper.'''\n",
    "    import re  \n",
    "    line = re.split(' ', line)[0]\n",
    "    if ' ' in line:\n",
    "        parts = re.split(' ', line)\n",
    "        liste.add(parts[0])\n",
    "\n",
    "    if '(' in line:\n",
    "        parts = re.split('\\(|\\)', line)\n",
    "        liste.add(parts[0]) # append root word\n",
    "        brackets = re.split(',',parts[1])\n",
    "        for sil in brackets:\n",
    "            liste.add(parts[0]+sil)\n",
    "\n",
    "    else:\n",
    "        if ',' in line:\n",
    "            for sil in line.split(\",\"):\n",
    "                liste.add(sil)\n",
    "        else:\n",
    "            liste.add(line)\n",
    "             \n",
    "    return liste\n",
    " \n",
    "# Ale's refactor from 2020-03-29 19h01\n",
    "import itertools\n",
    "\n",
    "def generate_words(data):\n",
    "    permutations = []\n",
    "    for i in range(len(data), 2, -1): # second parameter: length of shortest word -1\n",
    "        permutations = permutations + [''.join(p) for p in itertools.permutations(data, i)]\n",
    "    return permutations\n",
    "\n",
    "# === MAIN PROGRAM ===\n",
    "ObjRead = open(\"DeReWo.txt\", \"r\")\n",
    "print(\"start reformatting of wordlist...\")\n",
    "words = 0\n",
    "with ObjRead as textfile:\n",
    "    while True:    \n",
    "        line = textfile.readline()\n",
    "        analine(line.upper(), liste)\n",
    "#        if words < 50:\n",
    "#            print(line, liste)\n",
    "        words += 1\n",
    "        \n",
    "        if len(line) == 0:\n",
    "            break\n",
    "\n",
    "print(\"...ferdisch, found\",words,\"words\")\n",
    "ObjRead.close()\n",
    "\n",
    "data = input(\"enter your searchword:\")\n",
    "permutations = generate_words(data.upper())\n",
    "#print(permutations) # do not print 324567 words ;-)\n",
    "print(\"The string\", data, \"has\", len(permutations), \"unique combinations.\")\n",
    "\n",
    "found = 0\n",
    "found_words = []\n",
    "for word in liste: # this could be speeded-up by sorting liste for length\n",
    "    # and test only words of liste up to the length of searchword\n",
    "    if word in permutations:\n",
    "        found_words.append(word)\n",
    "print(\"There is\", len(found_words), \"words in the German dictionary.\")\n",
    "found_words.sort()\n",
    "for word in found_words:\n",
<<<<<<< HEAD
    "    print(word)\n",
    "print(found_words)\n"
   ],
   "outputs": [
    {
     "output_type": "stream",
     "name": "stdout",
     "text": [
      "start reformatting of wordlist...\n",
      "...ferdisch, found 326947 words\n",
      "The string areal has 300 unique combinations.\n",
      "There is 11 words in the German dictionary.\n",
      "AAL\n",
      "AAR\n",
      "AERA\n",
      "ALE\n",
      "ARA\n",
      "ARE\n",
      "AREAL\n",
      "LAR\n",
      "LER\n",
      "REAL\n",
      "REALA\n",
      "['AAL', 'AAR', 'AERA', 'ALE', 'ARA', 'ARE', 'AREAL', 'LAR', 'LER', 'REAL', 'REALA']\n"
     ]
    }
   ],
   "metadata": {
    "scrolled": true
   }
  },
  {
   "cell_type": "code",
   "execution_count": 2,
   "source": [
    "printed_words = []\n",
    "print(found_words)\n",
    "max_len = 0\n",
    "min_len = 999\n",
    "for word in found_words:\n",
    "    print(word, len(word))\n",
    "    if len(word) > max_len:\n",
    "        max_len = len(word)\n",
    "    if len(word) < min_len:\n",
    "        min_len = len(word)\n",
    "print(min_len,max_len)\n",
    "\n",
    "column_len = min_len \n",
    "while len(found_words) > 0:\n",
    "    for word in found_words:\n",
    "        if len(word) == column_len:\n",
    "            print(word, end=\" \")\n",
    "            print(found_words)\n",
    "            found_words.remove(word)\n",
    "            print(found_words)\n",
    "            column_len += 1\n",
    "            if column_len >= max_len:\n",
    "                column_len = min_len\n",
    "                print(\" next line\") \n"
   ],
   "outputs": [
    {
     "output_type": "stream",
     "name": "stdout",
     "text": [
      "['AAL', 'AAR', 'AERA', 'ALE', 'ARA', 'ARE', 'AREAL', 'LAR', 'LER', 'REAL', 'REALA']\n",
      "AAL 3\n",
      "AAR 3\n",
      "AERA 4\n",
      "ALE 3\n",
      "ARA 3\n",
      "ARE 3\n",
      "AREAL 5\n",
      "LAR 3\n",
      "LER 3\n",
      "REAL 4\n",
      "REALA 5\n",
      "3 5\n",
      "AAL ['AAL', 'AAR', 'AERA', 'ALE', 'ARA', 'ARE', 'AREAL', 'LAR', 'LER', 'REAL', 'REALA']\n",
      "['AAR', 'AERA', 'ALE', 'ARA', 'ARE', 'AREAL', 'LAR', 'LER', 'REAL', 'REALA']\n",
      "AERA ['AAR', 'AERA', 'ALE', 'ARA', 'ARE', 'AREAL', 'LAR', 'LER', 'REAL', 'REALA']\n",
      "['AAR', 'ALE', 'ARA', 'ARE', 'AREAL', 'LAR', 'LER', 'REAL', 'REALA']\n",
      " next line\n",
      "ARA ['AAR', 'ALE', 'ARA', 'ARE', 'AREAL', 'LAR', 'LER', 'REAL', 'REALA']\n",
      "['AAR', 'ALE', 'ARE', 'AREAL', 'LAR', 'LER', 'REAL', 'REALA']\n",
      "REAL ['AAR', 'ALE', 'ARE', 'AREAL', 'LAR', 'LER', 'REAL', 'REALA']\n",
      "['AAR', 'ALE', 'ARE', 'AREAL', 'LAR', 'LER', 'REALA']\n",
      " next line\n",
      "AAR ['AAR', 'ALE', 'ARE', 'AREAL', 'LAR', 'LER', 'REALA']\n",
      "['ALE', 'ARE', 'AREAL', 'LAR', 'LER', 'REALA']\n"
     ]
    },
    {
     "output_type": "error",
     "ename": "KeyboardInterrupt",
     "evalue": "",
     "traceback": [
      "\u001b[0;31m---------------------------------------------------------------------------\u001b[0m",
      "\u001b[0;31mKeyboardInterrupt\u001b[0m                         Traceback (most recent call last)",
      "\u001b[0;32m/var/folders/sl/mxvrkxhn22g58_y8pf064jdm0000gn/T/ipykernel_63919/2364427636.py\u001b[0m in \u001b[0;36m<module>\u001b[0;34m\u001b[0m\n\u001b[1;32m     14\u001b[0m \u001b[0;32mwhile\u001b[0m \u001b[0mlen\u001b[0m\u001b[0;34m(\u001b[0m\u001b[0mfound_words\u001b[0m\u001b[0;34m)\u001b[0m \u001b[0;34m>\u001b[0m \u001b[0;36m0\u001b[0m\u001b[0;34m:\u001b[0m\u001b[0;34m\u001b[0m\u001b[0;34m\u001b[0m\u001b[0m\n\u001b[1;32m     15\u001b[0m     \u001b[0;32mfor\u001b[0m \u001b[0mword\u001b[0m \u001b[0;32min\u001b[0m \u001b[0mfound_words\u001b[0m\u001b[0;34m:\u001b[0m\u001b[0;34m\u001b[0m\u001b[0;34m\u001b[0m\u001b[0m\n\u001b[0;32m---> 16\u001b[0;31m         \u001b[0;32mif\u001b[0m \u001b[0mlen\u001b[0m\u001b[0;34m(\u001b[0m\u001b[0mword\u001b[0m\u001b[0;34m)\u001b[0m \u001b[0;34m==\u001b[0m \u001b[0mcolumn_len\u001b[0m\u001b[0;34m:\u001b[0m\u001b[0;34m\u001b[0m\u001b[0;34m\u001b[0m\u001b[0m\n\u001b[0m\u001b[1;32m     17\u001b[0m             \u001b[0mprint\u001b[0m\u001b[0;34m(\u001b[0m\u001b[0mword\u001b[0m\u001b[0;34m,\u001b[0m \u001b[0mend\u001b[0m\u001b[0;34m=\u001b[0m\u001b[0;34m\" \"\u001b[0m\u001b[0;34m)\u001b[0m\u001b[0;34m\u001b[0m\u001b[0;34m\u001b[0m\u001b[0m\n\u001b[1;32m     18\u001b[0m             \u001b[0mprint\u001b[0m\u001b[0;34m(\u001b[0m\u001b[0mfound_words\u001b[0m\u001b[0;34m)\u001b[0m\u001b[0;34m\u001b[0m\u001b[0;34m\u001b[0m\u001b[0m\n",
      "\u001b[0;32m/var/folders/sl/mxvrkxhn22g58_y8pf064jdm0000gn/T/ipykernel_63919/2364427636.py\u001b[0m in \u001b[0;36m<module>\u001b[0;34m\u001b[0m\n\u001b[1;32m     14\u001b[0m \u001b[0;32mwhile\u001b[0m \u001b[0mlen\u001b[0m\u001b[0;34m(\u001b[0m\u001b[0mfound_words\u001b[0m\u001b[0;34m)\u001b[0m \u001b[0;34m>\u001b[0m \u001b[0;36m0\u001b[0m\u001b[0;34m:\u001b[0m\u001b[0;34m\u001b[0m\u001b[0;34m\u001b[0m\u001b[0m\n\u001b[1;32m     15\u001b[0m     \u001b[0;32mfor\u001b[0m \u001b[0mword\u001b[0m \u001b[0;32min\u001b[0m \u001b[0mfound_words\u001b[0m\u001b[0;34m:\u001b[0m\u001b[0;34m\u001b[0m\u001b[0;34m\u001b[0m\u001b[0m\n\u001b[0;32m---> 16\u001b[0;31m         \u001b[0;32mif\u001b[0m \u001b[0mlen\u001b[0m\u001b[0;34m(\u001b[0m\u001b[0mword\u001b[0m\u001b[0;34m)\u001b[0m \u001b[0;34m==\u001b[0m \u001b[0mcolumn_len\u001b[0m\u001b[0;34m:\u001b[0m\u001b[0;34m\u001b[0m\u001b[0;34m\u001b[0m\u001b[0m\n\u001b[0m\u001b[1;32m     17\u001b[0m             \u001b[0mprint\u001b[0m\u001b[0;34m(\u001b[0m\u001b[0mword\u001b[0m\u001b[0;34m,\u001b[0m \u001b[0mend\u001b[0m\u001b[0;34m=\u001b[0m\u001b[0;34m\" \"\u001b[0m\u001b[0;34m)\u001b[0m\u001b[0;34m\u001b[0m\u001b[0;34m\u001b[0m\u001b[0m\n\u001b[1;32m     18\u001b[0m             \u001b[0mprint\u001b[0m\u001b[0;34m(\u001b[0m\u001b[0mfound_words\u001b[0m\u001b[0;34m)\u001b[0m\u001b[0;34m\u001b[0m\u001b[0;34m\u001b[0m\u001b[0m\n",
      "\u001b[0;32m_pydevd_bundle/pydevd_cython.pyx\u001b[0m in \u001b[0;36m_pydevd_bundle.pydevd_cython.SafeCallWrapper.__call__\u001b[0;34m()\u001b[0m\n",
      "\u001b[0;32m_pydevd_bundle/pydevd_cython.pyx\u001b[0m in \u001b[0;36m_pydevd_bundle.pydevd_cython.PyDBFrame.trace_dispatch\u001b[0;34m()\u001b[0m\n",
      "\u001b[0;32m_pydevd_bundle/pydevd_cython.pyx\u001b[0m in \u001b[0;36m_pydevd_bundle.pydevd_cython.PyDBFrame.trace_dispatch\u001b[0;34m()\u001b[0m\n",
      "\u001b[0;32m_pydevd_bundle/pydevd_cython.pyx\u001b[0m in \u001b[0;36m_pydevd_bundle.pydevd_cython.PyDBFrame.trace_dispatch\u001b[0;34m()\u001b[0m\n",
      "\u001b[0;32m_pydevd_bundle/pydevd_cython.pyx\u001b[0m in \u001b[0;36m_pydevd_bundle.pydevd_cython.PyDBFrame.do_wait_suspend\u001b[0;34m()\u001b[0m\n",
      "\u001b[0;32m/Library/Frameworks/Python.framework/Versions/3.9/lib/python3.9/site-packages/debugpy/_vendored/pydevd/pydevd.py\u001b[0m in \u001b[0;36mdo_wait_suspend\u001b[0;34m(self, thread, frame, event, arg, exception_type)\u001b[0m\n\u001b[1;32m   1974\u001b[0m \u001b[0;34m\u001b[0m\u001b[0m\n\u001b[1;32m   1975\u001b[0m             \u001b[0;32mwith\u001b[0m \u001b[0mself\u001b[0m\u001b[0;34m.\u001b[0m\u001b[0m_threads_suspended_single_notification\u001b[0m\u001b[0;34m.\u001b[0m\u001b[0mnotify_thread_suspended\u001b[0m\u001b[0;34m(\u001b[0m\u001b[0mthread_id\u001b[0m\u001b[0;34m,\u001b[0m \u001b[0mstop_reason\u001b[0m\u001b[0;34m)\u001b[0m\u001b[0;34m:\u001b[0m\u001b[0;34m\u001b[0m\u001b[0;34m\u001b[0m\u001b[0m\n\u001b[0;32m-> 1976\u001b[0;31m                 \u001b[0mkeep_suspended\u001b[0m \u001b[0;34m=\u001b[0m \u001b[0mself\u001b[0m\u001b[0;34m.\u001b[0m\u001b[0m_do_wait_suspend\u001b[0m\u001b[0;34m(\u001b[0m\u001b[0mthread\u001b[0m\u001b[0;34m,\u001b[0m \u001b[0mframe\u001b[0m\u001b[0;34m,\u001b[0m \u001b[0mevent\u001b[0m\u001b[0;34m,\u001b[0m \u001b[0marg\u001b[0m\u001b[0;34m,\u001b[0m \u001b[0msuspend_type\u001b[0m\u001b[0;34m,\u001b[0m \u001b[0mfrom_this_thread\u001b[0m\u001b[0;34m,\u001b[0m \u001b[0mframes_tracker\u001b[0m\u001b[0;34m)\u001b[0m\u001b[0;34m\u001b[0m\u001b[0;34m\u001b[0m\u001b[0m\n\u001b[0m\u001b[1;32m   1977\u001b[0m \u001b[0;34m\u001b[0m\u001b[0m\n\u001b[1;32m   1978\u001b[0m         \u001b[0mframes_list\u001b[0m \u001b[0;34m=\u001b[0m \u001b[0;32mNone\u001b[0m\u001b[0;34m\u001b[0m\u001b[0;34m\u001b[0m\u001b[0m\n",
      "\u001b[0;32m/Library/Frameworks/Python.framework/Versions/3.9/lib/python3.9/site-packages/debugpy/_vendored/pydevd/pydevd.py\u001b[0m in \u001b[0;36m_do_wait_suspend\u001b[0;34m(self, thread, frame, event, arg, suspend_type, from_this_thread, frames_tracker)\u001b[0m\n\u001b[1;32m   2009\u001b[0m \u001b[0;34m\u001b[0m\u001b[0m\n\u001b[1;32m   2010\u001b[0m             \u001b[0mself\u001b[0m\u001b[0;34m.\u001b[0m\u001b[0mprocess_internal_commands\u001b[0m\u001b[0;34m(\u001b[0m\u001b[0;34m)\u001b[0m\u001b[0;34m\u001b[0m\u001b[0;34m\u001b[0m\u001b[0m\n\u001b[0;32m-> 2011\u001b[0;31m             \u001b[0mtime\u001b[0m\u001b[0;34m.\u001b[0m\u001b[0msleep\u001b[0m\u001b[0;34m(\u001b[0m\u001b[0;36m0.01\u001b[0m\u001b[0;34m)\u001b[0m\u001b[0;34m\u001b[0m\u001b[0;34m\u001b[0m\u001b[0m\n\u001b[0m\u001b[1;32m   2012\u001b[0m \u001b[0;34m\u001b[0m\u001b[0m\n\u001b[1;32m   2013\u001b[0m         \u001b[0mself\u001b[0m\u001b[0;34m.\u001b[0m\u001b[0mcancel_async_evaluation\u001b[0m\u001b[0;34m(\u001b[0m\u001b[0mget_current_thread_id\u001b[0m\u001b[0;34m(\u001b[0m\u001b[0mthread\u001b[0m\u001b[0;34m)\u001b[0m\u001b[0;34m,\u001b[0m \u001b[0mstr\u001b[0m\u001b[0;34m(\u001b[0m\u001b[0mid\u001b[0m\u001b[0;34m(\u001b[0m\u001b[0mframe\u001b[0m\u001b[0;34m)\u001b[0m\u001b[0;34m)\u001b[0m\u001b[0;34m)\u001b[0m\u001b[0;34m\u001b[0m\u001b[0;34m\u001b[0m\u001b[0m\n",
      "\u001b[0;31mKeyboardInterrupt\u001b[0m: "
     ]
    }
   ],
   "metadata": {}
=======
    "    print(word)"
   ]
>>>>>>> ad2185c65962aba05a6178cc0ca9dde4a8570340
  }
 ],
 "metadata": {
  "kernelspec": {
<<<<<<< HEAD
   "name": "python3",
   "display_name": "Python 3.9.1 64-bit"
=======
   "display_name": "Python 3 (ipykernel)",
   "language": "python",
   "name": "python3"
>>>>>>> ad2185c65962aba05a6178cc0ca9dde4a8570340
  },
  "language_info": {
   "codemirror_mode": {
    "name": "ipython",
    "version": 3
   },
   "file_extension": ".py",
   "mimetype": "text/x-python",
   "name": "python",
   "nbconvert_exporter": "python",
   "pygments_lexer": "ipython3",
<<<<<<< HEAD
   "version": "3.9.1"
  },
  "interpreter": {
   "hash": "aee8b7b246df8f9039afb4144a1f6fd8d2ca17a180786b69acc140d282b71a49"
=======
   "version": "3.7.3"
>>>>>>> ad2185c65962aba05a6178cc0ca9dde4a8570340
  }
 },
 "nbformat": 4,
 "nbformat_minor": 2
}