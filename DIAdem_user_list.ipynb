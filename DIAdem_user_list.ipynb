{
 "cells": [
  {
   "cell_type": "markdown",
   "metadata": {},
   "source": [
    "# Analysis of file DIAdem user list\n",
    "## Final aim \n",
    "Create user table and check if all email addresses can be associated to user names."
   ]
  },
  {
   "cell_type": "code",
   "execution_count": null,
   "metadata": {
    "scrolled": true
   },
   "outputs": [],
   "source": [
    "from array import *\n",
    "names1 = []\n",
    "users1 = []\n",
    "emails = []\n",
    "searchfor = '.abb.com'\n",
    "\n",
    "# read the source file\n",
    "FileName = 'DIAdem_loosers1.txt'\n",
    "with open(FileName, 'r') as textfile:\n",
    "    while True:    \n",
    "        next_line = textfile.readline() # reading of one or more lines in textfile\n",
    "        addresses = next_line.split(searchfor) # searchfor string is removed from results\n",
    "        for address in addresses:\n",
    "            if len(address) > 1: # an email address qualifies by having more than one charachter\n",
    "                namedomain = address.split('@')\n",
    "                domain = namedomain[1]\n",
    "                #print(namedomain)\n",
    "                fullname = namedomain[0]\n",
    "                names = fullname.split('.')\n",
    "                fullname = ''\n",
    "                i = 0\n",
    "                for name in names:\n",
    "                    if i == 0:\n",
    "                        domain += name[0:2]\n",
    "                    if i > 0:\n",
    "                        if len(name) > 1:\n",
    "                            domain += name[0:3]\n",
    "                    i += 1\n",
    "                    fullname += name.capitalize()\n",
    "                    if len(name) == 1:\n",
    "                        fullname += '.'\n",
    "                    fullname += ' '\n",
    "                #print(domain)\n",
    "                #print(fullname)\n",
    "                names1.append(fullname)\n",
    "                emails.append(address+searchfor) # append what was removed\n",
    "                users1.append(domain)\n",
    "        if len(next_line) == 0:\n",
    "            break  # EOF reached\n",
    "print(f'Total of {len(emails)} email addresses found')\n",
    "#print(names1,emails)"
   ]
  },
  {
   "cell_type": "code",
   "execution_count": null,
   "metadata": {},
   "outputs": [],
   "source": [
    "print(users1)"
   ]
  },
  {
   "cell_type": "code",
   "execution_count": null,
   "metadata": {},
   "outputs": [],
   "source": [
    "import csv\n",
    "\n",
    "with open('DIAdem_users.csv', 'w') as o:\n",
    "    writer = csv.writer(o, delimiter=',')\n",
    "    writer.writerows(zip(names1, emails, users1))"
   ]
  },
  {
   "cell_type": "code",
   "execution_count": null,
   "metadata": {},
   "outputs": [],
   "source": [
    "from array import *\n",
    "users = []\n",
    "newline = '\\n'\n",
    "#print(users1)\n",
    "# read the source file\n",
    "FileName = 'DIAdem_server_users.txt'\n",
    "with open(FileName, 'r') as textfile:\n",
    "    while True:    \n",
    "        next_line = textfile.readline()\n",
    "        next_line = next_line.split(newline)\n",
    "        #print(next_line,len(next_line))\n",
    "        if len(next_line[0]) == 0:\n",
    "            break\n",
    "        users.append(next_line[0])\n",
    "#print(users)\n",
    "print(f'totally {len(users)} users found in email list')\n",
    "for user in users:\n",
    "    if user not in users1:\n",
    "        print(f'missing {user} on server ')\n",
    "\n",
    "print(f'totally {len(users1)} users found in server users list')\n",
    "for user in users1:\n",
    "    if user not in users:\n",
    "        print(f'missing {user} in table')\n"
   ]
  },
  {
   "cell_type": "code",
   "execution_count": null,
   "metadata": {},
   "outputs": [],
   "source": []
  },
  {
   "cell_type": "code",
   "execution_count": null,
   "metadata": {},
   "outputs": [],
   "source": [
    "str = \"marco.mailand@ch.abb.comrudi.rollmops@in.abb.coma.b@in.abb.com\"\n",
    "addresses = str.split('abb.com')\n",
    "fulladdresses = []\n",
    "for address in addresses:\n",
    "    if address.find('ch'):\n",
    "        print(f'true for',address)\n",
    "        fulladdresses.append(address + 'abb.com')\n",
    "print(addresses)\n",
    "print(fulladdresses)"
   ]
  },
  {
   "cell_type": "code",
   "execution_count": null,
   "metadata": {},
   "outputs": [],
   "source": [
    "import datetime # we will use this for date objects\n",
    "\n",
    "class Person:\n",
    "\n",
    "    def __init__(self, name, surname, birthdate, address, telephone, email):\n",
    "        self.name = name\n",
    "        self.surname = surname\n",
    "        self.birthdate = birthdate\n",
    "\n",
    "        self.address = address\n",
    "        self.telephone = telephone\n",
    "        self.email = email\n",
    "\n",
    "    def age(self):\n",
    "        today = datetime.date.today()\n",
    "        age = today.year - self.birthdate.year\n",
    "\n",
    "        if today < datetime.date(today.year, self.birthdate.month, self.birthdate.day):\n",
    "            age -= 1\n",
    "\n",
    "        return age\n",
    "'''\n",
    "person = Person(\n",
    "    \"Jane\",\n",
    "    \"Doe\",\n",
    "    datetime.date(1992, 3, 12), # year, month, day\n",
    "    \"No. 12 Short Street, Greenville\",\n",
    "    \"555 456 0987\",\n",
    "    \"jane.doe@example.com\"\n",
    ")\n",
    "'''\n",
    "person = Person(\n",
    "    \"Macx\",\n",
    "    \"Milano\",\n",
    "    datetime.date(1962, 8, 3),\n",
    "    \"Bergstrasse 38b, Wettingen\",\n",
    "    \"+41 78 965 40 23\",\n",
    "    \"morris.maeder@gmail.com\"\n",
    ")\n",
    "\n",
    "print(person.name)\n",
    "print(person.surname)\n",
    "print(person.email)\n",
    "print(person.age())"
   ]
  },
  {
   "cell_type": "code",
   "execution_count": 1,
   "metadata": {},
   "outputs": [
    {
     "name": "stdout",
     "output_type": "stream",
     "text": [
      "7 / 4\n"
     ]
    }
   ],
   "source": [
    "'''\n",
    "def gcd(x, y):\n",
    "    while y != 0:\n",
    "        (x, y) = (y, x % y)\n",
    "    return x\n",
    "'''\n",
    "# https://stackoverflow.com/questions/11175131/code-for-greatest-common-divisor-in-python\n",
    "def gcd(a, b):\n",
    "    while b != 0:\n",
    "        a, b = b, a % b\n",
    "    return a\n",
    "\n",
    "class Frac:\n",
    "    def __init__(self, dividend, divisor):\n",
    "        self.dividend = dividend\n",
    "        self.divisor = divisor\n",
    "        \n",
    "    def __add__(self, other):\n",
    "        a = self.dividend * other.divisor + other.dividend * self.divisor\n",
    "        b = self.divisor * other.divisor\n",
    "        \n",
    "        c = gcd(self.divisor, other.divisor)\n",
    "        a = a // c\n",
    "        b = b // c\n",
    "        \n",
    "        return Frac(a, b)\n",
    "        \n",
    "            \n",
    "    def __str__(self):\n",
    "        return str(self.dividend) + ' / ' + str(self.divisor)\n",
    "\n",
    "\n",
    "a = Frac(1, 4)\n",
    "b = Frac(3, 2)\n",
    "\n",
    "c = a + b\n",
    "\n",
    "\n",
    "print(a + b)"
   ]
  },
  {
   "cell_type": "code",
   "execution_count": null,
   "metadata": {},
   "outputs": [],
   "source": []
  }
 ],
 "metadata": {
  "kernelspec": {
   "display_name": "Python 3",
   "language": "python",
   "name": "python3"
  },
  "language_info": {
   "codemirror_mode": {
    "name": "ipython",
    "version": 3
   },
   "file_extension": ".py",
   "mimetype": "text/x-python",
   "name": "python",
   "nbconvert_exporter": "python",
   "pygments_lexer": "ipython3",
   "version": "3.6.9"
  }
 },
 "nbformat": 4,
 "nbformat_minor": 2
}
