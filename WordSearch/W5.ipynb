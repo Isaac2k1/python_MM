{
 "cells": [
  {
   "cell_type": "code",
   "execution_count": 6,
   "metadata": {
    "scrolled": true
   },
   "outputs": [
    {
     "name": "stdout",
     "output_type": "stream",
     "text": [
      "9972\n",
      "start reading wordlist...\n",
      "List had 235886 words, found 9972 five letter words\n",
      "===== MAIN PROGRAM =====\n"
     ]
    }
   ],
   "source": [
    "# W5 is a WORDLE helper to find five letter words and search for them\n",
    "# Ale's refactor from 2020-03-29 19h01\n",
    "import itertools\n",
    "#from math import perm\n",
    "\n",
    "def generate_wordle(data):\n",
    "    permutations = []\n",
    "    for i in range(5): # assuming WORDLE uses always 5 letters\n",
    "        permutations = permutations + [''.join(p) for p in itertools.permutations(data, i)]\n",
    "    return set(permutations)\n",
    "    \n",
    "\n",
    "def display5words(foundwords, displayarray, colindexes, maxwords):\n",
    "    '''\n",
    "    foundwords contains the input list of words to be sorted into displayarray\n",
    "    displayarray is a 2D array with words sorted with first index = length\n",
    "    colindexes returns number of words of lenght\n",
    "    maxwords is highest number of words of any column\n",
    "    '''\n",
    "    displayarray = [[]]\n",
    "    colindexes = []\n",
    "    maxwords = 0\n",
    "    # Sort words according length\n",
    "    longestword = len(max(foundwords, key=len))\n",
    "    # Prepare array to store lists for each word length group\n",
    "    for i in range(longestword):\n",
    "        displayarray.append([])\n",
    "    # Append word to its word length group list\n",
    "    for word in foundwords:\n",
    "        displayarray[len(word)].append(word)\n",
    "    # Prepare table of words for column output\n",
    "    for line in displayarray:\n",
    "        len_line = len(line)\n",
    "        if len_line > 0:\n",
    "            colindexes.append(len(line[0]))\n",
    "            if maxwords < len_line:\n",
    "                maxwords = len_line\n",
    "    return foundwords, displayarray, colindexes, maxwords\n",
    "\n",
    "def analineW5(line, liste):\n",
    "    line = line.rstrip(\"\\n\")\n",
    "    if len(line) == 5:\n",
    "        liste.add(line)\n",
    "    return liste\n",
    "print(len(liste))\n",
    "\n",
    "# === PREPARE WORDLIST ===\n",
    "ObjRead = open(\"web2.txt\", \"r\")\n",
    "print(\"start reading wordlist...\")\n",
    "words5 = 0\n",
    "totalwords = 0\n",
    "liste = set()\n",
    "with ObjRead as textfile:\n",
    "    while True:\n",
    "        line = textfile.readline().upper()\n",
    "        if len(line) == 0:\n",
    "            break\n",
    "        totalwords += 1\n",
    "        analineW5(line, liste)\n",
    "\n",
    "print(\"List had\", totalwords, \"words, found\",len(liste),\"five letter words\")\n",
    "ObjRead.close()\n",
    "\n",
    "words_array = [[]]\n",
    "dict_columns = []\n",
    "\n",
    "#liste, words_array, dict_columns, max_words = \\\n",
    "#length_sort(liste, words_array, dict_columns, max_words)\n",
    "\n",
    "print('===== MAIN PROGRAM =====')\n",
    "# === MAIN PROGRAM ===\n",
    "\n",
    "colindexes = [5, 5, 5, 5, 5, 5]\n",
    "Anzeige = [[]]\n",
    "maxwords = 0\n",
    "liste, Anzeige, colindexes, maxwords = display5words(liste, Anzeige, colindexes, maxwords)\n",
    "# Enter up to 5 letters to get suggestions for WORDLE.\n",
    "\n"
   ]
  },
  {
   "cell_type": "code",
   "execution_count": null,
   "metadata": {},
   "outputs": [],
   "source": []
  }
 ],
 "metadata": {
  "kernelspec": {
   "display_name": "Python 3",
   "language": "python",
   "name": "python3"
  },
  "language_info": {
   "codemirror_mode": {
    "name": "ipython",
    "version": 3
   },
   "file_extension": ".py",
   "mimetype": "text/x-python",
   "name": "python",
   "nbconvert_exporter": "python",
   "pygments_lexer": "ipython3",
   "version": "3.6.9"
  }
 },
 "nbformat": 4,
 "nbformat_minor": 5
}
