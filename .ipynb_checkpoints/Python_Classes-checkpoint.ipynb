{
 "cells": [
  {
   "cell_type": "markdown",
   "metadata": {},
   "source": [
    "# Python classes\n",
    "Exercise given by Ale (2020-04-28)\n",
    "\n",
    "Program class to calculate the addition of two fractions with maintaining the correct result and also reduce dividend and divisor.\n",
    "\n",
    "a = 1 / 4  b = 3 / 2"
   ]
  },
  {
   "cell_type": "code",
   "execution_count": 7,
   "metadata": {},
   "outputs": [
    {
     "name": "stdout",
     "output_type": "stream",
     "text": [
      "7 / 4\n",
      "-5 / 4\n"
     ]
    }
   ],
   "source": [
    "# https://stackoverflow.com/questions/11175131/code-for-greatest-common-divisor-in-python\n",
    "'''\n",
    "def gcd(x, y):\n",
    "    while y != 0:\n",
    "        (x, y) = (y, x % y)\n",
    "    return x\n",
    "'''\n",
    "\n",
    "def gcd(a, b):\n",
    "    while b != 0:\n",
    "        a, b = b, a % b\n",
    "    return a\n",
    "\n",
    "class Frac:\n",
    "    def __init__(self, dividend, divisor):\n",
    "        self.dividend = dividend\n",
    "        self.divisor = divisor\n",
    "        \n",
    "    def __add__(self, other):\n",
    "        a = self.dividend * other.divisor + other.dividend * self.divisor\n",
    "        b = self.divisor * other.divisor\n",
    "        \n",
    "        c = gcd(self.divisor, other.divisor)\n",
    "        a = a // c\n",
    "        b = b // c\n",
    "        \n",
    "        return Frac(a, b)\n",
    "    \n",
    "    def __sub__(self, other):\n",
    "        a = self.dividend * other.divisor - other.dividend * self.divisor\n",
    "        b = self.divisor * other.divisor\n",
    "        \n",
    "        c = gcd(self.divisor, other.divisor)\n",
    "        a = a // c\n",
    "        b = b // c\n",
    "        \n",
    "        return Frac(a, b)\n",
    "    \n",
    "    def __mul__(self, other):\n",
    "        a = self.dividend * other.divisor + other.dividend * self.divisor\n",
    "        b = self.divisor * other.divisor\n",
    "        \n",
    "        c = gcd(self.divisor, other.divisor)\n",
    "        a = a // c\n",
    "        b = b // c\n",
    "        \n",
    "        return Frac(a, b)\n",
    "\n",
    "            \n",
    "    def __str__(self):\n",
    "        return str(self.dividend) + ' / ' + str(self.divisor)\n",
    "\n",
    "\n",
    "a = Frac(1, 4)\n",
    "b = Frac(3, 2)\n",
    "\n",
    "c = a + b\n",
    "\n",
    "\n",
    "print(a + b)\n",
    "print(a - b)"
   ]
  },
  {
   "cell_type": "code",
   "execution_count": 2,
   "metadata": {},
   "outputs": [
    {
     "name": "stdout",
     "output_type": "stream",
     "text": [
      "220 15\n",
      "15 10\n",
      "10 5\n",
      "5 0\n",
      "5\n"
     ]
    }
   ],
   "source": [
    "def gcd(a, b):\n",
    "    while b != 0:\n",
    "        a, b = b, a % b\n",
    "        print(a,b)\n",
    "    return a\n",
    "\n",
    "a = 15\n",
    "b = 220\n",
    "\n",
    "print(gcd(a,b))"
   ]
  }
 ],
 "metadata": {
  "kernelspec": {
   "display_name": "Python 3",
   "language": "python",
   "name": "python3"
  },
  "language_info": {
   "codemirror_mode": {
    "name": "ipython",
    "version": 3
   },
   "file_extension": ".py",
   "mimetype": "text/x-python",
   "name": "python",
   "nbconvert_exporter": "python",
   "pygments_lexer": "ipython3",
   "version": "3.7.1"
  }
 },
 "nbformat": 4,
 "nbformat_minor": 2
}
