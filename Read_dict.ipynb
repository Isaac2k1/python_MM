{
 "cells": [
  {
   "cell_type": "code",
   "execution_count": 3,
   "metadata": {},
   "outputs": [
    {
     "ename": "FileNotFoundError",
     "evalue": "[Errno 2] No such file or directory: 'DeReWo.txt'",
     "output_type": "error",
     "traceback": [
      "\u001b[0;31m---------------------------------------------------------------------------\u001b[0m",
      "\u001b[0;31mFileNotFoundError\u001b[0m                         Traceback (most recent call last)",
      "\u001b[0;32m<ipython-input-3-e3335358ea01>\u001b[0m in \u001b[0;36m<module>\u001b[0;34m\u001b[0m\n\u001b[1;32m      1\u001b[0m \u001b[0;31m# path to word list in MacOS: /usr/share/dict/web2\u001b[0m\u001b[0;34m\u001b[0m\u001b[0;34m\u001b[0m\u001b[0;34m\u001b[0m\u001b[0m\n\u001b[1;32m      2\u001b[0m \u001b[0;31m#ObjRead = open(\"/usr/share/dict/web2\", \"r\")\u001b[0m\u001b[0;34m\u001b[0m\u001b[0;34m\u001b[0m\u001b[0;34m\u001b[0m\u001b[0m\n\u001b[0;32m----> 3\u001b[0;31m \u001b[0mObjRead\u001b[0m \u001b[0;34m=\u001b[0m \u001b[0mopen\u001b[0m\u001b[0;34m(\u001b[0m\u001b[0;34m\"DeReWo.txt\"\u001b[0m\u001b[0;34m,\u001b[0m \u001b[0;34m\"r\"\u001b[0m\u001b[0;34m)\u001b[0m\u001b[0;34m\u001b[0m\u001b[0;34m\u001b[0m\u001b[0m\n\u001b[0m\u001b[1;32m      4\u001b[0m \u001b[0mprint\u001b[0m\u001b[0;34m(\u001b[0m\u001b[0;34m\"start\"\u001b[0m\u001b[0;34m)\u001b[0m\u001b[0;34m\u001b[0m\u001b[0;34m\u001b[0m\u001b[0m\n\u001b[1;32m      5\u001b[0m \u001b[0mwords\u001b[0m \u001b[0;34m=\u001b[0m \u001b[0;34m{\u001b[0m\u001b[0;34m}\u001b[0m\u001b[0;34m\u001b[0m\u001b[0;34m\u001b[0m\u001b[0m\n",
      "\u001b[0;31mFileNotFoundError\u001b[0m: [Errno 2] No such file or directory: 'DeReWo.txt'"
     ]
    }
   ],
   "source": [
    "import re\n",
    "\n",
    "def analine(line, dictionary):\n",
    "    #print(line)\n",
    "    if ' ' in line:\n",
    "        #print(\"space\")\n",
    "        parts = re.split(' ',line)\n",
    "        #print(parts[0])\n",
    "\n",
    "    if '(' in parts[0]:\n",
    "        #print(\"open(\")\n",
    "        parts = re.split('\\(|\\)',parts[0])\n",
    "        dictionary.add(parts[0]) # append root word to list\n",
    "        #print(\"parts\",parts)\n",
    "        inbrak = re.split(',',parts[1])\n",
    "        for sil in inbrak:\n",
    "            #print(\"sil\",sil)\n",
    "            dictionary.add(parts[0]+sil)\n",
    "    else:\n",
    "        if ',' in parts[0]:\n",
    "            for word in re.split(',',parts[0]):\n",
    "                dictionary.add(word)\n",
    "        else:\n",
    "            dictionary.add(parts[0])\n",
    "\n",
    "    return(dictionary)\n",
    "\n",
    "\n",
    "# path to word list in MacOS: /usr/share/dict/web2\n",
    "#ObjRead = open(\"/usr/share/dict/web2\", \"r\")\n",
    "ObjRead = open(\"DeReWo.txt\", \"r\")\n",
    "print(\"start\")\n",
    "words = {}\n",
    "with ObjRead as textfile:\n",
    "    while True:    \n",
    "        next_line = textfile.readline()\n",
    "        analine(next_line,words)\n",
    "#ObjRead = open(\"web2.txt\", \"r\")\n",
    "#ObjRead = open(\"./derewo-v-ww-bll-320000g-2012-12-31-1.0/derewo-v-ww-bll-320000g-2012-12-31-1.0.txt\", \"r\")\n",
    "#ObjRead = open(\"web3.txt\", \"r\")\n",
    "ObjRead = open(\"derewo.txt\", \"r\")\n",
    "print(\"start\")\n",
    "words = 0\n",
    "wordlist = set()\n",
    "with ObjRead as textfile:\n",
    "    while True:    \n",
    "        line = textfile.readline() \n",
    "        line = line.upper()\n",
    "        if len(line) == 0:\n",
    "            break\n",
    "        analine(line, wordlist)\n",
    "        if words < 50:\n",
    "            print(line, wordlist)\n",
    "        words += 1\n",
    "        \n",
    "        if len(next_line) == 0:\n",
    "            break\n",
    "\n",
    "print(\"ferdisch\")\n",
    "ObjRead.close()\n"
   ]
  },
  {
   "cell_type": "code",
   "execution_count": null,
   "metadata": {},
   "outputs": [],
   "source": []
  }
 ],
 "metadata": {
  "kernelspec": {
   "display_name": "Python 3",
   "language": "python",
   "name": "python3"
  },
  "language_info": {
   "codemirror_mode": {
    "name": "ipython",
    "version": 3
   },
   "file_extension": ".py",
   "mimetype": "text/x-python",
   "name": "python",
   "nbconvert_exporter": "python",
   "pygments_lexer": "ipython3",
   "version": "3.6.9"
  }
 },
 "nbformat": 4,
 "nbformat_minor": 4
}
