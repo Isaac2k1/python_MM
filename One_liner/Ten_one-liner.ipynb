{
 "cells": [
  {
   "cell_type": "markdown",
   "metadata": {},
   "source": [
    "# Trick 1/10\n",
    "Do you like \"before-and-after\" case studies like in those shows where the nerd gets a new set of clothing and becomes the cool kid in town?\n",
    "\n",
    "Today, you're looking at a special before-and-after case study: how to beautify a Python code snippet.\n",
    "\n",
    "Let's say you have this code to find all top earners from a dictionary of employee salary data:\n"
   ]
  },
  {
   "cell_type": "code",
   "execution_count": 2,
   "metadata": {},
   "outputs": [
    {
     "name": "stdout",
     "output_type": "stream",
     "text": [
      "{'Alice': 100000, 'Bob': 99817, 'Carol': 122908, 'Frank': 88123, 'Eve': 93121}\n",
      "[('Alice', 100000), ('Carol', 122908)]\n"
     ]
    },
    {
     "ename": "NameError",
     "evalue": "name 'dic' is not defined",
     "output_type": "error",
     "traceback": [
      "\u001b[0;31m---------------------------------------------------------------------------\u001b[0m",
      "\u001b[0;31mNameError\u001b[0m                                 Traceback (most recent call last)",
      "\u001b[0;32m~/tmp/ipykernel_19733/4143748626.py\u001b[0m in \u001b[0;36m<module>\u001b[0;34m\u001b[0m\n\u001b[1;32m     22\u001b[0m \u001b[0;34m\u001b[0m\u001b[0m\n\u001b[1;32m     23\u001b[0m \u001b[0;31m# What are the top earners earning over $100k per month?\u001b[0m\u001b[0;34m\u001b[0m\u001b[0;34m\u001b[0m\u001b[0;34m\u001b[0m\u001b[0m\n\u001b[0;32m---> 24\u001b[0;31m \u001b[0mres\u001b[0m \u001b[0;34m=\u001b[0m \u001b[0;34m[\u001b[0m\u001b[0;34m(\u001b[0m\u001b[0mk\u001b[0m\u001b[0;34m,\u001b[0m\u001b[0mv\u001b[0m\u001b[0;34m)\u001b[0m \u001b[0;32mfor\u001b[0m \u001b[0mk\u001b[0m\u001b[0;34m,\u001b[0m\u001b[0mv\u001b[0m \u001b[0;32min\u001b[0m \u001b[0mdic\u001b[0m\u001b[0;34m.\u001b[0m\u001b[0mitems\u001b[0m\u001b[0;34m(\u001b[0m\u001b[0;34m)\u001b[0m \u001b[0;32mif\u001b[0m \u001b[0mv\u001b[0m\u001b[0;34m>=\u001b[0m\u001b[0;36m100000\u001b[0m\u001b[0;34m]\u001b[0m\u001b[0;34m\u001b[0m\u001b[0;34m\u001b[0m\u001b[0m\n\u001b[0m\u001b[1;32m     25\u001b[0m \u001b[0;34m\u001b[0m\u001b[0m\n\u001b[1;32m     26\u001b[0m \u001b[0;31m# You use list comprehension to extract all employees who earn at least $100,000.\u001b[0m\u001b[0;34m\u001b[0m\u001b[0;34m\u001b[0m\u001b[0;34m\u001b[0m\u001b[0m\n",
      "\u001b[0;31mNameError\u001b[0m: name 'dic' is not defined"
     ]
    }
   ],
   "source": [
    "# Create employees dictionary of salaries\n",
    "employees = {'Alice' : 100000,\n",
    "             'Bob' : 99817,\n",
    "             'Carol' : 122908,\n",
    "             'Frank' : 88123,\n",
    "             'Eve' : 93121}\n",
    "print(employees)\n",
    "\n",
    "# What are the top earners earning over\n",
    "# $100k per month?\n",
    "top_earners = []\n",
    "for key, val in employees.items():\n",
    "    if val >= 100000:\n",
    "        top_earners.append((key,val))\n",
    "\n",
    "# Print everything\n",
    "print(top_earners)\n",
    "# [('Alice', 100000), ('Carol', 122908)]\n",
    "\n",
    "# Four lines of code just to extract the top earners! Can we do better?\n",
    "# Let's have a look at the Python One-Liner that makes this more readable and more beautiful!\n",
    "\n",
    "# What are the top earners earning over $100k per month?\n",
    "res = [(k,v) for k,v in dic.items() if v>=100000]\n",
    "\n",
    "# You use list comprehension to extract all employees who earn at least $100,000.\n",
    "# Check out my video where I explain the one-liner to you in a step-by-step manner."
   ]
  },
  {
   "cell_type": "markdown",
   "metadata": {},
   "source": [
    "# Trick 2/10¶\n",
    "In today's tutorial, you'll learn how to read a file and strip the leading and trailing whitespaces and store everything in a list of strings---all of this in a single line of code.\n",
    "\n",
    "But first, let's dive into the less concise and less Pythonic \"ordinary\" way of reading files...\n",
    "\n",
    "MULTIPLE LINES: How to read a file and strip whitespaces?\n",
    "\n",
    "Here's the normal version (assume that this code is stored in a file named 'readFileDefault.py'):\n",
    "\n",
    "## How to read a file in Python"
   ]
  },
  {
   "cell_type": "code",
   "execution_count": null,
   "metadata": {},
   "outputs": [],
   "source": [
    "filename = \"readFileDefault.py\" # this code\n",
    "f = open(filename)\n",
    "lines = []\n",
    "for line in f:\n",
    "    lines.append(line.strip())\n",
    "print(lines)"
   ]
  },
  {
   "cell_type": "markdown",
   "metadata": {},
   "source": [
    "# This is the output:"
   ]
  },
  {
   "cell_type": "code",
   "execution_count": null,
   "metadata": {},
   "outputs": [],
   "source": [
    "['filename = \"readFileDefault.py\" # this code',\n",
    " '', '',\n",
    " 'f = open(filename)',\n",
    " 'lines = []',\n",
    " 'for line in f:',\n",
    " 'lines.append(line.strip())',\n",
    " '', '',\n",
    " 'print(lines)']\n",
    " "
   ]
  },
  {
   "cell_type": "markdown",
   "metadata": {},
   "source": [
    "A lot of code---just to do some basic file I/O! The variable lines contains all lines with leading and trailing whitespaces removed.\n",
    "\n",
    "ONE-LINER\n",
    "\n",
    "Let's apply your one-liner superpower to this code snippet:\n",
    "\n",
    "print([l.strip() for l in open(\"file.py\")])\n",
    "That's it! You use list comprehension to iterate over the contents of the dynamically created file object. \n",
    "# This is the output:\n",
    "['print([l.strip() for l in open(\"file.py\")])']\n",
    "\n",
    "\n",
    "Check out my video where I explain the one-liner to you in a step-by-step manner."
   ]
  },
  {
   "cell_type": "code",
   "execution_count": null,
   "metadata": {},
   "outputs": [],
   "source": []
  }
 ],
 "metadata": {
  "kernelspec": {
   "display_name": "Python 3 (ipykernel)",
   "language": "python",
   "name": "python3"
  },
  "language_info": {
   "codemirror_mode": {
    "name": "ipython",
    "version": 3
   },
   "file_extension": ".py",
   "mimetype": "text/x-python",
   "name": "python",
   "nbconvert_exporter": "python",
   "pygments_lexer": "ipython3",
   "version": "3.9.2+"
  }
 },
 "nbformat": 4,
 "nbformat_minor": 2
}
