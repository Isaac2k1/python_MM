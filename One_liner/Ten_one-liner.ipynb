{
 "cells": [
  {
   "cell_type": "markdown",
   "metadata": {},
   "source": [
    "# Trick 1/10\n",
    "Do you like \"before-and-after\" case studies like in those shows where the nerd gets a new set of clothing and becomes the cool kid in town?\n",
    "\n",
    "Today, you're looking at a special before-and-after case study: how to beautify a Python code snippet.\n",
    "\n",
    "Let's say you have this code to find all top earners from a dictionary of employee salary data:\n"
   ]
  },
  {
   "cell_type": "code",
   "execution_count": 2,
   "metadata": {},
   "outputs": [
    {
     "name": "stdout",
     "output_type": "stream",
     "text": [
      "{'Alice': 100000, 'Bob': 99817, 'Carol': 122908, 'Frank': 88123, 'Eve': 93121}\n",
      "[('Alice', 100000), ('Carol', 122908)]\n"
     ]
    },
    {
     "ename": "NameError",
     "evalue": "name 'dic' is not defined",
     "output_type": "error",
     "traceback": [
      "\u001b[0;31m---------------------------------------------------------------------------\u001b[0m",
      "\u001b[0;31mNameError\u001b[0m                                 Traceback (most recent call last)",
      "\u001b[0;32m~/tmp/ipykernel_19733/4143748626.py\u001b[0m in \u001b[0;36m<module>\u001b[0;34m\u001b[0m\n\u001b[1;32m     22\u001b[0m \u001b[0;34m\u001b[0m\u001b[0m\n\u001b[1;32m     23\u001b[0m \u001b[0;31m# What are the top earners earning over $100k per month?\u001b[0m\u001b[0;34m\u001b[0m\u001b[0;34m\u001b[0m\u001b[0;34m\u001b[0m\u001b[0m\n\u001b[0;32m---> 24\u001b[0;31m \u001b[0mres\u001b[0m \u001b[0;34m=\u001b[0m \u001b[0;34m[\u001b[0m\u001b[0;34m(\u001b[0m\u001b[0mk\u001b[0m\u001b[0;34m,\u001b[0m\u001b[0mv\u001b[0m\u001b[0;34m)\u001b[0m \u001b[0;32mfor\u001b[0m \u001b[0mk\u001b[0m\u001b[0;34m,\u001b[0m\u001b[0mv\u001b[0m \u001b[0;32min\u001b[0m \u001b[0mdic\u001b[0m\u001b[0;34m.\u001b[0m\u001b[0mitems\u001b[0m\u001b[0;34m(\u001b[0m\u001b[0;34m)\u001b[0m \u001b[0;32mif\u001b[0m \u001b[0mv\u001b[0m\u001b[0;34m>=\u001b[0m\u001b[0;36m100000\u001b[0m\u001b[0;34m]\u001b[0m\u001b[0;34m\u001b[0m\u001b[0;34m\u001b[0m\u001b[0m\n\u001b[0m\u001b[1;32m     25\u001b[0m \u001b[0;34m\u001b[0m\u001b[0m\n\u001b[1;32m     26\u001b[0m \u001b[0;31m# You use list comprehension to extract all employees who earn at least $100,000.\u001b[0m\u001b[0;34m\u001b[0m\u001b[0;34m\u001b[0m\u001b[0;34m\u001b[0m\u001b[0m\n",
      "\u001b[0;31mNameError\u001b[0m: name 'dic' is not defined"
     ]
    }
   ],
   "source": [
    "# Create employees dictionary of salaries\n",
    "employees = {'Alice' : 100000,\n",
    "             'Bob' : 99817,\n",
    "             'Carol' : 122908,\n",
    "             'Frank' : 88123,\n",
    "             'Eve' : 93121}\n",
    "print(employees)\n",
    "\n",
    "# What are the top earners earning over\n",
    "# $100k per month?\n",
    "top_earners = []\n",
    "for key, val in employees.items():\n",
    "    if val >= 100000:\n",
    "        top_earners.append((key,val))\n",
    "\n",
    "# Print everything\n",
    "print(top_earners)\n",
    "# [('Alice', 100000), ('Carol', 122908)]\n",
    "\n",
    "# Four lines of code just to extract the top earners! Can we do better?\n",
    "# Let's have a look at the Python One-Liner that makes this more readable and more beautiful!\n",
    "\n",
    "# What are the top earners earning over $100k per month?\n",
    "res = [(k,v) for k,v in dic.items() if v>=100000]\n",
    "\n",
    "# You use list comprehension to extract all employees who earn at least $100,000.\n",
    "# Check out my video where I explain the one-liner to you in a step-by-step manner."
   ]
  },
  {
   "cell_type": "markdown",
   "metadata": {},
   "source": [
    "# Trick 2/10¶\n",
    "In today's tutorial, you'll learn how to read a file and strip the leading and trailing whitespaces and store everything in a list of strings---all of this in a single line of code.\n",
    "\n",
    "But first, let's dive into the less concise and less Pythonic \"ordinary\" way of reading files...\n",
    "\n",
    "MULTIPLE LINES: How to read a file and strip whitespaces?\n",
    "\n",
    "Here's the normal version (assume that this code is stored in a file named 'readFileDefault.py'):\n",
    "\n",
    "## How to read a file in Python"
   ]
  },
  {
   "cell_type": "code",
   "execution_count": null,
   "metadata": {},
   "outputs": [],
   "source": [
    "filename = \"readFileDefault.py\" # this code\n",
    "f = open(filename)\n",
    "lines = []\n",
    "for line in f:\n",
    "    lines.append(line.strip())\n",
    "print(lines)"
   ]
  },
  {
   "cell_type": "markdown",
   "metadata": {},
   "source": [
    "# This is the output:"
   ]
  },
  {
   "cell_type": "code",
   "execution_count": null,
   "metadata": {},
   "outputs": [],
   "source": [
    "['filename = \"readFileDefault.py\" # this code',\n",
    " '', '',\n",
    " 'f = open(filename)',\n",
    " 'lines = []',\n",
    " 'for line in f:',\n",
    " 'lines.append(line.strip())',\n",
    " '', '',\n",
    " 'print(lines)']\n",
    " "
   ]
  },
  {
   "cell_type": "markdown",
   "metadata": {},
   "source": [
    "A lot of code---just to do some basic file I/O! The variable lines contains all lines with leading and trailing whitespaces removed.\n",
    "\n",
    "ONE-LINER\n",
    "\n",
    "Let's apply your one-liner superpower to this code snippet:\n",
    "\n",
    "print([l.strip() for l in open(\"file.py\")])\n",
    "That's it! You use list comprehension to iterate over the contents of the dynamically created file object. \n",
    "# This is the output:\n",
    "['print([l.strip() for l in open(\"file.py\")])']\n",
    "\n",
    "\n",
    "Check out my video where I explain the one-liner to you in a step-by-step manner."
   ]
  },
  {
   "cell_type": "markdown",
   "metadata": {},
   "source": [
    "# Trick 3/10\n",
    "When given a list of strings, our next one-liner creates a new list of tuples, each consisting of a Boolean and the original string.\n",
    "\n",
    "The Boolean value indicates whether the string 'anonymous' appears in the original string!\n",
    "\n",
    "Here's the sample code:\n",
    "\n",
    "## Data"
   ]
  },
  {
   "cell_type": "code",
   "execution_count": 11,
   "metadata": {},
   "outputs": [
    {
     "name": "stdout",
     "output_type": "stream",
     "text": [
      "['lambda functions are anonymous functions.', 'anonymous functions dont have a name.', 'functions are objects in Python.']\n"
     ]
    }
   ],
   "source": [
    "t = ['lambda functions are anonymous functions.',\n",
    "     'anonymous functions dont have a name.',\n",
    "     'functions are objects in Python.']\n",
    "q = 'anonymous' # query\n",
    "print(t)"
   ]
  },
  {
   "cell_type": "markdown",
   "metadata": {},
   "source": [
    "## One-Liner"
   ]
  },
  {
   "cell_type": "code",
   "execution_count": 8,
   "metadata": {},
   "outputs": [],
   "source": [
    "mark = map(lambda s: (1, s) if q in s else (0, s), t)"
   ]
  },
  {
   "cell_type": "markdown",
   "metadata": {},
   "source": [
    "## Result"
   ]
  },
  {
   "cell_type": "code",
   "execution_count": 9,
   "metadata": {},
   "outputs": [
    {
     "name": "stdout",
     "output_type": "stream",
     "text": [
      "[(1, 'lambda functions are anonymous functions.'), (1, 'anonymous functions dont have a name.'), (0, 'functions are objects in Python.')]\n"
     ]
    }
   ],
   "source": [
    "print(list(mark))"
   ]
  },
  {
   "cell_type": "markdown",
   "metadata": {},
   "source": [
    "We call the resulting list mark because the Boolean values mark the string elements in the list that contain the string 'anonymous'.\n",
    "\n",
    "The map() function adds a Boolean value to each string element in the original txt list. This Boolean isTrue if the string element contains the word 'anonymous'. The first argument is the anonymous lambda function, and the second is a list of strings you want to check for the desired string.\n",
    "\n",
    "You use the lambda return expression (1, s) if 'anonymous' in s else (0, s) to search for the 'anonymous' string. The value s is the input argument of the lambda function, which, in this example, is a string.\n",
    "\n",
    "If the string query 'anonymous' exists in the string, the expression returns the tuple (1, s). Otherwise, it returns the tuple (0, s).\n",
    "\n",
    "The result of the one-liner is the following:\n",
    "\n",
    "## Result"
   ]
  },
  {
   "cell_type": "code",
   "execution_count": 10,
   "metadata": {},
   "outputs": [
    {
     "name": "stdout",
     "output_type": "stream",
     "text": [
      "[]\n"
     ]
    }
   ],
   "source": [
    "print(list(mark))"
   ]
  },
  {
   "cell_type": "markdown",
   "metadata": {},
   "source": [
    "[(1, 'lambda functions are anonymous functions.'),\n",
    "(1, 'anonymous functions dont have a name.'),\n",
    "(0, 'functions are objects in Python.')]"
   ]
  },
  {
   "cell_type": "markdown",
   "metadata": {},
   "source": [
    "# Trick 4/10\n",
    "This one-liner teaches you some critical Python skills: \n",
    "\n",
    "slicing, \n",
    "the ternary operator, and \n",
    "the string find() method.\n",
    "Problem Description\n",
    "\n",
    "Your goal is to find a particular text query within a multiline string. You want to find the query in the text and return its immediate environment, up to 18 positions around the matching query string.\n",
    "\n",
    "You may ask - why? - and rightly so! \n",
    "\n",
    "Extracting the environment of the query is useful for search context—just as the Google search engine presents text snippets around a found keyword. \n",
    "\n",
    "Solution\n",
    "\n",
    "In the following code example, you’re looking for the string 'SQL' in an Amazon letter to shareholders—with the immediate environment of up to 18 positions around the string 'SQL'.\n",
    "\n",
    "Here's the one-liner solution:\n",
    "\n",
    "## Data\n",
    "letters_amazon = '''\n",
    "We spent several years building our own database engine,\n",
    "Amazon Aurora, a fully-managed MySQL and PostgreSQL-compatible\n",
    "service with the same or better durability and availability as\n",
    "the commercial engines, but at one-tenth of the cost. We were\n",
    "not surprised when this worked.\n",
    "'''\n",
    "## One-Liner\n",
    "find = lambda txt, q: txt[txt.find(q)-18:txt.find(q)+18]\n",
    "## Result\n",
    "print(find(letters_amazon, 'SQL'))\n",
    "## a fully-managed MySQL and PostgreSQL\n",
    "\n",
    "\n",
    "You define a lambda function with two arguments: string value x, and query q to search for in the text. \n",
    "\n",
    "You assign the lambda function to the name find. The function find(x, q) finds the string query q in the string text x.\n",
    "\n",
    "If query q does not appear in string x, you directly return the result -1. \n",
    "\n",
    "Otherwise, you use slicing on the text string to carve out the first occurrence of the query, plus 18 characters to the left of the query and 18 characters to the right, to capture the query’s environment.\n",
    "\n",
    "The index of the first occurrence of q in x uses the string function x.find(q). You call the function twice: to help determine the start index and the stop index of the slice, but both function calls return the same value because query q and string x do not change.\n",
    "\n",
    "## Discussion\n",
    "\n",
    "Although this code works perfectly fine, the redundant function call causes unnecessary computations—a disadvantage that could easily be fixed by adding a helper variable to temporarily store the result of the first function call. You could then reuse the result from the first function call by accessing the value in the helper variable.\n",
    "\n",
    "This highlights an important trade-off: by restricting yourself to one line of code, you cannot define and reuse a helper variable to store the index of the first occurrence of the query. Instead, you must execute the same function find to compute the start index (and decrement the result by 18 index positions) and to compute the end index (and increment the result by 18 index positions).\n",
    "\n",
    "## Video\n",
    "\n",
    "If you struggled with understanding this one-liner code, check out my explainer video:"
   ]
  },
  {
   "cell_type": "code",
   "execution_count": null,
   "metadata": {},
   "outputs": [],
   "source": []
  }
 ],
 "metadata": {
  "kernelspec": {
   "display_name": "Python 3 (ipykernel)",
   "language": "python",
   "name": "python3"
  },
  "language_info": {
   "codemirror_mode": {
    "name": "ipython",
    "version": 3
   },
   "file_extension": ".py",
   "mimetype": "text/x-python",
   "name": "python",
   "nbconvert_exporter": "python",
   "pygments_lexer": "ipython3",
   "version": "3.9.2+"
  }
 },
 "nbformat": 4,
 "nbformat_minor": 2
}
